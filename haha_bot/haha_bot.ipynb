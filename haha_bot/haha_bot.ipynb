{
  "nbformat": 4,
  "nbformat_minor": 0,
  "metadata": {
    "colab": {
      "provenance": [],
      "toc_visible": true
    },
    "kernelspec": {
      "name": "python3",
      "display_name": "Python 3"
    },
    "language_info": {
      "name": "python"
    }
  },
  "cells": [
    {
      "cell_type": "code",
      "source": [
        "!pip install telebot\n"
      ],
      "metadata": {
        "colab": {
          "base_uri": "https://localhost:8080/"
        },
        "id": "oxE8Tc4E4L1w",
        "outputId": "b1f47d5e-a3d8-4621-b15b-e295379aeb85"
      },
      "execution_count": 2,
      "outputs": [
        {
          "output_type": "stream",
          "name": "stdout",
          "text": [
            "Collecting telebot\n",
            "  Downloading telebot-0.0.5-py3-none-any.whl (4.8 kB)\n",
            "Collecting pyTelegramBotAPI (from telebot)\n",
            "  Downloading pytelegrambotapi-4.16.1-py3-none-any.whl (232 kB)\n",
            "\u001b[2K     \u001b[90m━━━━━━━━━━━━━━━━━━━━━━━━━━━━━━━━━━━━━━━━\u001b[0m \u001b[32m232.2/232.2 kB\u001b[0m \u001b[31m5.0 MB/s\u001b[0m eta \u001b[36m0:00:00\u001b[0m\n",
            "\u001b[?25hRequirement already satisfied: requests in /usr/local/lib/python3.10/dist-packages (from telebot) (2.31.0)\n",
            "Requirement already satisfied: charset-normalizer<4,>=2 in /usr/local/lib/python3.10/dist-packages (from requests->telebot) (3.3.2)\n",
            "Requirement already satisfied: idna<4,>=2.5 in /usr/local/lib/python3.10/dist-packages (from requests->telebot) (3.6)\n",
            "Requirement already satisfied: urllib3<3,>=1.21.1 in /usr/local/lib/python3.10/dist-packages (from requests->telebot) (2.0.7)\n",
            "Requirement already satisfied: certifi>=2017.4.17 in /usr/local/lib/python3.10/dist-packages (from requests->telebot) (2024.2.2)\n",
            "Installing collected packages: pyTelegramBotAPI, telebot\n",
            "Successfully installed pyTelegramBotAPI-4.16.1 telebot-0.0.5\n"
          ]
        }
      ]
    },
    {
      "cell_type": "code",
      "source": [
        "from google.colab import drive\n",
        "drive.mount('/content/drive')"
      ],
      "metadata": {
        "colab": {
          "base_uri": "https://localhost:8080/"
        },
        "id": "bgsm2KhrN2Mt",
        "outputId": "b0287222-c50a-48ef-c4c1-1439cfc11db8"
      },
      "execution_count": 3,
      "outputs": [
        {
          "output_type": "stream",
          "name": "stdout",
          "text": [
            "Mounted at /content/drive\n"
          ]
        }
      ]
    },
    {
      "cell_type": "code",
      "source": [
        "import pandas as pd"
      ],
      "metadata": {
        "id": "HPnLa6_ZU6PJ"
      },
      "execution_count": 4,
      "outputs": []
    },
    {
      "cell_type": "code",
      "source": [
        "import json\n",
        "import gzip\n",
        "\n",
        "data = []\n",
        "i = 0\n",
        "\n",
        "with gzip.open(\"/content/drive/MyDrive/hahaha/names_salary_preparing.json.gz\", 'rt') as f:\n",
        "  if i < 5000:\n",
        "    for line in f:\n",
        "        i+=1\n",
        "        item = json.loads(line.strip())\n",
        "        data.append(item)\n"
      ],
      "metadata": {
        "id": "uodYYzO3T7cw"
      },
      "execution_count": 5,
      "outputs": []
    },
    {
      "cell_type": "code",
      "source": [
        "data[0]"
      ],
      "metadata": {
        "colab": {
          "base_uri": "https://localhost:8080/"
        },
        "id": "QXY222fPNqlO",
        "outputId": "884787a3-5753-47d0-8b9b-142977870d54"
      },
      "execution_count": 5,
      "outputs": [
        {
          "output_type": "execute_result",
          "data": {
            "text/plain": [
              "{'vacancy_id': 'v_862116',\n",
              " 'name': 'Смотритель музейный',\n",
              " 'description': '<strong>Обязанности:</strong> <ul> <li>Осуществлять контроль за соблюдением посетителями правил поведения в музее</li> <li>При возникновении угрозы повреждения или кражи музейных предметов информировать руководство музея</li> </ul> <strong>Требования:</strong> <ul> <li>образование средне-специальное или высшее</li> <li>музейное дело, культурология</li> </ul> <strong>Условия:</strong> <ul> <li>Выходные: 2 дня. График с 09:00 до 18:00, по четвергам с 11:00 до 20:00</li> <li>Обед скользящий</li> </ul>',\n",
              " 'compensation_from': 16500.0,\n",
              " 'compensation_to': None}"
            ]
          },
          "metadata": {},
          "execution_count": 5
        }
      ]
    },
    {
      "cell_type": "code",
      "source": [
        "df = pd.DataFrame(data)\n"
      ],
      "metadata": {
        "id": "5WiUGhthWrZc"
      },
      "execution_count": 6,
      "outputs": []
    },
    {
      "cell_type": "code",
      "source": [
        "current_vacancy = 'v_2597196'\n",
        "str(vacancies.query('vacancy_id == @current_vacancy')['description'].values)"
      ],
      "metadata": {
        "colab": {
          "base_uri": "https://localhost:8080/",
          "height": 482
        },
        "id": "OABvlaLPWu21",
        "outputId": "ba19287c-c813-413e-dbf1-a163e3acb5ff"
      },
      "execution_count": 15,
      "outputs": [
        {
          "output_type": "execute_result",
          "data": {
            "text/plain": [
              "\"['<p><em>Открыта вакансия <strong>Инженер по ОТ и ПБ </strong>в компании Перспектива – российская торговая FMCG (товары повседневного спроса) компания в категории безалкогольные и слабоалкогольные напитки, специализирующаяся на оптово-розничных продажах.</em></p> <p><strong>Обязанности:</strong></p> <ul> <li>Осуществление контроля за соблюдением законодательных и иных нормативно-правовых актов по охране труда</li> <li>Разработка мероприятий по предупреждению профессиональных заболеваний и несчастных случаев</li> <li>Работа с нормативно-технологической документацией (положение об организации работы по ОТ, ТБ и ПБ; положение о комиссиях по ОТ и ПБ; технологические карты по безопасной работе оборудования и т.д.)</li> <li>Ведение необходимой документации по охране труда, пожарной безопасности</li> <li>Участие в работе комиссии по проверке знаний требований охраны труда, аттестации рабочих мест</li> <li>Проведение проверок тех. состояния оборудования, механизмов, определение их соответствия требованиям нормативно-правовых актов по ОТ</li> <li>Качественное организация и проведение всех видов инструктажей и обучения работников</li> </ul> <p><strong>Требования:</strong></p> <ul> <li>Высшее техническое образование (профильное)</li> <li>Опыт работы от 5 лет в аналогичной должности</li> <li>Опыт участия в расследования несчастных случаев</li> <li>Умение пользоваться правовыми базами, знание ПК на уровне уверенного пользователя, приветствуются собственные наработки в части охраны труда</li> <li>Взаимодействие с контролирующими органами (Роспотребнадзор, РАР и пр.)</li> <li>Ответственность, активность, результативность</li> </ul> <p><strong>Условия:</strong></p> <ul> <li>Оформление по ТК РФ;</li> <li>График работы: 5/2 с 9.00 до 18.00;</li> <li>Компенсация моб.связи;</li> <li>ДМС;</li> <li>Корпоративный транспорт от м.Алтуфьево (10 мин. в пути) и м.Медведково</li> </ul>']\""
            ],
            "application/vnd.google.colaboratory.intrinsic+json": {
              "type": "string"
            }
          },
          "metadata": {},
          "execution_count": 15
        }
      ]
    },
    {
      "cell_type": "markdown",
      "source": [
        "TeleBot"
      ],
      "metadata": {
        "id": "angtDU9HWsAv"
      }
    },
    {
      "cell_type": "code",
      "execution_count": 1,
      "metadata": {
        "colab": {
          "base_uri": "https://localhost:8080/",
          "height": 251
        },
        "id": "MCJRn9sV4GoL",
        "outputId": "c680905c-77d8-458b-f220-b332ffd69937"
      },
      "outputs": [
        {
          "output_type": "error",
          "ename": "NameError",
          "evalue": "name 'df' is not defined",
          "traceback": [
            "\u001b[0;31m---------------------------------------------------------------------------\u001b[0m",
            "\u001b[0;31mNameError\u001b[0m                                 Traceback (most recent call last)",
            "\u001b[0;32m<ipython-input-1-db9c593847a0>\u001b[0m in \u001b[0;36m<cell line: 28>\u001b[0;34m()\u001b[0m\n\u001b[1;32m     26\u001b[0m }\n\u001b[1;32m     27\u001b[0m \u001b[0;34m\u001b[0m\u001b[0m\n\u001b[0;32m---> 28\u001b[0;31m \u001b[0mvacancies\u001b[0m \u001b[0;34m=\u001b[0m \u001b[0mdf\u001b[0m\u001b[0;34m\u001b[0m\u001b[0;34m\u001b[0m\u001b[0m\n\u001b[0m\u001b[1;32m     29\u001b[0m \u001b[0;31m# Указываем токен вашего бота\u001b[0m\u001b[0;34m\u001b[0m\u001b[0;34m\u001b[0m\u001b[0m\n\u001b[1;32m     30\u001b[0m \u001b[0mTOKEN\u001b[0m \u001b[0;34m=\u001b[0m \u001b[0;34m'6781213285:AAH5n-vasxmUxSmdyZdCZOTaeRXOVWM3acM'\u001b[0m\u001b[0;34m\u001b[0m\u001b[0;34m\u001b[0m\u001b[0m\n",
            "\u001b[0;31mNameError\u001b[0m: name 'df' is not defined"
          ]
        }
      ],
      "source": [
        "import telebot\n",
        "from telebot import types\n",
        "\n",
        "common_markup = types.ReplyKeyboardMarkup(resize_keyboard=True)\n",
        "btn1 = types.KeyboardButton(\"Следующая\")\n",
        "btn2 = types.KeyboardButton(\"Полное описание\")\n",
        "common_markup.add(btn1, btn2)\n",
        "\n",
        "favourite_markup = types.ReplyKeyboardMarkup(resize_keyboard=True)\n",
        "btn3 = types.KeyboardButton(\"Следующая\")\n",
        "btn5 = types.KeyboardButton(\"Добавить в избранное\")\n",
        "btn4 = types.KeyboardButton(\"Отклик\")\n",
        "favourite_markup.add(btn3, btn5, btn4)\n",
        "\n",
        "\n",
        "global replayer\n",
        "global input_ids\n",
        "global cur_state\n",
        "global cnt\n",
        "\n",
        "\n",
        "# Пример данных\n",
        "data = {\n",
        "    'u_482520': ['v_2597196', 'v_1223061', 'v_1223062'],\n",
        "\n",
        "}\n",
        "vacancies = df\n",
        "\n",
        "\n",
        "TOKEN = '6781213285:AAH5n-vasxmUxSmdyZdCZOTaeRXOVWM3acM'\n",
        "bot = telebot.TeleBot(TOKEN)\n",
        "\n",
        "\n",
        "user_state = {}\n",
        "\n",
        "\n",
        "@bot.message_handler(commands=['start'])\n",
        "def start(message):\n",
        "    global cur_state, markup, input_ids, cnt\n",
        "    cur_state = 'autorization'\n",
        "    bot.send_message(message.chat.id, 'Привет! Пожалуйста, введи свой номер:')\n",
        "\n",
        "\n",
        "@bot.message_handler(content_types='text')\n",
        "def message_reply(message):\n",
        "    global cur_state, markup, input_ids, cnt, user_state\n",
        "    user_id = message.chat.id\n",
        "    if cur_state == 'autorization':\n",
        "\n",
        "      number = message.text\n",
        "\n",
        "      if number not in data:\n",
        "          bot.send_message(user_id, 'Номер не найден. Попробуй еще раз.')\n",
        "          return\n",
        "\n",
        "      user_state[user_id] = {\n",
        "          'number': number,\n",
        "          'index': 0,\n",
        "          'favorites': []\n",
        "      }\n",
        "      cur_state = 'show_vacancies'\n",
        "      send_next_vacancy(user_id)\n",
        "\n",
        "    elif message.text == \"Следующая\":\n",
        "      state = user_state[user_id]\n",
        "      state['index'] += 1\n",
        "      send_next_vacancy(user_id)\n",
        "    elif message.text == \"Полное описание\":\n",
        "      state = user_state[user_id]\n",
        "      current_vacancy = data[state['number']][state['index']]\n",
        "      desc = str(vacancies.query('vacancy_id == @current_vacancy')['description'].values[0])\n",
        "      bot.send_message(user_id, f'Описание вакансии:\\n{desc}')\n",
        "      bot.send_message(user_id, 'Выберите действие:', reply_markup=favourite_markup)\n",
        "\n",
        "    elif message.text == \"Добавить в избранное\":\n",
        "      state = user_state[user_id]\n",
        "      current_vacancy = str(data[state['number']][state['index'] - 1])\n",
        "      state['favorites'].append(current_vacancy)\n",
        "\n",
        "      bot.send_message(user_id, f'Вакансия {current_vacancy} добавлена в избранное.', reply_markup = favourite_markup)\n",
        "\n",
        "    elif message.text == \"Отклик\":\n",
        "      bot.send_message(user_id, 'Прикиньте!! Мы только что отправили ваше великолепнейшее резюме и работодатель сразу прислал оффер!! В ответном сообщении укажите номер карты и CVC :3', reply_markup = favourite_markup)\n",
        "\n",
        "\n",
        "def send_next_vacancy(user_id):\n",
        "    state = user_state[user_id]\n",
        "    vacancies_list = data[state['number']]\n",
        "    index = state['index']\n",
        "\n",
        "    if index >= len(vacancies_list):\n",
        "        bot.send_message(user_id, 'На сегодня все, покаааааааа')\n",
        "        del user_state[user_id]\n",
        "        return\n",
        "\n",
        "    vacancy_number = vacancies_list[index]\n",
        "    vacancy_name = str(df.query('vacancy_id == @vacancy_number')['name'].values[0])\n",
        "    salary = int(df.query('vacancy_id == @vacancy_number')['compensation_from'].values[0])\n",
        "    bot.send_message(user_id, f'Вакансия: {vacancy_name}\\n Зарплата: {salary}', reply_markup=common_markup)\n",
        "\n",
        "\n",
        "# Запуск бота\n",
        "bot.polling()\n"
      ]
    },
    {
      "cell_type": "code",
      "source": [],
      "metadata": {
        "id": "hXCYJ7uwWqbQ"
      },
      "execution_count": null,
      "outputs": []
    }
  ]
}