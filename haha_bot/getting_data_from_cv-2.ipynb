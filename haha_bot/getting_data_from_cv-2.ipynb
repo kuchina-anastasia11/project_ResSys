{
  "nbformat": 4,
  "nbformat_minor": 0,
  "metadata": {
    "colab": {
      "provenance": [],
      "collapsed_sections": [
        "EpinQCSGSEVX"
      ]
    },
    "kernelspec": {
      "name": "python3",
      "display_name": "Python 3"
    },
    "language_info": {
      "name": "python"
    }
  },
  "cells": [
    {
      "cell_type": "code",
      "source": [
        "from google.colab import drive\n",
        "drive.mount('/content/drive')"
      ],
      "metadata": {
        "colab": {
          "base_uri": "https://localhost:8080/"
        },
        "id": "1X2kUbX9aZfF",
        "outputId": "8428ebdc-9879-4809-82c6-41d0a59ca5ab"
      },
      "execution_count": 1,
      "outputs": [
        {
          "output_type": "stream",
          "name": "stdout",
          "text": [
            "Mounted at /content/drive\n"
          ]
        }
      ]
    },
    {
      "cell_type": "code",
      "execution_count": 2,
      "metadata": {
        "colab": {
          "base_uri": "https://localhost:8080/"
        },
        "id": "sZ3cdow1TI_i",
        "outputId": "d577763d-3adb-4809-aff0-e89419303359"
      },
      "outputs": [
        {
          "output_type": "stream",
          "name": "stdout",
          "text": [
            "Reading package lists... Done\n",
            "Building dependency tree... Done\n",
            "Reading state information... Done\n",
            "The following NEW packages will be installed:\n",
            "  poppler-utils\n",
            "0 upgraded, 1 newly installed, 0 to remove and 45 not upgraded.\n",
            "Need to get 186 kB of archives.\n",
            "After this operation, 696 kB of additional disk space will be used.\n",
            "Get:1 http://archive.ubuntu.com/ubuntu jammy-updates/main amd64 poppler-utils amd64 22.02.0-2ubuntu0.4 [186 kB]\n",
            "Fetched 186 kB in 1s (230 kB/s)\n",
            "Selecting previously unselected package poppler-utils.\n",
            "(Reading database ... 121918 files and directories currently installed.)\n",
            "Preparing to unpack .../poppler-utils_22.02.0-2ubuntu0.4_amd64.deb ...\n",
            "Unpacking poppler-utils (22.02.0-2ubuntu0.4) ...\n",
            "Setting up poppler-utils (22.02.0-2ubuntu0.4) ...\n",
            "Processing triggers for man-db (2.10.2-1) ...\n"
          ]
        }
      ],
      "source": [
        "!apt-get install poppler-utils"
      ]
    },
    {
      "cell_type": "markdown",
      "source": [
        "\n",
        " # Парсер Резюме"
      ],
      "metadata": {
        "id": "4t_yHj54dHTC"
      }
    },
    {
      "cell_type": "code",
      "source": [
        "!pip install pdfminer.six\n"
      ],
      "metadata": {
        "colab": {
          "base_uri": "https://localhost:8080/"
        },
        "id": "0fp85n1sQ1yy",
        "outputId": "ea76a1dd-1ce3-4d54-f82e-050fcbffec7d"
      },
      "execution_count": 3,
      "outputs": [
        {
          "output_type": "stream",
          "name": "stdout",
          "text": [
            "Collecting pdfminer.six\n",
            "  Downloading pdfminer.six-20231228-py3-none-any.whl (5.6 MB)\n",
            "\u001b[2K     \u001b[90m━━━━━━━━━━━━━━━━━━━━━━━━━━━━━━━━━━━━━━━━\u001b[0m \u001b[32m5.6/5.6 MB\u001b[0m \u001b[31m18.6 MB/s\u001b[0m eta \u001b[36m0:00:00\u001b[0m\n",
            "\u001b[?25hRequirement already satisfied: charset-normalizer>=2.0.0 in /usr/local/lib/python3.10/dist-packages (from pdfminer.six) (3.3.2)\n",
            "Requirement already satisfied: cryptography>=36.0.0 in /usr/local/lib/python3.10/dist-packages (from pdfminer.six) (42.0.7)\n",
            "Requirement already satisfied: cffi>=1.12 in /usr/local/lib/python3.10/dist-packages (from cryptography>=36.0.0->pdfminer.six) (1.16.0)\n",
            "Requirement already satisfied: pycparser in /usr/local/lib/python3.10/dist-packages (from cffi>=1.12->cryptography>=36.0.0->pdfminer.six) (2.22)\n",
            "Installing collected packages: pdfminer.six\n",
            "Successfully installed pdfminer.six-20231228\n"
          ]
        }
      ]
    },
    {
      "cell_type": "code",
      "source": [
        "!pip install PyPDF2"
      ],
      "metadata": {
        "colab": {
          "base_uri": "https://localhost:8080/"
        },
        "id": "n1VHLe6xRbgu",
        "outputId": "f25154a9-75c7-4808-e2fb-830d244ae7b6"
      },
      "execution_count": 4,
      "outputs": [
        {
          "output_type": "stream",
          "name": "stdout",
          "text": [
            "Collecting PyPDF2\n",
            "  Downloading pypdf2-3.0.1-py3-none-any.whl (232 kB)\n",
            "\u001b[2K     \u001b[90m━━━━━━━━━━━━━━━━━━━━━━━━━━━━━━━━━━━━━━━━\u001b[0m \u001b[32m232.6/232.6 kB\u001b[0m \u001b[31m2.2 MB/s\u001b[0m eta \u001b[36m0:00:00\u001b[0m\n",
            "\u001b[?25hInstalling collected packages: PyPDF2\n",
            "Successfully installed PyPDF2-3.0.1\n"
          ]
        }
      ]
    },
    {
      "cell_type": "code",
      "source": [
        "from PyPDF2 import PdfReader\n",
        "\n",
        "reader = PdfReader('/content/drive/MyDrive/cv-2.pdf')\n",
        "page = reader.pages[0]\n",
        "print(page.extract_text())"
      ],
      "metadata": {
        "colab": {
          "base_uri": "https://localhost:8080/"
        },
        "id": "TvdtU09pRGV4",
        "outputId": "c45620d8-7fe4-4639-be32-1aa71915024d"
      },
      "execution_count": 5,
      "outputs": [
        {
          "output_type": "stream",
          "name": "stdout",
          "text": [
            "Анастасия Кучина\n",
            "kuchina.anastasia11@gmail.com github.com/kuchina-anastasia11\n",
            "Образование\n",
            "Высшая Школа Экономики Сент. 2022 - Май 2026\n",
            "Прикладной анализ данных и искусственный интеллект Санкт-Петербург, Россия\n",
            "Дискретная математика Алгебра Математический анализ Теория Вероятностей Python Алгоритмы и структуры данных\n",
            "Базы Данных\n",
            "Tinkoff Fintech Февр. 2023 - Июнь 2023\n",
            "Анализ данных в индустрии Санкт-Петербург, Россия\n",
            "Python Numpy Machine Learning Статистика A-B тестирование\n",
            "Опыт\n",
            "Яндекс Июль 2023 – Окт 2023\n",
            "Стажер Аналитик-разработчик в Яндекс.Переводчике Москва, Россия\n",
            "Python SQl ClickHouse NLP Autometrics\n",
            "•В ходе стажировки изучила различные автометрики и подходы к использованию их. На основе этой информации\n",
            "провела стат.тесты для поиска корреляции между интересующими компанию метриками\n",
            "•Выявила самую высокую корреляцию и написала тулзу для подсчета корреляции и самой автометрики, которая сейчас\n",
            "активно используется коллегами\n",
            "•В ходе работы были использованы большое количество внутренних сервисов, также приобрела опыт обнаружения\n",
            "антифрода, работы в команде.\n",
            "Проекты\n",
            "Текстовый помощник на русском Февр. 2023 – Май 2023\n",
            "Курсовой проект Санкт-Петербург, Россия\n",
            "Python PyTorch Transformers NLP\n",
            "•Чат-бот для общения, ответов на вопросы по картинкам, генерации музыки и изображений\n",
            "•Был переведен датасет для обучения , с использованием YandexApi для более точного перевода.\n",
            "•Тюнинг различных моделей, основанных на принципе transformers. После различных экспериментов, была выбрана -\n",
            "sberGPT-medium\n",
            "База данных для поставщиков кофе Дек. 2023\n",
            "Pet-project Санкт-Петербург, Россия\n",
            "PostgreSQL\n",
            "•В рамках курса по Базам Данных разработала с командой БД для поставщиков кофе и написали скрипты для ее\n",
            "использования\n",
            "•Я занималась разработкой концептуальной и логической модели БД. Также написала несколько views, которые\n",
            "позволяют собирать данные для аналитиков, процедуру для добавления заказа в базу и триггер, который проверяет\n",
            "корректность заказа, с учетом количества товара на складе\n",
            "Достижения\n",
            "Математическая олимпиада МФТИ(Физтех)\n",
            "Получила диплом второй степени, количество участников более 200 Март 2020\n",
            "Заочная физико-математическая школа при МФТИ\n",
            "Углубленное изучение физики и математики на протяжении двух лет Сент. 2018 - Май 2020\n",
            "Проектная деятельность в \"Сириус\"\n",
            "Работала над проектом от Департамента Информационных Технологий Города Москвы.\n",
            "Основная задача заключалась в предсказании расходов ЖКУ Июль 2018\n"
          ]
        }
      ]
    },
    {
      "cell_type": "code",
      "source": [
        "pip install russianCVparser"
      ],
      "metadata": {
        "colab": {
          "base_uri": "https://localhost:8080/"
        },
        "id": "dUaM4aZ9vDL4",
        "outputId": "aa8177d2-2047-48a8-b40b-0ffecb42fde2"
      },
      "execution_count": 6,
      "outputs": [
        {
          "output_type": "stream",
          "name": "stdout",
          "text": [
            "Collecting russianCVparser\n",
            "  Downloading russianCVparser-1.1-py3-none-any.whl (107 kB)\n",
            "\u001b[2K     \u001b[90m━━━━━━━━━━━━━━━━━━━━━━━━━━━━━━━━━━━━━━━━\u001b[0m \u001b[32m107.7/107.7 kB\u001b[0m \u001b[31m985.6 kB/s\u001b[0m eta \u001b[36m0:00:00\u001b[0m\n",
            "\u001b[?25hCollecting natasha (from russianCVparser)\n",
            "  Downloading natasha-1.6.0-py3-none-any.whl (34.4 MB)\n",
            "\u001b[2K     \u001b[90m━━━━━━━━━━━━━━━━━━━━━━━━━━━━━━━━━━━━━━━━\u001b[0m \u001b[32m34.4/34.4 MB\u001b[0m \u001b[31m25.4 MB/s\u001b[0m eta \u001b[36m0:00:00\u001b[0m\n",
            "\u001b[?25hRequirement already satisfied: pdfminer.six in /usr/local/lib/python3.10/dist-packages (from russianCVparser) (20231228)\n",
            "Collecting docx2txt (from russianCVparser)\n",
            "  Downloading docx2txt-0.8.tar.gz (2.8 kB)\n",
            "  Preparing metadata (setup.py) ... \u001b[?25l\u001b[?25hdone\n",
            "Collecting pymorphy2 (from natasha->russianCVparser)\n",
            "  Downloading pymorphy2-0.9.1-py3-none-any.whl (55 kB)\n",
            "\u001b[2K     \u001b[90m━━━━━━━━━━━━━━━━━━━━━━━━━━━━━━━━━━━━━━━━\u001b[0m \u001b[32m55.5/55.5 kB\u001b[0m \u001b[31m5.7 MB/s\u001b[0m eta \u001b[36m0:00:00\u001b[0m\n",
            "\u001b[?25hCollecting razdel>=0.5.0 (from natasha->russianCVparser)\n",
            "  Downloading razdel-0.5.0-py3-none-any.whl (21 kB)\n",
            "Collecting navec>=0.9.0 (from natasha->russianCVparser)\n",
            "  Downloading navec-0.10.0-py3-none-any.whl (23 kB)\n",
            "Collecting slovnet>=0.6.0 (from natasha->russianCVparser)\n",
            "  Downloading slovnet-0.6.0-py3-none-any.whl (46 kB)\n",
            "\u001b[2K     \u001b[90m━━━━━━━━━━━━━━━━━━━━━━━━━━━━━━━━━━━━━━━━\u001b[0m \u001b[32m46.7/46.7 kB\u001b[0m \u001b[31m4.4 MB/s\u001b[0m eta \u001b[36m0:00:00\u001b[0m\n",
            "\u001b[?25hCollecting yargy>=0.16.0 (from natasha->russianCVparser)\n",
            "  Downloading yargy-0.16.0-py3-none-any.whl (33 kB)\n",
            "Collecting ipymarkup>=0.8.0 (from natasha->russianCVparser)\n",
            "  Downloading ipymarkup-0.9.0-py3-none-any.whl (14 kB)\n",
            "Requirement already satisfied: charset-normalizer>=2.0.0 in /usr/local/lib/python3.10/dist-packages (from pdfminer.six->russianCVparser) (3.3.2)\n",
            "Requirement already satisfied: cryptography>=36.0.0 in /usr/local/lib/python3.10/dist-packages (from pdfminer.six->russianCVparser) (42.0.7)\n",
            "Requirement already satisfied: cffi>=1.12 in /usr/local/lib/python3.10/dist-packages (from cryptography>=36.0.0->pdfminer.six->russianCVparser) (1.16.0)\n",
            "Collecting intervaltree>=3 (from ipymarkup>=0.8.0->natasha->russianCVparser)\n",
            "  Downloading intervaltree-3.1.0.tar.gz (32 kB)\n",
            "  Preparing metadata (setup.py) ... \u001b[?25l\u001b[?25hdone\n",
            "Requirement already satisfied: numpy in /usr/local/lib/python3.10/dist-packages (from navec>=0.9.0->natasha->russianCVparser) (1.25.2)\n",
            "Collecting dawg-python>=0.7.1 (from pymorphy2->natasha->russianCVparser)\n",
            "  Downloading DAWG_Python-0.7.2-py2.py3-none-any.whl (11 kB)\n",
            "Collecting pymorphy2-dicts-ru<3.0,>=2.4 (from pymorphy2->natasha->russianCVparser)\n",
            "  Downloading pymorphy2_dicts_ru-2.4.417127.4579844-py2.py3-none-any.whl (8.2 MB)\n",
            "\u001b[2K     \u001b[90m━━━━━━━━━━━━━━━━━━━━━━━━━━━━━━━━━━━━━━━━\u001b[0m \u001b[32m8.2/8.2 MB\u001b[0m \u001b[31m44.5 MB/s\u001b[0m eta \u001b[36m0:00:00\u001b[0m\n",
            "\u001b[?25hCollecting docopt>=0.6 (from pymorphy2->natasha->russianCVparser)\n",
            "  Downloading docopt-0.6.2.tar.gz (25 kB)\n",
            "  Preparing metadata (setup.py) ... \u001b[?25l\u001b[?25hdone\n",
            "Requirement already satisfied: pycparser in /usr/local/lib/python3.10/dist-packages (from cffi>=1.12->cryptography>=36.0.0->pdfminer.six->russianCVparser) (2.22)\n",
            "Requirement already satisfied: sortedcontainers<3.0,>=2.0 in /usr/local/lib/python3.10/dist-packages (from intervaltree>=3->ipymarkup>=0.8.0->natasha->russianCVparser) (2.4.0)\n",
            "Building wheels for collected packages: docx2txt, docopt, intervaltree\n",
            "  Building wheel for docx2txt (setup.py) ... \u001b[?25l\u001b[?25hdone\n",
            "  Created wheel for docx2txt: filename=docx2txt-0.8-py3-none-any.whl size=3960 sha256=c13790807f624dc0e59840c5e19d169ac6e4153fd44a1dab2fd41664bb6114ae\n",
            "  Stored in directory: /root/.cache/pip/wheels/22/58/cf/093d0a6c3ecfdfc5f6ddd5524043b88e59a9a199cb02352966\n",
            "  Building wheel for docopt (setup.py) ... \u001b[?25l\u001b[?25hdone\n",
            "  Created wheel for docopt: filename=docopt-0.6.2-py2.py3-none-any.whl size=13706 sha256=fa0dec61a945473be19f34bc1dd2f5bc0ad320ec826ccb581a17938583c6927c\n",
            "  Stored in directory: /root/.cache/pip/wheels/fc/ab/d4/5da2067ac95b36618c629a5f93f809425700506f72c9732fac\n",
            "  Building wheel for intervaltree (setup.py) ... \u001b[?25l\u001b[?25hdone\n",
            "  Created wheel for intervaltree: filename=intervaltree-3.1.0-py2.py3-none-any.whl size=26096 sha256=a2346861b1a676af34d2c9f297deeb4dfe0424d2932b93b9b23b92a487b781e2\n",
            "  Stored in directory: /root/.cache/pip/wheels/fa/80/8c/43488a924a046b733b64de3fac99252674c892a4c3801c0a61\n",
            "Successfully built docx2txt docopt intervaltree\n",
            "Installing collected packages: razdel, pymorphy2-dicts-ru, docx2txt, docopt, dawg-python, pymorphy2, navec, intervaltree, yargy, slovnet, ipymarkup, natasha, russianCVparser\n",
            "Successfully installed dawg-python-0.7.2 docopt-0.6.2 docx2txt-0.8 intervaltree-3.1.0 ipymarkup-0.9.0 natasha-1.6.0 navec-0.10.0 pymorphy2-0.9.1 pymorphy2-dicts-ru-2.4.417127.4579844 razdel-0.5.0 russianCVparser-1.1 slovnet-0.6.0 yargy-0.16.0\n"
          ]
        }
      ]
    },
    {
      "cell_type": "code",
      "source": [
        "\n",
        "from russianCVparser import CVparser, Document, show_json\n",
        "\n",
        "parser = CVparser()\n",
        "document = Document('/content/drive/MyDrive/cv-2.txt')\n",
        "data = parser.parse_text(document.text)\n",
        "show_json(data)"
      ],
      "metadata": {
        "colab": {
          "base_uri": "https://localhost:8080/"
        },
        "id": "YdOEQA9aujyb",
        "outputId": "71f1441b-bb0f-40bb-96c1-b0d78058ec16"
      },
      "execution_count": 7,
      "outputs": [
        {
          "output_type": "stream",
          "name": "stdout",
          "text": [
            "{\n",
            "  \"experience\": [],\n",
            "  \"education\": [],\n",
            "  \"extra_education\": [],\n",
            "  \"hobby\": []\n",
            "}\n"
          ]
        }
      ]
    },
    {
      "cell_type": "code",
      "source": [
        "\n",
        "\n",
        "parser = CVparser()\n",
        "document = Document('/content/drive/MyDrive/cv.txt')\n",
        "data = parser.parse_text(document.text)\n",
        "show_json(data)"
      ],
      "metadata": {
        "colab": {
          "base_uri": "https://localhost:8080/"
        },
        "collapsed": true,
        "id": "NgErjOk2RxI1",
        "outputId": "11ea1bd0-4da1-4ba9-bbcf-697157a7812b"
      },
      "execution_count": 8,
      "outputs": [
        {
          "output_type": "stream",
          "name": "stdout",
          "text": [
            "{\n",
            "  \"experience\": [\n",
            "    {\n",
            "      \"period\": {\n",
            "        \"from_date\": {\n",
            "          \"month\": 6,\n",
            "          \"year\": 2023\n",
            "        },\n",
            "        \"to_date\": {\n",
            "          \"month\": 5,\n",
            "          \"year\": 2024\n",
            "        }\n",
            "      },\n",
            "      \"org_name\": \"Сбербанк\"\n",
            "    },\n",
            "    {\n",
            "      \"period\": {\n",
            "        \"from_date\": {\n",
            "          \"month\": 7,\n",
            "          \"year\": 2022\n",
            "        },\n",
            "        \"to_date\": {\n",
            "          \"month\": 11,\n",
            "          \"year\": 2022\n",
            "        }\n",
            "      },\n",
            "      \"org_name\": \"Сбербанк\"\n",
            "    },\n",
            "    {\n",
            "      \"period\": {\n",
            "        \"from_date\": {\n",
            "          \"month\": 6,\n",
            "          \"year\": 2021\n",
            "        },\n",
            "        \"to_date\": {\n",
            "          \"month\": 8,\n",
            "          \"year\": 2023\n",
            "        }\n",
            "      },\n",
            "      \"org_name\": \"МФТИ •Python for Data Science and Machine Learning Bootcamp\"\n",
            "    }\n",
            "  ],\n",
            "  \"education\": [],\n",
            "  \"extra_education\": [],\n",
            "  \"hobby\": []\n",
            "}\n"
          ]
        }
      ]
    },
    {
      "cell_type": "code",
      "source": [
        "pip install googletrans==3.1.0a0"
      ],
      "metadata": {
        "colab": {
          "base_uri": "https://localhost:8080/"
        },
        "id": "mJ0x9D7OoKwv",
        "outputId": "66c4c8c1-7077-4d5a-ff02-e23eb0760e4a"
      },
      "execution_count": 9,
      "outputs": [
        {
          "output_type": "stream",
          "name": "stdout",
          "text": [
            "Collecting googletrans==3.1.0a0\n",
            "  Downloading googletrans-3.1.0a0.tar.gz (19 kB)\n",
            "  Preparing metadata (setup.py) ... \u001b[?25l\u001b[?25hdone\n",
            "Collecting httpx==0.13.3 (from googletrans==3.1.0a0)\n",
            "  Downloading httpx-0.13.3-py3-none-any.whl (55 kB)\n",
            "\u001b[2K     \u001b[90m━━━━━━━━━━━━━━━━━━━━━━━━━━━━━━━━━━━━━━━━\u001b[0m \u001b[32m55.1/55.1 kB\u001b[0m \u001b[31m1.3 MB/s\u001b[0m eta \u001b[36m0:00:00\u001b[0m\n",
            "\u001b[?25hRequirement already satisfied: certifi in /usr/local/lib/python3.10/dist-packages (from httpx==0.13.3->googletrans==3.1.0a0) (2024.2.2)\n",
            "Collecting hstspreload (from httpx==0.13.3->googletrans==3.1.0a0)\n",
            "  Downloading hstspreload-2024.5.1-py3-none-any.whl (1.1 MB)\n",
            "\u001b[2K     \u001b[90m━━━━━━━━━━━━━━━━━━━━━━━━━━━━━━━━━━━━━━━━\u001b[0m \u001b[32m1.1/1.1 MB\u001b[0m \u001b[31m8.8 MB/s\u001b[0m eta \u001b[36m0:00:00\u001b[0m\n",
            "\u001b[?25hRequirement already satisfied: sniffio in /usr/local/lib/python3.10/dist-packages (from httpx==0.13.3->googletrans==3.1.0a0) (1.3.1)\n",
            "Collecting chardet==3.* (from httpx==0.13.3->googletrans==3.1.0a0)\n",
            "  Downloading chardet-3.0.4-py2.py3-none-any.whl (133 kB)\n",
            "\u001b[2K     \u001b[90m━━━━━━━━━━━━━━━━━━━━━━━━━━━━━━━━━━━━━━━━\u001b[0m \u001b[32m133.4/133.4 kB\u001b[0m \u001b[31m12.4 MB/s\u001b[0m eta \u001b[36m0:00:00\u001b[0m\n",
            "\u001b[?25hCollecting idna==2.* (from httpx==0.13.3->googletrans==3.1.0a0)\n",
            "  Downloading idna-2.10-py2.py3-none-any.whl (58 kB)\n",
            "\u001b[2K     \u001b[90m━━━━━━━━━━━━━━━━━━━━━━━━━━━━━━━━━━━━━━━━\u001b[0m \u001b[32m58.8/58.8 kB\u001b[0m \u001b[31m6.1 MB/s\u001b[0m eta \u001b[36m0:00:00\u001b[0m\n",
            "\u001b[?25hCollecting rfc3986<2,>=1.3 (from httpx==0.13.3->googletrans==3.1.0a0)\n",
            "  Downloading rfc3986-1.5.0-py2.py3-none-any.whl (31 kB)\n",
            "Collecting httpcore==0.9.* (from httpx==0.13.3->googletrans==3.1.0a0)\n",
            "  Downloading httpcore-0.9.1-py3-none-any.whl (42 kB)\n",
            "\u001b[2K     \u001b[90m━━━━━━━━━━━━━━━━━━━━━━━━━━━━━━━━━━━━━━━━\u001b[0m \u001b[32m42.6/42.6 kB\u001b[0m \u001b[31m3.8 MB/s\u001b[0m eta \u001b[36m0:00:00\u001b[0m\n",
            "\u001b[?25hCollecting h11<0.10,>=0.8 (from httpcore==0.9.*->httpx==0.13.3->googletrans==3.1.0a0)\n",
            "  Downloading h11-0.9.0-py2.py3-none-any.whl (53 kB)\n",
            "\u001b[2K     \u001b[90m━━━━━━━━━━━━━━━━━━━━━━━━━━━━━━━━━━━━━━━━\u001b[0m \u001b[32m53.6/53.6 kB\u001b[0m \u001b[31m2.8 MB/s\u001b[0m eta \u001b[36m0:00:00\u001b[0m\n",
            "\u001b[?25hCollecting h2==3.* (from httpcore==0.9.*->httpx==0.13.3->googletrans==3.1.0a0)\n",
            "  Downloading h2-3.2.0-py2.py3-none-any.whl (65 kB)\n",
            "\u001b[2K     \u001b[90m━━━━━━━━━━━━━━━━━━━━━━━━━━━━━━━━━━━━━━━━\u001b[0m \u001b[32m65.0/65.0 kB\u001b[0m \u001b[31m6.4 MB/s\u001b[0m eta \u001b[36m0:00:00\u001b[0m\n",
            "\u001b[?25hCollecting hyperframe<6,>=5.2.0 (from h2==3.*->httpcore==0.9.*->httpx==0.13.3->googletrans==3.1.0a0)\n",
            "  Downloading hyperframe-5.2.0-py2.py3-none-any.whl (12 kB)\n",
            "Collecting hpack<4,>=3.0 (from h2==3.*->httpcore==0.9.*->httpx==0.13.3->googletrans==3.1.0a0)\n",
            "  Downloading hpack-3.0.0-py2.py3-none-any.whl (38 kB)\n",
            "Building wheels for collected packages: googletrans\n",
            "  Building wheel for googletrans (setup.py) ... \u001b[?25l\u001b[?25hdone\n",
            "  Created wheel for googletrans: filename=googletrans-3.1.0a0-py3-none-any.whl size=16353 sha256=c89432e6b80d2b646f037396606a18b3fa10668cd29102fbd33614bd8bb41c1d\n",
            "  Stored in directory: /root/.cache/pip/wheels/50/5d/3c/8477d0af4ca2b8b1308812c09f1930863caeebc762fe265a95\n",
            "Successfully built googletrans\n",
            "Installing collected packages: rfc3986, hyperframe, hpack, h11, chardet, idna, hstspreload, h2, httpcore, httpx, googletrans\n",
            "  Attempting uninstall: chardet\n",
            "    Found existing installation: chardet 5.2.0\n",
            "    Uninstalling chardet-5.2.0:\n",
            "      Successfully uninstalled chardet-5.2.0\n",
            "  Attempting uninstall: idna\n",
            "    Found existing installation: idna 3.7\n",
            "    Uninstalling idna-3.7:\n",
            "      Successfully uninstalled idna-3.7\n",
            "Successfully installed chardet-3.0.4 googletrans-3.1.0a0 h11-0.9.0 h2-3.2.0 hpack-3.0.0 hstspreload-2024.5.1 httpcore-0.9.1 httpx-0.13.3 hyperframe-5.2.0 idna-2.10 rfc3986-1.5.0\n"
          ]
        }
      ]
    },
    {
      "cell_type": "code",
      "source": [
        "from googletrans import Translator\n",
        "translator = Translator()"
      ],
      "metadata": {
        "id": "igSOzhrgoW9a"
      },
      "execution_count": 10,
      "outputs": []
    },
    {
      "cell_type": "code",
      "source": [
        "text = str(page.extract_text())\n",
        "text"
      ],
      "metadata": {
        "colab": {
          "base_uri": "https://localhost:8080/",
          "height": 174
        },
        "id": "Noz501S7ont0",
        "outputId": "c60d56d6-4bbe-44a2-e9c9-d6a53ceb30b9"
      },
      "execution_count": 11,
      "outputs": [
        {
          "output_type": "execute_result",
          "data": {
            "text/plain": [
              "'Анастасия Кучина\\nkuchina.anastasia11@gmail.com github.com/kuchina-anastasia11\\nОбразование\\nВысшая Школа Экономики Сент. 2022 - Май 2026\\nПрикладной анализ данных и искусственный интеллект Санкт-Петербург, Россия\\nДискретная математика Алгебра Математический анализ Теория Вероятностей Python Алгоритмы и структуры данных\\nБазы Данных\\nTinkoff Fintech Февр. 2023 - Июнь 2023\\nАнализ данных в индустрии Санкт-Петербург, Россия\\nPython Numpy Machine Learning Статистика A-B тестирование\\nОпыт\\nЯндекс Июль 2023 – Окт 2023\\nСтажер Аналитик-разработчик в Яндекс.Переводчике Москва, Россия\\nPython SQl ClickHouse NLP Autometrics\\n•В ходе стажировки изучила различные автометрики и подходы к использованию их. На основе этой информации\\nпровела стат.тесты для поиска корреляции между интересующими компанию метриками\\n•Выявила самую высокую корреляцию и написала тулзу для подсчета корреляции и самой автометрики, которая сейчас\\nактивно используется коллегами\\n•В ходе работы были использованы большое количество внутренних сервисов, также приобрела опыт обнаружения\\nантифрода, работы в команде.\\nПроекты\\nТекстовый помощник на русском Февр. 2023 – Май 2023\\nКурсовой проект Санкт-Петербург, Россия\\nPython PyTorch Transformers NLP\\n•Чат-бот для общения, ответов на вопросы по картинкам, генерации музыки и изображений\\n•Был переведен датасет для обучения , с использованием YandexApi для более точного перевода.\\n•Тюнинг различных моделей, основанных на принципе transformers. После различных экспериментов, была выбрана -\\nsberGPT-medium\\nБаза данных для поставщиков кофе Дек. 2023\\nPet-project Санкт-Петербург, Россия\\nPostgreSQL\\n•В рамках курса по Базам Данных разработала с командой БД для поставщиков кофе и написали скрипты для ее\\nиспользования\\n•Я занималась разработкой концептуальной и логической модели БД. Также написала несколько views, которые\\nпозволяют собирать данные для аналитиков, процедуру для добавления заказа в базу и триггер, который проверяет\\nкорректность заказа, с учетом количества товара на складе\\nДостижения\\nМатематическая олимпиада МФТИ(Физтех)\\nПолучила диплом второй степени, количество участников более 200 Март 2020\\nЗаочная физико-математическая школа при МФТИ\\nУглубленное изучение физики и математики на протяжении двух лет Сент. 2018 - Май 2020\\nПроектная деятельность в \"Сириус\"\\nРаботала над проектом от Департамента Информационных Технологий Города Москвы.\\nОсновная задача заключалась в предсказании расходов ЖКУ Июль 2018'"
            ],
            "application/vnd.google.colaboratory.intrinsic+json": {
              "type": "string"
            }
          },
          "metadata": {},
          "execution_count": 11
        }
      ]
    },
    {
      "cell_type": "code",
      "source": [
        "translator.translate(str(page.extract_text()), dest='en').text"
      ],
      "metadata": {
        "colab": {
          "base_uri": "https://localhost:8080/",
          "height": 174
        },
        "id": "k3k-EgZ5oe0b",
        "outputId": "dbf0a86a-0ada-4a74-d49a-c3204fc75721"
      },
      "execution_count": 12,
      "outputs": [
        {
          "output_type": "execute_result",
          "data": {
            "text/plain": [
              "'Anastasia Kuchina\\nkuchina.anastasia11@gmail.com github.com/kuchina-anastasia11\\nEducation\\nHigher School of Economics St. 2022 - May 2026\\nApplied data analysis and artificial intelligence St. Petersburg, Russia\\nDiscrete mathematics Algebra Calculus Probability Python Algorithms and data structures\\nDatabase\\nTinkoff Fintech Feb. 2023 - June 2023\\nIndustry data analysis St. Petersburg, Russia\\nPython Numpy Machine Learning Statistics A-B testing\\nExperience\\nYandex July 2023 – Oct 2023\\nIntern Developer Analyst at Yandex.Translator Moscow, Russia\\nPython SQl ClickHouse NLP Autometrics\\n•During the internship, I studied various autometrics and approaches to using them. Based on this information\\nconducted statistical tests to search for correlations between metrics of interest to the company\\n•Identified the highest correlation and wrote a tool to calculate the correlation and the autometrics itself, which is now\\nactively used by colleagues\\n•During the work, a large number of internal services were used, and I also gained experience in detection\\nantifraud, teamwork.\\nProjects\\nText assistant in Russian Feb. 2023 – May 2023\\nCourse project St. Petersburg, Russia\\nPython PyTorch Transformers NLP\\n•Chatbot for communication, answering questions about pictures, generating music and images\\n•The training dataset was translated using YandexApi for a more accurate translation.\\n•Tuning of various models based on the principle of transformers. After various experiments, I was chosen -\\nsberGPT-medium\\nDatabase for coffee suppliers Dec. 2023\\nPet-project St. Petersburg, Russia\\nPostgreSQL\\n•As part of the Database course, together with the team I developed a database for coffee suppliers and wrote scripts for it\\nuse\\n•I was involved in the development of a conceptual and logical database model. I also wrote several views that\\nallow you to collect data for analysts, a procedure for adding an order to the database and a trigger that checks\\ncorrectness of the order, taking into account the quantity of goods in the warehouse\\nAchievements\\nMathematical Olympiad MIPT (Phystech)\\nReceived a second degree diploma, the number of participants was more than 200 March 2020\\nCorrespondence School of Physics and Mathematics at MIPT\\nIn-depth study of physics and mathematics for two years. 2018 - May 2020\\nProject activities at Sirius\\nWorked on a project from the Department of Information Technologies of the City of Moscow.\\nThe main task was to predict housing and utility costs July 2018'"
            ],
            "application/vnd.google.colaboratory.intrinsic+json": {
              "type": "string"
            }
          },
          "metadata": {},
          "execution_count": 12
        }
      ]
    },
    {
      "cell_type": "markdown",
      "source": [
        "#### Парсинг с помощью CV"
      ],
      "metadata": {
        "id": "Qdfts8wDdtNE"
      }
    },
    {
      "cell_type": "code",
      "source": [
        "!pip install pdf2image\n",
        "!pip install easyocr"
      ],
      "metadata": {
        "colab": {
          "base_uri": "https://localhost:8080/"
        },
        "id": "b2JCECd4WZtE",
        "outputId": "35bdedea-7771-4c3c-c618-b4b29bc2322f"
      },
      "execution_count": 13,
      "outputs": [
        {
          "output_type": "stream",
          "name": "stdout",
          "text": [
            "Collecting pdf2image\n",
            "  Downloading pdf2image-1.17.0-py3-none-any.whl (11 kB)\n",
            "Requirement already satisfied: pillow in /usr/local/lib/python3.10/dist-packages (from pdf2image) (9.4.0)\n",
            "Installing collected packages: pdf2image\n",
            "Successfully installed pdf2image-1.17.0\n",
            "Collecting easyocr\n",
            "  Downloading easyocr-1.7.1-py3-none-any.whl (2.9 MB)\n",
            "\u001b[2K     \u001b[90m━━━━━━━━━━━━━━━━━━━━━━━━━━━━━━━━━━━━━━━━\u001b[0m \u001b[32m2.9/2.9 MB\u001b[0m \u001b[31m12.1 MB/s\u001b[0m eta \u001b[36m0:00:00\u001b[0m\n",
            "\u001b[?25hRequirement already satisfied: torch in /usr/local/lib/python3.10/dist-packages (from easyocr) (2.2.1+cu121)\n",
            "Requirement already satisfied: torchvision>=0.5 in /usr/local/lib/python3.10/dist-packages (from easyocr) (0.17.1+cu121)\n",
            "Requirement already satisfied: opencv-python-headless in /usr/local/lib/python3.10/dist-packages (from easyocr) (4.9.0.80)\n",
            "Requirement already satisfied: scipy in /usr/local/lib/python3.10/dist-packages (from easyocr) (1.11.4)\n",
            "Requirement already satisfied: numpy in /usr/local/lib/python3.10/dist-packages (from easyocr) (1.25.2)\n",
            "Requirement already satisfied: Pillow in /usr/local/lib/python3.10/dist-packages (from easyocr) (9.4.0)\n",
            "Requirement already satisfied: scikit-image in /usr/local/lib/python3.10/dist-packages (from easyocr) (0.19.3)\n",
            "Collecting python-bidi (from easyocr)\n",
            "  Downloading python_bidi-0.4.2-py2.py3-none-any.whl (30 kB)\n",
            "Requirement already satisfied: PyYAML in /usr/local/lib/python3.10/dist-packages (from easyocr) (6.0.1)\n",
            "Requirement already satisfied: Shapely in /usr/local/lib/python3.10/dist-packages (from easyocr) (2.0.4)\n",
            "Collecting pyclipper (from easyocr)\n",
            "  Downloading pyclipper-1.3.0.post5-cp310-cp310-manylinux_2_12_x86_64.manylinux2010_x86_64.whl (908 kB)\n",
            "\u001b[2K     \u001b[90m━━━━━━━━━━━━━━━━━━━━━━━━━━━━━━━━━━━━━━━━\u001b[0m \u001b[32m908.3/908.3 kB\u001b[0m \u001b[31m28.2 MB/s\u001b[0m eta \u001b[36m0:00:00\u001b[0m\n",
            "\u001b[?25hCollecting ninja (from easyocr)\n",
            "  Downloading ninja-1.11.1.1-py2.py3-none-manylinux1_x86_64.manylinux_2_5_x86_64.whl (307 kB)\n",
            "\u001b[2K     \u001b[90m━━━━━━━━━━━━━━━━━━━━━━━━━━━━━━━━━━━━━━━━\u001b[0m \u001b[32m307.2/307.2 kB\u001b[0m \u001b[31m12.1 MB/s\u001b[0m eta \u001b[36m0:00:00\u001b[0m\n",
            "\u001b[?25hRequirement already satisfied: filelock in /usr/local/lib/python3.10/dist-packages (from torch->easyocr) (3.14.0)\n",
            "Requirement already satisfied: typing-extensions>=4.8.0 in /usr/local/lib/python3.10/dist-packages (from torch->easyocr) (4.11.0)\n",
            "Requirement already satisfied: sympy in /usr/local/lib/python3.10/dist-packages (from torch->easyocr) (1.12)\n",
            "Requirement already satisfied: networkx in /usr/local/lib/python3.10/dist-packages (from torch->easyocr) (3.3)\n",
            "Requirement already satisfied: jinja2 in /usr/local/lib/python3.10/dist-packages (from torch->easyocr) (3.1.4)\n",
            "Requirement already satisfied: fsspec in /usr/local/lib/python3.10/dist-packages (from torch->easyocr) (2023.6.0)\n",
            "Collecting nvidia-cuda-nvrtc-cu12==12.1.105 (from torch->easyocr)\n",
            "  Using cached nvidia_cuda_nvrtc_cu12-12.1.105-py3-none-manylinux1_x86_64.whl (23.7 MB)\n",
            "Collecting nvidia-cuda-runtime-cu12==12.1.105 (from torch->easyocr)\n",
            "  Using cached nvidia_cuda_runtime_cu12-12.1.105-py3-none-manylinux1_x86_64.whl (823 kB)\n",
            "Collecting nvidia-cuda-cupti-cu12==12.1.105 (from torch->easyocr)\n",
            "  Using cached nvidia_cuda_cupti_cu12-12.1.105-py3-none-manylinux1_x86_64.whl (14.1 MB)\n",
            "Collecting nvidia-cudnn-cu12==8.9.2.26 (from torch->easyocr)\n",
            "  Using cached nvidia_cudnn_cu12-8.9.2.26-py3-none-manylinux1_x86_64.whl (731.7 MB)\n",
            "Collecting nvidia-cublas-cu12==12.1.3.1 (from torch->easyocr)\n",
            "  Using cached nvidia_cublas_cu12-12.1.3.1-py3-none-manylinux1_x86_64.whl (410.6 MB)\n",
            "Collecting nvidia-cufft-cu12==11.0.2.54 (from torch->easyocr)\n",
            "  Using cached nvidia_cufft_cu12-11.0.2.54-py3-none-manylinux1_x86_64.whl (121.6 MB)\n",
            "Collecting nvidia-curand-cu12==10.3.2.106 (from torch->easyocr)\n",
            "  Using cached nvidia_curand_cu12-10.3.2.106-py3-none-manylinux1_x86_64.whl (56.5 MB)\n",
            "Collecting nvidia-cusolver-cu12==11.4.5.107 (from torch->easyocr)\n",
            "  Using cached nvidia_cusolver_cu12-11.4.5.107-py3-none-manylinux1_x86_64.whl (124.2 MB)\n",
            "Collecting nvidia-cusparse-cu12==12.1.0.106 (from torch->easyocr)\n",
            "  Using cached nvidia_cusparse_cu12-12.1.0.106-py3-none-manylinux1_x86_64.whl (196.0 MB)\n",
            "Collecting nvidia-nccl-cu12==2.19.3 (from torch->easyocr)\n",
            "  Using cached nvidia_nccl_cu12-2.19.3-py3-none-manylinux1_x86_64.whl (166.0 MB)\n",
            "Collecting nvidia-nvtx-cu12==12.1.105 (from torch->easyocr)\n",
            "  Using cached nvidia_nvtx_cu12-12.1.105-py3-none-manylinux1_x86_64.whl (99 kB)\n",
            "Requirement already satisfied: triton==2.2.0 in /usr/local/lib/python3.10/dist-packages (from torch->easyocr) (2.2.0)\n",
            "Collecting nvidia-nvjitlink-cu12 (from nvidia-cusolver-cu12==11.4.5.107->torch->easyocr)\n",
            "  Using cached nvidia_nvjitlink_cu12-12.4.127-py3-none-manylinux2014_x86_64.whl (21.1 MB)\n",
            "Requirement already satisfied: six in /usr/local/lib/python3.10/dist-packages (from python-bidi->easyocr) (1.16.0)\n",
            "Requirement already satisfied: imageio>=2.4.1 in /usr/local/lib/python3.10/dist-packages (from scikit-image->easyocr) (2.31.6)\n",
            "Requirement already satisfied: tifffile>=2019.7.26 in /usr/local/lib/python3.10/dist-packages (from scikit-image->easyocr) (2024.5.3)\n",
            "Requirement already satisfied: PyWavelets>=1.1.1 in /usr/local/lib/python3.10/dist-packages (from scikit-image->easyocr) (1.6.0)\n",
            "Requirement already satisfied: packaging>=20.0 in /usr/local/lib/python3.10/dist-packages (from scikit-image->easyocr) (24.0)\n",
            "Requirement already satisfied: MarkupSafe>=2.0 in /usr/local/lib/python3.10/dist-packages (from jinja2->torch->easyocr) (2.1.5)\n",
            "Requirement already satisfied: mpmath>=0.19 in /usr/local/lib/python3.10/dist-packages (from sympy->torch->easyocr) (1.3.0)\n",
            "Installing collected packages: pyclipper, ninja, python-bidi, nvidia-nvtx-cu12, nvidia-nvjitlink-cu12, nvidia-nccl-cu12, nvidia-curand-cu12, nvidia-cufft-cu12, nvidia-cuda-runtime-cu12, nvidia-cuda-nvrtc-cu12, nvidia-cuda-cupti-cu12, nvidia-cublas-cu12, nvidia-cusparse-cu12, nvidia-cudnn-cu12, nvidia-cusolver-cu12, easyocr\n",
            "Successfully installed easyocr-1.7.1 ninja-1.11.1.1 nvidia-cublas-cu12-12.1.3.1 nvidia-cuda-cupti-cu12-12.1.105 nvidia-cuda-nvrtc-cu12-12.1.105 nvidia-cuda-runtime-cu12-12.1.105 nvidia-cudnn-cu12-8.9.2.26 nvidia-cufft-cu12-11.0.2.54 nvidia-curand-cu12-10.3.2.106 nvidia-cusolver-cu12-11.4.5.107 nvidia-cusparse-cu12-12.1.0.106 nvidia-nccl-cu12-2.19.3 nvidia-nvjitlink-cu12-12.4.127 nvidia-nvtx-cu12-12.1.105 pyclipper-1.3.0.post5 python-bidi-0.4.2\n"
          ]
        }
      ]
    },
    {
      "cell_type": "code",
      "source": [
        "from pdf2image import convert_from_path\n",
        "import easyocr\n",
        "import numpy as np\n",
        "import PIL\n",
        "from PIL import ImageDraw\n",
        "import spacy\n",
        "from IPython.display import display, Image"
      ],
      "metadata": {
        "id": "1vTzGTN9Wctc"
      },
      "execution_count": 14,
      "outputs": []
    },
    {
      "cell_type": "code",
      "source": [
        "from PIL import Image"
      ],
      "metadata": {
        "id": "MKBvw395Lj05"
      },
      "execution_count": 15,
      "outputs": []
    },
    {
      "cell_type": "code",
      "source": [
        "reader = easyocr.Reader(['ru'])\n"
      ],
      "metadata": {
        "colab": {
          "base_uri": "https://localhost:8080/"
        },
        "id": "NejsengkWeh6",
        "outputId": "b431c105-ba07-4ec6-bbc6-35ffea1917bd"
      },
      "execution_count": 16,
      "outputs": [
        {
          "output_type": "stream",
          "name": "stderr",
          "text": [
            "WARNING:easyocr.easyocr:Neither CUDA nor MPS are available - defaulting to CPU. Note: This module is much faster with a GPU.\n",
            "WARNING:easyocr.easyocr:Downloading detection model, please wait. This may take several minutes depending upon your network connection.\n"
          ]
        },
        {
          "output_type": "stream",
          "name": "stdout",
          "text": [
            "Progress: |██████████████████████████████████████████████████| 100.0% Complete"
          ]
        },
        {
          "output_type": "stream",
          "name": "stderr",
          "text": [
            "WARNING:easyocr.easyocr:Downloading recognition model, please wait. This may take several minutes depending upon your network connection.\n"
          ]
        },
        {
          "output_type": "stream",
          "name": "stdout",
          "text": [
            "Progress: |██████████████████████████████████████████████████| 100.1% Complete"
          ]
        }
      ]
    },
    {
      "cell_type": "code",
      "source": [
        "images = convert_from_path('/content/drive/MyDrive/cv-2.pdf')"
      ],
      "metadata": {
        "id": "VGXvqPQHWf0D"
      },
      "execution_count": 17,
      "outputs": []
    },
    {
      "cell_type": "code",
      "source": [
        "bounds = reader.readtext(np.array(images[0]), min_size=0, slope_ths=0.2, ycenter_ths=0.7, height_ths=0.6, width_ths=0.8,decoder='beamsearch', beamWidth=10, allowlist=' АБВГДЕЁЖЗИЙКЛМНОПРСТУФХЦЧШЩЪЫЬЭЮЯ-йцукенгшщзхъфывапролджэёячсмитьбюqwertyuiopasdfghjkl;\\][zxcvbnm,./]QWERTYUIOPASDFHJKLZXCVBNM<>?:\"|{}1234567890@!#$%^&*()!\"№%:,.;()-+=<>±§')\n",
        "bounds"
      ],
      "metadata": {
        "colab": {
          "base_uri": "https://localhost:8080/"
        },
        "id": "d7WD5HvDauH8",
        "outputId": "83a76dfb-0286-4283-9fae-0eb252ebe1a7",
        "collapsed": true
      },
      "execution_count": 18,
      "outputs": [
        {
          "output_type": "execute_result",
          "data": {
            "text/plain": [
              "[([[534, 62], [1118, 62], [1118, 116], [534, 116]],\n",
              "  'АНАСТАСИЯ КУЧИНА',\n",
              "  0.9547110675549709),\n",
              " ([[422, 147], [811, 147], [811, 179], [422, 179]],\n",
              "  'kuchina anastasiall@gmail com',\n",
              "  0.9608720844462089),\n",
              " ([[833, 147], [1229, 147], [1229, 183], [833, 183]],\n",
              "  'github com /kuchina-anastasiall',\n",
              "  0.8783150388605099),\n",
              " ([[70, 218], [298, 218], [298, 250], [70, 250]],\n",
              "  'ОБРАЗОВАНИЕ',\n",
              "  0.9755618263548116),\n",
              " ([[98, 268], [508, 268], [508, 300], [98, 300]],\n",
              "  'Высшая Школа Экономики',\n",
              "  0.7203432756285416),\n",
              " ([[1288, 270], [1426, 270], [1426, 300], [1288, 300]],\n",
              "  'Сент 2022',\n",
              "  0.9929587134694757),\n",
              " ([[1448, 270], [1572, 270], [1572, 300], [1448, 300]],\n",
              "  'Май 2026',\n",
              "  0.9954868393052583),\n",
              " ([[97, 302], [780, 302], [780, 335], [97, 335]],\n",
              "  'Прuклadtou antaлuз danutbtz u ucкgccmeenuatotu unumemлerm',\n",
              "  0.11518790101435572),\n",
              " ([[1256, 304], [1570, 304], [1570, 334], [1256, 334]],\n",
              "  'Caatжm-Петербчра, Россuя',\n",
              "  0.41000345994969517),\n",
              " ([[115, 349], [363, 349], [363, 369], [115, 369]],\n",
              "  'Дискретная математика',\n",
              "  0.982469343154444),\n",
              " ([[398, 346], [486, 346], [486, 370], [398, 370]],\n",
              "  'Алгебра',\n",
              "  0.9999948635118422),\n",
              " ([[523, 349], [769, 349], [769, 367], [523, 367]],\n",
              "  'Математический анализ',\n",
              "  0.9465340554031985),\n",
              " ([[805, 345], [1026, 345], [1026, 372], [805, 372]],\n",
              "  'Теория Вероятностей',\n",
              "  0.9999226577061006),\n",
              " ([[1060, 346], [1136, 346], [1136, 370], [1060, 370]],\n",
              "  'Python',\n",
              "  0.9999768831203323),\n",
              " ([[1173, 347], [1508, 347], [1508, 372], [1173, 372]],\n",
              "  'Алгоритмы и структуры данных',\n",
              "  0.7859954577620991),\n",
              " ([[115, 391], [257, 391], [257, 409], [115, 409]],\n",
              "  'Базы Данных',\n",
              "  0.7078251268713148),\n",
              " ([[98, 442], [318, 442], [318, 472], [98, 472]],\n",
              "  'Tinkoff Fintech',\n",
              "  0.9800185387218359),\n",
              " ([[1262, 439], [1411, 439], [1411, 477], [1262, 477]],\n",
              "  'Февр: 2023',\n",
              "  0.9730665103654497),\n",
              " ([[1430, 444], [1572, 444], [1572, 472], [1430, 472]],\n",
              "  'Июнь 2023',\n",
              "  0.7111292978671055),\n",
              " ([[102, 478], [442, 478], [442, 508], [102, 508]],\n",
              "  'Атлuз daautolz 6 uaoucmpuu',\n",
              "  0.3427521098881955),\n",
              " ([[1256, 478], [1570, 478], [1570, 508], [1256, 508]],\n",
              "  'Canжm-Пеmербчр:; Россuя',\n",
              "  0.356046142958065),\n",
              " ([[112, 520], [188, 520], [188, 544], [112, 544]],\n",
              "  'Python',\n",
              "  0.9999008155715997),\n",
              " ([[223, 519], [298, 519], [298, 545], [223, 545]],\n",
              "  'Numpy',\n",
              "  0.9997418059767529),\n",
              " ([[334, 515], [512, 515], [512, 546], [334, 546]],\n",
              "  'Machine Learning',\n",
              "  0.8025538229644247),\n",
              " ([[549, 521], [667, 521], [667, 541], [549, 541]],\n",
              "  'Статистика',\n",
              "  0.9327098171210139),\n",
              " ([[702, 518], [888, 518], [888, 544], [702, 544]],\n",
              "  'A-B тестирование',\n",
              "  0.6133905753592567),\n",
              " ([[70, 584], [168, 584], [168, 616], [70, 616]], 'Опыт', 0.9999005198478699),\n",
              " ([[98, 635], [209, 635], [209, 671], [98, 671]],\n",
              "  'Яндекс',\n",
              "  0.9999984426560902),\n",
              " ([[1282, 638], [1426, 638], [1426, 666], [1282, 666]],\n",
              "  'Июль 2023',\n",
              "  0.9603675523070724),\n",
              " ([[1450, 638], [1572, 638], [1572, 666], [1450, 666]],\n",
              "  'Окт 2023',\n",
              "  0.9992885223240637),\n",
              " ([[99, 670], [760, 670], [760, 701], [99, 701]],\n",
              "  'Cmaэtcep Aтtaлumuж-разрабоmчuк 6 Якоекс Персвоочuжс',\n",
              "  0.2526817489910548),\n",
              " ([[1385, 671], [1570, 671], [1570, 700], [1385, 700]],\n",
              "  'Москес, Россъя',\n",
              "  0.653457343737215),\n",
              " ([[112, 714], [188, 714], [188, 738], [112, 738]],\n",
              "  'Python',\n",
              "  0.9999008155715997),\n",
              " ([[222, 712], [264, 712], [264, 736], [222, 736]], 'SQl', 0.9914351209278949),\n",
              " ([[298, 712], [412, 712], [412, 736], [298, 736]],\n",
              "  'ClickHouse',\n",
              "  0.995302861425341),\n",
              " ([[446, 712], [494, 712], [494, 736], [446, 736]], 'NLP', 0.9999082561518029),\n",
              " ([[530, 712], [654, 712], [654, 736], [530, 736]],\n",
              "  'Autometrics',\n",
              "  0.9999787575661423),\n",
              " ([[158, 764], [1506, 764], [1506, 792], [158, 792]],\n",
              "  'В ходе стажировки изучила различные автометрики и подходы к использованию их: Ha основе этой информации',\n",
              "  0.6713258815582854),\n",
              " ([[158, 794], [1214, 794], [1214, 822], [158, 822]],\n",
              "  'провела стат тесты для поиска корреляции между интересующими компанию метриками',\n",
              "  0.6530415861414686),\n",
              " ([[158, 830], [1580, 830], [1580, 858], [158, 858]],\n",
              "  'Выявила самую высокую корреляцию и написала тулзу для подсчета корреляции и самой автометрики; которая сейчас',\n",
              "  0.8262809006852556),\n",
              " ([[158, 864], [548, 864], [548, 890], [158, 890]],\n",
              "  'активно использустся коллсгами',\n",
              "  0.8717355921124537),\n",
              " ([[157, 893], [1517, 893], [1517, 929], [157, 929]],\n",
              "  'В ходе работы были использованы большое количество внутренних сервисов; также приобрела опыт обнаружения',\n",
              "  0.8633402513763175),\n",
              " ([[157, 921], [519, 921], [519, 957], [157, 957]],\n",
              "  'антифрода; работы в команде:',\n",
              "  0.9561266523612236),\n",
              " ([[96, 992], [259, 992], [259, 1030], [96, 1030]],\n",
              "  'ПРОЕКТЫ',\n",
              "  0.9525394797800925),\n",
              " ([[98, 1068], [586, 1068], [586, 1100], [98, 1100]],\n",
              "  'Текстовый помощник на русском',\n",
              "  0.998068826135266),\n",
              " ([[1275, 1065], [1423, 1065], [1423, 1101], [1275, 1101]],\n",
              "  'Февр: 2023',\n",
              "  0.5976795023643389),\n",
              " ([[1446, 1068], [1572, 1068], [1572, 1098], [1446, 1098]],\n",
              "  'Май 2023',\n",
              "  0.997154214901539),\n",
              " ([[100, 1102], [306, 1102], [306, 1132], [100, 1132]],\n",
              "  'Kuрсовощ npocжm',\n",
              "  0.17980817499533788),\n",
              " ([[1256, 1102], [1570, 1102], [1570, 1132], [1256, 1132]],\n",
              "  'Caatжm-Петербчра, Россuя',\n",
              "  0.3722741708344424),\n",
              " ([[112, 1146], [188, 1146], [188, 1170], [112, 1170]],\n",
              "  'Python',\n",
              "  0.9999008155715997),\n",
              " ([[222, 1146], [310, 1146], [310, 1170], [222, 1170]],\n",
              "  'PyTorch',\n",
              "  0.6201043546229474),\n",
              " ([[347, 1147], [475, 1147], [475, 1167], [347, 1167]],\n",
              "  'Transformers',\n",
              "  0.9999763926442247),\n",
              " ([[511, 1147], [559, 1147], [559, 1167], [511, 1167]],\n",
              "  'NLP',\n",
              "  0.9999263570618102),\n",
              " ([[160, 1194], [1244, 1194], [1244, 1222], [160, 1222]],\n",
              "  'Чат-бот для общения, отвстов на вопросы по картинкам; генерации музыки и изображений',\n",
              "  0.591724735513779),\n",
              " ([[158, 1230], [602, 1230], [602, 1260], [158, 1260]],\n",
              "  'Был переведен датасст для обучения',\n",
              "  0.6974910576945673),\n",
              " ([[620, 1230], [1298, 1230], [1298, 1260], [620, 1260]],\n",
              "  'c использованием YandexApi для более точного перевода',\n",
              "  0.6541355070610957),\n",
              " ([[156, 1264], [1534, 1264], [1534, 1296], [156, 1296]],\n",
              "  'Тюнинг различных моделей; основанных на принципе transformers. После различных экспериментов; была выбрана',\n",
              "  0.719556596850236),\n",
              " ([[156, 1296], [364, 1296], [364, 1322], [156, 1322]],\n",
              "  'sberCPT-medium',\n",
              "  0.9985169139663312),\n",
              " ([[95, 1339], [633, 1339], [633, 1375], [95, 1375]],\n",
              "  'База данных для поставщиков кофе',\n",
              "  0.9996900572527058),\n",
              " ([[1444, 1342], [1572, 1342], [1572, 1372], [1444, 1372]],\n",
              "  'Дек: 2023',\n",
              "  0.6067566349327094),\n",
              " ([[100, 1378], [226, 1378], [226, 1406], [100, 1406]],\n",
              "  'Pet-project',\n",
              "  0.9678321901472765),\n",
              " ([[1255, 1375], [1570, 1375], [1570, 1406], [1255, 1406]],\n",
              "  'Caatжm-Пemербчра; Россuя',\n",
              "  0.39557422092215566),\n",
              " ([[112, 1418], [232, 1418], [232, 1444], [112, 1444]],\n",
              "  'PostgreSQL',\n",
              "  0.9994715466616163),\n",
              " ([[157, 1464], [1511, 1464], [1511, 1500], [157, 1500]],\n",
              "  'В рамках курса по Базам Данных разработала c командой БД для поставщиков кофе и написали скрипты для ee',\n",
              "  0.8956371590405174),\n",
              " ([[159, 1503], [335, 1503], [335, 1523], [159, 1523]],\n",
              "  'использования',\n",
              "  0.9998403299490306),\n",
              " ([[160, 1531], [1486, 1531], [1486, 1564], [160, 1564]],\n",
              "  'Я занималась разработкой концептуальной и логичсской модсли БД Также написала нссколько views; которые',\n",
              "  0.7014525185806544),\n",
              " ([[158, 1571], [286, 1571], [286, 1589], [158, 1589]],\n",
              "  'позволяют',\n",
              "  0.6055583460266797),\n",
              " ([[288, 1561], [1543, 1561], [1543, 1598], [288, 1598]],\n",
              "  'собирать данные для аналитиков; процедуру для добавления заказа в базу и триггер, который проверяет',\n",
              "  0.6716709297883223),\n",
              " ([[158, 1600], [870, 1600], [870, 1624], [158, 1624]],\n",
              "  'корректность заказа; c учетом количества товара нa складе',\n",
              "  0.7056713624243562),\n",
              " ([[70, 1652], [298, 1652], [298, 1684], [70, 1684]],\n",
              "  'ДостижЕния',\n",
              "  0.9949441087859933),\n",
              " ([[97, 1704], [704, 1704], [704, 1735], [97, 1735]],\n",
              "  'Математическая олимпиада МФТИ(Физтех)',\n",
              "  0.9709647114653703),\n",
              " ([[93, 1735], [973, 1735], [973, 1773], [93, 1773]],\n",
              "  'Получила диплом второй степени; количество участников более 200',\n",
              "  0.7334087735368127),\n",
              " ([[1429, 1734], [1573, 1734], [1573, 1771], [1429, 1771]],\n",
              "  'Март 2020',\n",
              "  0.9981381279726168),\n",
              " ([[98, 1796], [806, 1796], [806, 1826], [98, 1826]],\n",
              "  'Заочная физико-математическая школа при МФТИ',\n",
              "  0.9217241452143541),\n",
              " ([[98, 1828], [994, 1828], [994, 1860], [98, 1860]],\n",
              "  'Углубленное изучение физики и математики на протяжении двух лет',\n",
              "  0.6595005887927906),\n",
              " ([[1288, 1828], [1428, 1828], [1428, 1858], [1288, 1858]],\n",
              "  'Сент 2018',\n",
              "  0.9954107108540611),\n",
              " ([[1446, 1828], [1572, 1828], [1572, 1858], [1446, 1858]],\n",
              "  'Май 2020',\n",
              "  0.9967403178826371),\n",
              " ([[94, 1883], [595, 1883], [595, 1921], [94, 1921]],\n",
              "  'Проектная деятельность в \"Сириус\"',\n",
              "  0.993681208474065),\n",
              " ([[97, 1916], [1227, 1916], [1227, 1956], [97, 1956]],\n",
              "  'Работала над проектом от Департамента Информационных Технологий Города Москвы',\n",
              "  0.786750781336059),\n",
              " ([[97, 1951], [897, 1951], [897, 1988], [97, 1988]],\n",
              "  'Основная задача заключалась в предсказании расходов ЖКУ',\n",
              "  0.8162626357468131),\n",
              " ([[1430, 1954], [1572, 1954], [1572, 1982], [1430, 1982]],\n",
              "  'Июль 2018',\n",
              "  0.9998257026202124)]"
            ]
          },
          "metadata": {},
          "execution_count": 18
        }
      ]
    },
    {
      "cell_type": "code",
      "source": [
        "bounds[1][1]"
      ],
      "metadata": {
        "colab": {
          "base_uri": "https://localhost:8080/",
          "height": 37
        },
        "id": "2ZQDXnNka56t",
        "outputId": "4c2876e4-1c75-40de-c8c2-31e5fae341d8"
      },
      "execution_count": 19,
      "outputs": [
        {
          "output_type": "execute_result",
          "data": {
            "text/plain": [
              "'kuchina anastasiall@gmail com'"
            ],
            "application/vnd.google.colaboratory.intrinsic+json": {
              "type": "string"
            }
          },
          "metadata": {},
          "execution_count": 19
        }
      ]
    },
    {
      "cell_type": "code",
      "source": [
        "text=''\n",
        "for i in range(len(bounds)):\n",
        "  text = text + bounds[i][1] +'\\n'\n",
        "\n",
        "print(text)"
      ],
      "metadata": {
        "colab": {
          "base_uri": "https://localhost:8080/"
        },
        "id": "DbIgkHLua7r7",
        "outputId": "7e0ec285-42fa-4e77-d557-2fb1f9683ab9"
      },
      "execution_count": 20,
      "outputs": [
        {
          "output_type": "stream",
          "name": "stdout",
          "text": [
            "АНАСТАСИЯ КУЧИНА\n",
            "kuchina anastasiall@gmail com\n",
            "github com /kuchina-anastasiall\n",
            "ОБРАЗОВАНИЕ\n",
            "Высшая Школа Экономики\n",
            "Сент 2022\n",
            "Май 2026\n",
            "Прuклadtou antaлuз danutbtz u ucкgccmeenuatotu unumemлerm\n",
            "Caatжm-Петербчра, Россuя\n",
            "Дискретная математика\n",
            "Алгебра\n",
            "Математический анализ\n",
            "Теория Вероятностей\n",
            "Python\n",
            "Алгоритмы и структуры данных\n",
            "Базы Данных\n",
            "Tinkoff Fintech\n",
            "Февр: 2023\n",
            "Июнь 2023\n",
            "Атлuз daautolz 6 uaoucmpuu\n",
            "Canжm-Пеmербчр:; Россuя\n",
            "Python\n",
            "Numpy\n",
            "Machine Learning\n",
            "Статистика\n",
            "A-B тестирование\n",
            "Опыт\n",
            "Яндекс\n",
            "Июль 2023\n",
            "Окт 2023\n",
            "Cmaэtcep Aтtaлumuж-разрабоmчuк 6 Якоекс Персвоочuжс\n",
            "Москес, Россъя\n",
            "Python\n",
            "SQl\n",
            "ClickHouse\n",
            "NLP\n",
            "Autometrics\n",
            "В ходе стажировки изучила различные автометрики и подходы к использованию их: Ha основе этой информации\n",
            "провела стат тесты для поиска корреляции между интересующими компанию метриками\n",
            "Выявила самую высокую корреляцию и написала тулзу для подсчета корреляции и самой автометрики; которая сейчас\n",
            "активно использустся коллсгами\n",
            "В ходе работы были использованы большое количество внутренних сервисов; также приобрела опыт обнаружения\n",
            "антифрода; работы в команде:\n",
            "ПРОЕКТЫ\n",
            "Текстовый помощник на русском\n",
            "Февр: 2023\n",
            "Май 2023\n",
            "Kuрсовощ npocжm\n",
            "Caatжm-Петербчра, Россuя\n",
            "Python\n",
            "PyTorch\n",
            "Transformers\n",
            "NLP\n",
            "Чат-бот для общения, отвстов на вопросы по картинкам; генерации музыки и изображений\n",
            "Был переведен датасст для обучения\n",
            "c использованием YandexApi для более точного перевода\n",
            "Тюнинг различных моделей; основанных на принципе transformers. После различных экспериментов; была выбрана\n",
            "sberCPT-medium\n",
            "База данных для поставщиков кофе\n",
            "Дек: 2023\n",
            "Pet-project\n",
            "Caatжm-Пemербчра; Россuя\n",
            "PostgreSQL\n",
            "В рамках курса по Базам Данных разработала c командой БД для поставщиков кофе и написали скрипты для ee\n",
            "использования\n",
            "Я занималась разработкой концептуальной и логичсской модсли БД Также написала нссколько views; которые\n",
            "позволяют\n",
            "собирать данные для аналитиков; процедуру для добавления заказа в базу и триггер, который проверяет\n",
            "корректность заказа; c учетом количества товара нa складе\n",
            "ДостижЕния\n",
            "Математическая олимпиада МФТИ(Физтех)\n",
            "Получила диплом второй степени; количество участников более 200\n",
            "Март 2020\n",
            "Заочная физико-математическая школа при МФТИ\n",
            "Углубленное изучение физики и математики на протяжении двух лет\n",
            "Сент 2018\n",
            "Май 2020\n",
            "Проектная деятельность в \"Сириус\"\n",
            "Работала над проектом от Департамента Информационных Технологий Города Москвы\n",
            "Основная задача заключалась в предсказании расходов ЖКУ\n",
            "Июль 2018\n",
            "\n"
          ]
        }
      ]
    },
    {
      "cell_type": "markdown",
      "source": [],
      "metadata": {
        "id": "JzDBMvP0RvWW"
      }
    },
    {
      "cell_type": "markdown",
      "source": [
        "\n",
        "Вывод: лучше доставать текст обычным парсером, чем CV моделью. Тем более, у spacy проблемы с распознованием русского языка, поэтому будем использовать natasha, чтобы доставать кей-скилы и последнюю специальность\n"
      ],
      "metadata": {
        "id": "EpinQCSGSEVX"
      }
    },
    {
      "cell_type": "code",
      "source": [
        "!pip install russianCVparser"
      ],
      "metadata": {
        "colab": {
          "base_uri": "https://localhost:8080/"
        },
        "id": "DysrrES5S71H",
        "outputId": "672abca6-7144-4d66-d8ac-fab464c4d903"
      },
      "execution_count": 21,
      "outputs": [
        {
          "output_type": "stream",
          "name": "stdout",
          "text": [
            "Requirement already satisfied: russianCVparser in /usr/local/lib/python3.10/dist-packages (1.1)\n",
            "Requirement already satisfied: natasha in /usr/local/lib/python3.10/dist-packages (from russianCVparser) (1.6.0)\n",
            "Requirement already satisfied: pdfminer.six in /usr/local/lib/python3.10/dist-packages (from russianCVparser) (20231228)\n",
            "Requirement already satisfied: docx2txt in /usr/local/lib/python3.10/dist-packages (from russianCVparser) (0.8)\n",
            "Requirement already satisfied: pymorphy2 in /usr/local/lib/python3.10/dist-packages (from natasha->russianCVparser) (0.9.1)\n",
            "Requirement already satisfied: razdel>=0.5.0 in /usr/local/lib/python3.10/dist-packages (from natasha->russianCVparser) (0.5.0)\n",
            "Requirement already satisfied: navec>=0.9.0 in /usr/local/lib/python3.10/dist-packages (from natasha->russianCVparser) (0.10.0)\n",
            "Requirement already satisfied: slovnet>=0.6.0 in /usr/local/lib/python3.10/dist-packages (from natasha->russianCVparser) (0.6.0)\n",
            "Requirement already satisfied: yargy>=0.16.0 in /usr/local/lib/python3.10/dist-packages (from natasha->russianCVparser) (0.16.0)\n",
            "Requirement already satisfied: ipymarkup>=0.8.0 in /usr/local/lib/python3.10/dist-packages (from natasha->russianCVparser) (0.9.0)\n",
            "Requirement already satisfied: charset-normalizer>=2.0.0 in /usr/local/lib/python3.10/dist-packages (from pdfminer.six->russianCVparser) (3.3.2)\n",
            "Requirement already satisfied: cryptography>=36.0.0 in /usr/local/lib/python3.10/dist-packages (from pdfminer.six->russianCVparser) (42.0.7)\n",
            "Requirement already satisfied: cffi>=1.12 in /usr/local/lib/python3.10/dist-packages (from cryptography>=36.0.0->pdfminer.six->russianCVparser) (1.16.0)\n",
            "Requirement already satisfied: intervaltree>=3 in /usr/local/lib/python3.10/dist-packages (from ipymarkup>=0.8.0->natasha->russianCVparser) (3.1.0)\n",
            "Requirement already satisfied: numpy in /usr/local/lib/python3.10/dist-packages (from navec>=0.9.0->natasha->russianCVparser) (1.25.2)\n",
            "Requirement already satisfied: dawg-python>=0.7.1 in /usr/local/lib/python3.10/dist-packages (from pymorphy2->natasha->russianCVparser) (0.7.2)\n",
            "Requirement already satisfied: pymorphy2-dicts-ru<3.0,>=2.4 in /usr/local/lib/python3.10/dist-packages (from pymorphy2->natasha->russianCVparser) (2.4.417127.4579844)\n",
            "Requirement already satisfied: docopt>=0.6 in /usr/local/lib/python3.10/dist-packages (from pymorphy2->natasha->russianCVparser) (0.6.2)\n",
            "Requirement already satisfied: pycparser in /usr/local/lib/python3.10/dist-packages (from cffi>=1.12->cryptography>=36.0.0->pdfminer.six->russianCVparser) (2.22)\n",
            "Requirement already satisfied: sortedcontainers<3.0,>=2.0 in /usr/local/lib/python3.10/dist-packages (from intervaltree>=3->ipymarkup>=0.8.0->natasha->russianCVparser) (2.4.0)\n"
          ]
        }
      ]
    },
    {
      "cell_type": "markdown",
      "source": [
        "- Парсер из библиотеки работает плохо, поэтому пишем свой используя Natasha и Yargy"
      ],
      "metadata": {
        "id": "1umCs4byTKio"
      }
    },
    {
      "cell_type": "code",
      "source": [
        "from glob import glob\n",
        "\n",
        "with open('/content/drive/MyDrive/cv-2.txt') as file:\n",
        "  text = file.read()\n",
        "\n",
        "text = text.lower()"
      ],
      "metadata": {
        "id": "k9xJcwboTTl9"
      },
      "execution_count": 22,
      "outputs": []
    },
    {
      "cell_type": "code",
      "source": [
        "text"
      ],
      "metadata": {
        "colab": {
          "base_uri": "https://localhost:8080/",
          "height": 174
        },
        "id": "xNbvmRFtsxgw",
        "outputId": "4ee5e086-9618-4ee2-8863-894f9486f7d8"
      },
      "execution_count": 23,
      "outputs": [
        {
          "output_type": "execute_result",
          "data": {
            "text/plain": [
              "'анастасия кучина\\nkuchina.anastasia11@gmail.com github.com/kuchina-anastasia11\\nобразование\\nвысшая школа экономики сент. 2022 - май 2026\\nприкладной анализ данных и искусственный интеллект санкт-петербург, россия\\nдискретная математика алгебра математический анализ теория вероятностей python алгоритмы и структуры данных\\nбазы данных\\ntinkoff fintech февр. 2023 - июнь 2023\\nанализ данных в индустрии санкт-петербург, россия\\npython numpy machine learning статистика a-b тестирование\\nопыт\\nяндекс июль 2023 – окт 2023\\nстажер аналитик-разработчик в яндекс.переводчике москва, россия\\npython sql clickhouse nlp autometrics\\n•в ходе стажировки изучила различные автометрики и подходы к использованию их. на основе этой информации\\nпровела стат.тесты для поиска корреляции между интересующими компанию метриками\\n•выявила самую высокую корреляцию и написала тулзу для подсчета корреляции и самой автометрики, которая сейчас\\nактивно используется коллегами\\n•в ходе работы были использованы большое количество внутренних сервисов, также приобрела опыт обнаружения\\nантифрода, работы в команде.\\nпроекты\\nтекстовый помощник на русском февр. 2023 – май 2023\\nкурсовой проект санкт-петербург, россия\\npython pytorch transformers nlp\\n•чат-бот для общения, ответов на вопросы по картинкам, генерации музыки и изображений\\n•был переведен датасет для обучения , с использованием yandexapi для более точного перевода.\\n•тюнинг различных моделей, основанных на принципе transformers. после различных экспериментов, была выбрана -\\nsbergpt-medium\\nбаза данных для поставщиков кофе дек. 2023\\npet-project санкт-петербург, россия\\npostgresql\\n•в рамках курса по базам данных разработала с командой бд для поставщиков кофе и написали скрипты для ее\\nиспользования\\n•я занималась разработкой концептуальной и логической модели бд. также написала несколько views, которые\\nпозволяют собирать данные для аналитиков, процедуру для добавления заказа в базу и триггер, который проверяет\\nкорректность заказа, с учетом количества товара на складе\\nдостижения\\nматематическая олимпиада мфти(физтех)\\nполучила диплом второй степени, количество участников более 200 март 2020\\nзаочная физико-математическая школа при мфти\\nуглубленное изучение физики и математики на протяжении двух лет сент. 2018 - май 2020\\nпроектная деятельность в \"сириус\"\\nработала над проектом от департамента информационных технологий города москвы.\\nосновная задача заключалась в предсказании расходов жку июль 2018'"
            ],
            "application/vnd.google.colaboratory.intrinsic+json": {
              "type": "string"
            }
          },
          "metadata": {},
          "execution_count": 23
        }
      ]
    },
    {
      "cell_type": "code",
      "source": [
        "import json\n",
        "\n",
        "from ipymarkup import show_span_ascii_markup as show_markup\n",
        "\n",
        "from yargy import (\n",
        "    Parser,\n",
        "    rule, or_, and_, not_\n",
        ")\n",
        "from yargy.predicates import (\n",
        "    eq, in_,\n",
        "    type, normalized,\n",
        "    dictionary,\n",
        "    gte, lte\n",
        ")\n",
        "from yargy.pipelines import (\n",
        "    pipeline,\n",
        "    morph_pipeline\n",
        ")\n",
        "from yargy.interpretation import (\n",
        "    fact,\n",
        "    attribute\n",
        ")\n",
        "from yargy.tokenizer import MorphTokenizer, EOL\n",
        "\n",
        "\n",
        "Intro = fact(\n",
        "    'Intro',\n",
        "    [\n",
        "     'position',\n",
        "     attribute('subspecializations').repeatable()\n",
        "    ]\n",
        ")\n",
        "\n",
        "\n",
        "INT = type('INT')\n",
        "COMMA = eq(',')\n",
        "COLON = eq(':')\n",
        "\n",
        "\n"
      ],
      "metadata": {
        "id": "W4lX4uBeUjT_"
      },
      "execution_count": 24,
      "outputs": []
    },
    {
      "cell_type": "code",
      "source": [
        "\n",
        "def load_lines(path):\n",
        "    with open(path) as file:\n",
        "        for line in file:\n",
        "            yield line.rstrip('\\n')\n",
        "\n",
        "def show_json(data):\n",
        "    print(json.dumps(data, indent=2, ensure_ascii=False))\n",
        "\n",
        "\n",
        "def show_matches(rule, *lines):\n",
        "    parser = Parser(rule)\n",
        "    for line in lines:\n",
        "        matches = parser.findall(line)\n",
        "        spans = [_.span for _ in matches]\n",
        "        show_markup(line, spans)"
      ],
      "metadata": {
        "id": "Soxg13W1VTkU"
      },
      "execution_count": 25,
      "outputs": []
    },
    {
      "cell_type": "code",
      "source": [
        "SPECIALIZATIONS = set(load_lines('/content/drive/MyDrive/specialization.txt')) # добавить наш большой список\n",
        "SUBSPECIALIZATIONS = set(load_lines('/content/drive/MyDrive/subspecialization.txt'))\n",
        "\n",
        "TITLE = pipeline([\n",
        "    'желаемая должность и зарплата'\n",
        "])\n",
        "\n",
        "DOT = eq('•')\n",
        "\n",
        "SUBTITLE = not_(DOT).repeatable().interpretation(\n",
        "    Intro.position\n",
        ")\n",
        "\n",
        "SPECIALIZATION = pipeline(SPECIALIZATIONS)\n",
        "\n",
        "SUBSPECIALIZATION = pipeline(SUBSPECIALIZATIONS)\n",
        "\n",
        "ITEM = rule(\n",
        "    DOT,\n",
        "    or_(\n",
        "        SPECIALIZATION,\n",
        "        SUBSPECIALIZATION\n",
        "    ).interpretation(\n",
        "        Intro.subspecializations\n",
        "    )\n",
        ")\n",
        "\n",
        "POSITION = rule(\n",
        "    TITLE,\n",
        "    SUBTITLE,\n",
        "    ITEM.repeatable()\n",
        ")\n",
        "\n",
        "\n",
        "TOKENIZER = MorphTokenizer().remove_types(EOL)\n",
        "\n",
        "\n",
        "parser = Parser(POSITION, tokenizer=TOKENIZER)\n",
        "\n",
        "\n",
        "for match in parser.findall(text):\n",
        "  start, stop = match.span\n",
        "  print(text[start:stop])\n"
      ],
      "metadata": {
        "id": "b0hsSWx6Vtv_"
      },
      "execution_count": 26,
      "outputs": []
    },
    {
      "cell_type": "code",
      "source": [
        "INTRO = rule(\n",
        "    POSITION\n",
        ").interpretation(\n",
        "    Intro\n",
        ")\n",
        "\n",
        "\n",
        "parser = Parser(INTRO, tokenizer=TOKENIZER)\n",
        "\n",
        "\n",
        "matches = list(parser.findall(text))\n",
        "print(matches)\n",
        "if matches:\n",
        "  match = matches[0]\n",
        "  fact = match.fact\n",
        "  show_markup(text, fact.spans)\n",
        "  json.dumps(fact.as_json, indent=2, ensure_ascii=False)"
      ],
      "metadata": {
        "colab": {
          "base_uri": "https://localhost:8080/"
        },
        "id": "PavmwFB-YVi2",
        "outputId": "92bcee1b-55e0-457a-b535-a7c1820e4260"
      },
      "execution_count": 27,
      "outputs": [
        {
          "output_type": "stream",
          "name": "stdout",
          "text": [
            "[]\n"
          ]
        }
      ]
    },
    {
      "cell_type": "code",
      "source": [],
      "metadata": {
        "id": "D_wm6e-KpGRb"
      },
      "execution_count": 27,
      "outputs": []
    },
    {
      "cell_type": "code",
      "source": [],
      "metadata": {
        "id": "JFeMaXioql-G"
      },
      "execution_count": 27,
      "outputs": []
    },
    {
      "cell_type": "code",
      "source": [],
      "metadata": {
        "id": "-eO0ZUCyylqw"
      },
      "execution_count": 27,
      "outputs": []
    },
    {
      "cell_type": "code",
      "source": [
        "# @title Текст заголовка по умолчанию\n"
      ],
      "metadata": {
        "cellView": "form",
        "id": "D3b2YvFyyn7J"
      },
      "execution_count": 28,
      "outputs": []
    },
    {
      "cell_type": "markdown",
      "source": [
        "## Поиск скиллов и должности"
      ],
      "metadata": {
        "id": "4-eLRGbEyzC_"
      }
    },
    {
      "cell_type": "code",
      "source": [
        "import pandas as pd"
      ],
      "metadata": {
        "id": "f9SS_8KB1aJs"
      },
      "execution_count": 29,
      "outputs": []
    },
    {
      "cell_type": "code",
      "source": [
        "df_vacancies = pd.read_csv('/content/drive/MyDrive/hahaha/vacancies_ru.csv')"
      ],
      "metadata": {
        "id": "O1jCD7GEy9i5"
      },
      "execution_count": 30,
      "outputs": []
    },
    {
      "cell_type": "code",
      "source": [
        "df_vacancies.head()"
      ],
      "metadata": {
        "colab": {
          "base_uri": "https://localhost:8080/",
          "height": 445
        },
        "id": "iFh9RSsx1hPK",
        "outputId": "e148b58d-fa5a-4085-d6a9-d81add181c98"
      },
      "execution_count": 31,
      "outputs": [
        {
          "output_type": "execute_result",
          "data": {
            "text/plain": [
              "   Unnamed: 0 vacancy_id                                             name  \\\n",
              "0           0   v_862116                              Смотритель музейный   \n",
              "1           1   v_288642  Ведущий менеджер по работе с физическими лицами   \n",
              "2           2  v_1840054                  Бухгалтер (по расчету зарплаты)   \n",
              "3           3  v_2346232              Пекарь (Токсово, Привокзальная, 16)   \n",
              "4           4   v_312507               Торговый представитель (г. Абакан)   \n",
              "\n",
              "  company_id                                          keySkills  \\\n",
              "0   c_162972  ['Пользователь ПК', 'Работа в команде', 'Умени...   \n",
              "1   c_208672  ['Активные продажи', 'Холодные продажи', 'Кред...   \n",
              "2   c_198109                                                NaN   \n",
              "3     c_6137                                                NaN   \n",
              "4   c_206699  ['Продуктивность', 'Клиентоориентированность',...   \n",
              "\n",
              "   compensation_from  compensation_to compensation_currencyCode area_id  \\\n",
              "0            16500.0              NaN                       RUR  a_4761   \n",
              "1            50000.0              NaN                       RUR   a_744   \n",
              "2            50000.0          65000.0                       RUR  a_6223   \n",
              "3            38500.0          42000.0                       RUR  a_4795   \n",
              "4            60000.0              NaN                       RUR  a_6837   \n",
              "\n",
              "  area_regionId employment workSchedule workExperience  \\\n",
              "0         ar_33       full      fullDay   noExperience   \n",
              "1          ar_2       full      fullDay   noExperience   \n",
              "2         ar_78       full      fullDay   between3And6   \n",
              "3         ar_51       full      fullDay   noExperience   \n",
              "4          ar_4       full      fullDay   between1And3   \n",
              "\n",
              "                                        clean_name  area_regionId_encoder  \\\n",
              "0                              Смотритель музейный                     32   \n",
              "1  Ведущий менеджер по работе с физическими лицами                     17   \n",
              "2                                        Бухгалтер                     81   \n",
              "3                                           Пекарь                     52   \n",
              "4                           Торговый представитель                     39   \n",
              "\n",
              "   area_id_encoder  company_id_encoder  employment_encoder  \\\n",
              "0             4181               69972                   5   \n",
              "1             6731              120750                   5   \n",
              "2             5806              109013                   5   \n",
              "3             4218              235992                   5   \n",
              "4             6487              118557                   5   \n",
              "\n",
              "   workSchedule_encoder  workExperience_encoder  \n",
              "0                     5                       1  \n",
              "1                     5                       1  \n",
              "2                     5                       3  \n",
              "3                     5                       1  \n",
              "4                     5                       2  "
            ],
            "text/html": [
              "\n",
              "  <div id=\"df-51833138-3dea-4dfa-ac1a-85aa626708e9\" class=\"colab-df-container\">\n",
              "    <div>\n",
              "<style scoped>\n",
              "    .dataframe tbody tr th:only-of-type {\n",
              "        vertical-align: middle;\n",
              "    }\n",
              "\n",
              "    .dataframe tbody tr th {\n",
              "        vertical-align: top;\n",
              "    }\n",
              "\n",
              "    .dataframe thead th {\n",
              "        text-align: right;\n",
              "    }\n",
              "</style>\n",
              "<table border=\"1\" class=\"dataframe\">\n",
              "  <thead>\n",
              "    <tr style=\"text-align: right;\">\n",
              "      <th></th>\n",
              "      <th>Unnamed: 0</th>\n",
              "      <th>vacancy_id</th>\n",
              "      <th>name</th>\n",
              "      <th>company_id</th>\n",
              "      <th>keySkills</th>\n",
              "      <th>compensation_from</th>\n",
              "      <th>compensation_to</th>\n",
              "      <th>compensation_currencyCode</th>\n",
              "      <th>area_id</th>\n",
              "      <th>area_regionId</th>\n",
              "      <th>employment</th>\n",
              "      <th>workSchedule</th>\n",
              "      <th>workExperience</th>\n",
              "      <th>clean_name</th>\n",
              "      <th>area_regionId_encoder</th>\n",
              "      <th>area_id_encoder</th>\n",
              "      <th>company_id_encoder</th>\n",
              "      <th>employment_encoder</th>\n",
              "      <th>workSchedule_encoder</th>\n",
              "      <th>workExperience_encoder</th>\n",
              "    </tr>\n",
              "  </thead>\n",
              "  <tbody>\n",
              "    <tr>\n",
              "      <th>0</th>\n",
              "      <td>0</td>\n",
              "      <td>v_862116</td>\n",
              "      <td>Смотритель музейный</td>\n",
              "      <td>c_162972</td>\n",
              "      <td>['Пользователь ПК', 'Работа в команде', 'Умени...</td>\n",
              "      <td>16500.0</td>\n",
              "      <td>NaN</td>\n",
              "      <td>RUR</td>\n",
              "      <td>a_4761</td>\n",
              "      <td>ar_33</td>\n",
              "      <td>full</td>\n",
              "      <td>fullDay</td>\n",
              "      <td>noExperience</td>\n",
              "      <td>Смотритель музейный</td>\n",
              "      <td>32</td>\n",
              "      <td>4181</td>\n",
              "      <td>69972</td>\n",
              "      <td>5</td>\n",
              "      <td>5</td>\n",
              "      <td>1</td>\n",
              "    </tr>\n",
              "    <tr>\n",
              "      <th>1</th>\n",
              "      <td>1</td>\n",
              "      <td>v_288642</td>\n",
              "      <td>Ведущий менеджер по работе с физическими лицами</td>\n",
              "      <td>c_208672</td>\n",
              "      <td>['Активные продажи', 'Холодные продажи', 'Кред...</td>\n",
              "      <td>50000.0</td>\n",
              "      <td>NaN</td>\n",
              "      <td>RUR</td>\n",
              "      <td>a_744</td>\n",
              "      <td>ar_2</td>\n",
              "      <td>full</td>\n",
              "      <td>fullDay</td>\n",
              "      <td>noExperience</td>\n",
              "      <td>Ведущий менеджер по работе с физическими лицами</td>\n",
              "      <td>17</td>\n",
              "      <td>6731</td>\n",
              "      <td>120750</td>\n",
              "      <td>5</td>\n",
              "      <td>5</td>\n",
              "      <td>1</td>\n",
              "    </tr>\n",
              "    <tr>\n",
              "      <th>2</th>\n",
              "      <td>2</td>\n",
              "      <td>v_1840054</td>\n",
              "      <td>Бухгалтер (по расчету зарплаты)</td>\n",
              "      <td>c_198109</td>\n",
              "      <td>NaN</td>\n",
              "      <td>50000.0</td>\n",
              "      <td>65000.0</td>\n",
              "      <td>RUR</td>\n",
              "      <td>a_6223</td>\n",
              "      <td>ar_78</td>\n",
              "      <td>full</td>\n",
              "      <td>fullDay</td>\n",
              "      <td>between3And6</td>\n",
              "      <td>Бухгалтер</td>\n",
              "      <td>81</td>\n",
              "      <td>5806</td>\n",
              "      <td>109013</td>\n",
              "      <td>5</td>\n",
              "      <td>5</td>\n",
              "      <td>3</td>\n",
              "    </tr>\n",
              "    <tr>\n",
              "      <th>3</th>\n",
              "      <td>3</td>\n",
              "      <td>v_2346232</td>\n",
              "      <td>Пекарь (Токсово, Привокзальная, 16)</td>\n",
              "      <td>c_6137</td>\n",
              "      <td>NaN</td>\n",
              "      <td>38500.0</td>\n",
              "      <td>42000.0</td>\n",
              "      <td>RUR</td>\n",
              "      <td>a_4795</td>\n",
              "      <td>ar_51</td>\n",
              "      <td>full</td>\n",
              "      <td>fullDay</td>\n",
              "      <td>noExperience</td>\n",
              "      <td>Пекарь</td>\n",
              "      <td>52</td>\n",
              "      <td>4218</td>\n",
              "      <td>235992</td>\n",
              "      <td>5</td>\n",
              "      <td>5</td>\n",
              "      <td>1</td>\n",
              "    </tr>\n",
              "    <tr>\n",
              "      <th>4</th>\n",
              "      <td>4</td>\n",
              "      <td>v_312507</td>\n",
              "      <td>Торговый представитель (г. Абакан)</td>\n",
              "      <td>c_206699</td>\n",
              "      <td>['Продуктивность', 'Клиентоориентированность',...</td>\n",
              "      <td>60000.0</td>\n",
              "      <td>NaN</td>\n",
              "      <td>RUR</td>\n",
              "      <td>a_6837</td>\n",
              "      <td>ar_4</td>\n",
              "      <td>full</td>\n",
              "      <td>fullDay</td>\n",
              "      <td>between1And3</td>\n",
              "      <td>Торговый представитель</td>\n",
              "      <td>39</td>\n",
              "      <td>6487</td>\n",
              "      <td>118557</td>\n",
              "      <td>5</td>\n",
              "      <td>5</td>\n",
              "      <td>2</td>\n",
              "    </tr>\n",
              "  </tbody>\n",
              "</table>\n",
              "</div>\n",
              "    <div class=\"colab-df-buttons\">\n",
              "\n",
              "  <div class=\"colab-df-container\">\n",
              "    <button class=\"colab-df-convert\" onclick=\"convertToInteractive('df-51833138-3dea-4dfa-ac1a-85aa626708e9')\"\n",
              "            title=\"Convert this dataframe to an interactive table.\"\n",
              "            style=\"display:none;\">\n",
              "\n",
              "  <svg xmlns=\"http://www.w3.org/2000/svg\" height=\"24px\" viewBox=\"0 -960 960 960\">\n",
              "    <path d=\"M120-120v-720h720v720H120Zm60-500h600v-160H180v160Zm220 220h160v-160H400v160Zm0 220h160v-160H400v160ZM180-400h160v-160H180v160Zm440 0h160v-160H620v160ZM180-180h160v-160H180v160Zm440 0h160v-160H620v160Z\"/>\n",
              "  </svg>\n",
              "    </button>\n",
              "\n",
              "  <style>\n",
              "    .colab-df-container {\n",
              "      display:flex;\n",
              "      gap: 12px;\n",
              "    }\n",
              "\n",
              "    .colab-df-convert {\n",
              "      background-color: #E8F0FE;\n",
              "      border: none;\n",
              "      border-radius: 50%;\n",
              "      cursor: pointer;\n",
              "      display: none;\n",
              "      fill: #1967D2;\n",
              "      height: 32px;\n",
              "      padding: 0 0 0 0;\n",
              "      width: 32px;\n",
              "    }\n",
              "\n",
              "    .colab-df-convert:hover {\n",
              "      background-color: #E2EBFA;\n",
              "      box-shadow: 0px 1px 2px rgba(60, 64, 67, 0.3), 0px 1px 3px 1px rgba(60, 64, 67, 0.15);\n",
              "      fill: #174EA6;\n",
              "    }\n",
              "\n",
              "    .colab-df-buttons div {\n",
              "      margin-bottom: 4px;\n",
              "    }\n",
              "\n",
              "    [theme=dark] .colab-df-convert {\n",
              "      background-color: #3B4455;\n",
              "      fill: #D2E3FC;\n",
              "    }\n",
              "\n",
              "    [theme=dark] .colab-df-convert:hover {\n",
              "      background-color: #434B5C;\n",
              "      box-shadow: 0px 1px 3px 1px rgba(0, 0, 0, 0.15);\n",
              "      filter: drop-shadow(0px 1px 2px rgba(0, 0, 0, 0.3));\n",
              "      fill: #FFFFFF;\n",
              "    }\n",
              "  </style>\n",
              "\n",
              "    <script>\n",
              "      const buttonEl =\n",
              "        document.querySelector('#df-51833138-3dea-4dfa-ac1a-85aa626708e9 button.colab-df-convert');\n",
              "      buttonEl.style.display =\n",
              "        google.colab.kernel.accessAllowed ? 'block' : 'none';\n",
              "\n",
              "      async function convertToInteractive(key) {\n",
              "        const element = document.querySelector('#df-51833138-3dea-4dfa-ac1a-85aa626708e9');\n",
              "        const dataTable =\n",
              "          await google.colab.kernel.invokeFunction('convertToInteractive',\n",
              "                                                    [key], {});\n",
              "        if (!dataTable) return;\n",
              "\n",
              "        const docLinkHtml = 'Like what you see? Visit the ' +\n",
              "          '<a target=\"_blank\" href=https://colab.research.google.com/notebooks/data_table.ipynb>data table notebook</a>'\n",
              "          + ' to learn more about interactive tables.';\n",
              "        element.innerHTML = '';\n",
              "        dataTable['output_type'] = 'display_data';\n",
              "        await google.colab.output.renderOutput(dataTable, element);\n",
              "        const docLink = document.createElement('div');\n",
              "        docLink.innerHTML = docLinkHtml;\n",
              "        element.appendChild(docLink);\n",
              "      }\n",
              "    </script>\n",
              "  </div>\n",
              "\n",
              "\n",
              "<div id=\"df-d0f74b5c-3ffe-486b-88fe-3099a4299288\">\n",
              "  <button class=\"colab-df-quickchart\" onclick=\"quickchart('df-d0f74b5c-3ffe-486b-88fe-3099a4299288')\"\n",
              "            title=\"Suggest charts\"\n",
              "            style=\"display:none;\">\n",
              "\n",
              "<svg xmlns=\"http://www.w3.org/2000/svg\" height=\"24px\"viewBox=\"0 0 24 24\"\n",
              "     width=\"24px\">\n",
              "    <g>\n",
              "        <path d=\"M19 3H5c-1.1 0-2 .9-2 2v14c0 1.1.9 2 2 2h14c1.1 0 2-.9 2-2V5c0-1.1-.9-2-2-2zM9 17H7v-7h2v7zm4 0h-2V7h2v10zm4 0h-2v-4h2v4z\"/>\n",
              "    </g>\n",
              "</svg>\n",
              "  </button>\n",
              "\n",
              "<style>\n",
              "  .colab-df-quickchart {\n",
              "      --bg-color: #E8F0FE;\n",
              "      --fill-color: #1967D2;\n",
              "      --hover-bg-color: #E2EBFA;\n",
              "      --hover-fill-color: #174EA6;\n",
              "      --disabled-fill-color: #AAA;\n",
              "      --disabled-bg-color: #DDD;\n",
              "  }\n",
              "\n",
              "  [theme=dark] .colab-df-quickchart {\n",
              "      --bg-color: #3B4455;\n",
              "      --fill-color: #D2E3FC;\n",
              "      --hover-bg-color: #434B5C;\n",
              "      --hover-fill-color: #FFFFFF;\n",
              "      --disabled-bg-color: #3B4455;\n",
              "      --disabled-fill-color: #666;\n",
              "  }\n",
              "\n",
              "  .colab-df-quickchart {\n",
              "    background-color: var(--bg-color);\n",
              "    border: none;\n",
              "    border-radius: 50%;\n",
              "    cursor: pointer;\n",
              "    display: none;\n",
              "    fill: var(--fill-color);\n",
              "    height: 32px;\n",
              "    padding: 0;\n",
              "    width: 32px;\n",
              "  }\n",
              "\n",
              "  .colab-df-quickchart:hover {\n",
              "    background-color: var(--hover-bg-color);\n",
              "    box-shadow: 0 1px 2px rgba(60, 64, 67, 0.3), 0 1px 3px 1px rgba(60, 64, 67, 0.15);\n",
              "    fill: var(--button-hover-fill-color);\n",
              "  }\n",
              "\n",
              "  .colab-df-quickchart-complete:disabled,\n",
              "  .colab-df-quickchart-complete:disabled:hover {\n",
              "    background-color: var(--disabled-bg-color);\n",
              "    fill: var(--disabled-fill-color);\n",
              "    box-shadow: none;\n",
              "  }\n",
              "\n",
              "  .colab-df-spinner {\n",
              "    border: 2px solid var(--fill-color);\n",
              "    border-color: transparent;\n",
              "    border-bottom-color: var(--fill-color);\n",
              "    animation:\n",
              "      spin 1s steps(1) infinite;\n",
              "  }\n",
              "\n",
              "  @keyframes spin {\n",
              "    0% {\n",
              "      border-color: transparent;\n",
              "      border-bottom-color: var(--fill-color);\n",
              "      border-left-color: var(--fill-color);\n",
              "    }\n",
              "    20% {\n",
              "      border-color: transparent;\n",
              "      border-left-color: var(--fill-color);\n",
              "      border-top-color: var(--fill-color);\n",
              "    }\n",
              "    30% {\n",
              "      border-color: transparent;\n",
              "      border-left-color: var(--fill-color);\n",
              "      border-top-color: var(--fill-color);\n",
              "      border-right-color: var(--fill-color);\n",
              "    }\n",
              "    40% {\n",
              "      border-color: transparent;\n",
              "      border-right-color: var(--fill-color);\n",
              "      border-top-color: var(--fill-color);\n",
              "    }\n",
              "    60% {\n",
              "      border-color: transparent;\n",
              "      border-right-color: var(--fill-color);\n",
              "    }\n",
              "    80% {\n",
              "      border-color: transparent;\n",
              "      border-right-color: var(--fill-color);\n",
              "      border-bottom-color: var(--fill-color);\n",
              "    }\n",
              "    90% {\n",
              "      border-color: transparent;\n",
              "      border-bottom-color: var(--fill-color);\n",
              "    }\n",
              "  }\n",
              "</style>\n",
              "\n",
              "  <script>\n",
              "    async function quickchart(key) {\n",
              "      const quickchartButtonEl =\n",
              "        document.querySelector('#' + key + ' button');\n",
              "      quickchartButtonEl.disabled = true;  // To prevent multiple clicks.\n",
              "      quickchartButtonEl.classList.add('colab-df-spinner');\n",
              "      try {\n",
              "        const charts = await google.colab.kernel.invokeFunction(\n",
              "            'suggestCharts', [key], {});\n",
              "      } catch (error) {\n",
              "        console.error('Error during call to suggestCharts:', error);\n",
              "      }\n",
              "      quickchartButtonEl.classList.remove('colab-df-spinner');\n",
              "      quickchartButtonEl.classList.add('colab-df-quickchart-complete');\n",
              "    }\n",
              "    (() => {\n",
              "      let quickchartButtonEl =\n",
              "        document.querySelector('#df-d0f74b5c-3ffe-486b-88fe-3099a4299288 button');\n",
              "      quickchartButtonEl.style.display =\n",
              "        google.colab.kernel.accessAllowed ? 'block' : 'none';\n",
              "    })();\n",
              "  </script>\n",
              "</div>\n",
              "    </div>\n",
              "  </div>\n"
            ],
            "application/vnd.google.colaboratory.intrinsic+json": {
              "type": "dataframe",
              "variable_name": "df_vacancies"
            }
          },
          "metadata": {},
          "execution_count": 31
        }
      ]
    },
    {
      "cell_type": "code",
      "source": [
        "clean_names = list(df_vacancies['clean_name'].dropna().str.lower().values)"
      ],
      "metadata": {
        "collapsed": true,
        "id": "hSdU0UWV1p1k"
      },
      "execution_count": 32,
      "outputs": []
    },
    {
      "cell_type": "code",
      "source": [
        "\n",
        "for name in clean_names:\n",
        "  if not (isinstance(name, str)):\n",
        "    clean_names.remove(name)\n",
        "\n",
        "\n",
        "for name in clean_names:\n",
        "  if len(name) < 6:\n",
        "    clean_names.remove(name)\n"
      ],
      "metadata": {
        "collapsed": true,
        "id": "N_Rftjjh6Ea6"
      },
      "execution_count": 33,
      "outputs": []
    },
    {
      "cell_type": "code",
      "source": [
        "import re\n",
        "def find_matching_lines(text, vacancies):\n",
        "\n",
        "  if not all(isinstance(vacancy, str) for vacancy in vacancies):\n",
        "    raise ValueError(\"Список вакансий должен содержать только строки\")\n",
        "  vacancies_regex = '|'.join(map(re.escape, vacancies))\n",
        "\n",
        "    # Ищем все вхождения вакансий в текст\n",
        "  matches = re.findall(vacancies_regex, text)\n",
        "  for m in matches:\n",
        "    if len(m) < 6:\n",
        "      matches.remove(m)\n",
        "  return matches\n",
        "\n",
        "matching_lines = find_matching_lines(text, list(clean_names))\n",
        "print(\"Найденные строки:\")\n",
        "for line in matching_lines:\n",
        "    print(line)\n",
        "\n"
      ],
      "metadata": {
        "colab": {
          "base_uri": "https://localhost:8080/"
        },
        "id": "wYk-favY2B9V",
        "outputId": "b64bb8d5-4702-4e65-e8b1-647d36deafeb"
      },
      "execution_count": 35,
      "outputs": [
        {
          "output_type": "stream",
          "name": "stdout",
          "text": [
            "Найденные строки:\n",
            "математик\n",
            "python\n",
            "fintech\n",
            "python\n",
            "machine learning\n",
            "статистик\n",
            "яндекс\n",
            "2\n",
            "стажер\n",
            "аналитик\n",
            "разработчик\n",
            "яндекс\n",
            "переводчик\n",
            "москва\n",
            "python\n",
            "кам\n",
            "помощник\n",
            "2\n",
            "2\n",
            "2\n",
            "2\n",
            "python\n",
            "кам\n",
            "с\n",
            "с\n",
            "yandex\n",
            "с\n",
            "с\n",
            "с\n",
            "с\n",
            "2\n",
            "2\n",
            "project\n",
            "с\n",
            "с\n",
            "с\n",
            "postgresql\n",
            "с\n",
            "работа\n",
            "с\n",
            "с\n",
            "с\n",
            "с\n",
            "с\n",
            "с\n",
            "с\n",
            "с\n",
            "с\n",
            "с\n",
            "аналитик\n",
            "с\n",
            "с\n",
            "с\n",
            "на склад\n",
            "с\n",
            "с\n",
            "с\n",
            "с\n",
            "с\n",
            "2\n",
            "2\n",
            "2\n",
            "с\n",
            "математик\n",
            "с\n",
            "2\n",
            "2\n",
            "2\n",
            "с\n",
            "с\n",
            "с\n",
            "работа\n",
            "технолог\n",
            "с\n",
            "с\n",
            "с\n",
            "с\n",
            "с\n",
            "2\n"
          ]
        }
      ]
    }
  ]
}