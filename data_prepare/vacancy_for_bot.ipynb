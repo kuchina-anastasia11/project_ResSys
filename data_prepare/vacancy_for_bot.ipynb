{
 "cells": [
  {
   "cell_type": "markdown",
   "id": "3d656b7f",
   "metadata": {},
   "source": [
    "jsonчик где лежит vacancy_id, описание, название и зпшка\n",
    "hh_recsys_vacancies.jsonl"
   ]
  },
  {
   "cell_type": "code",
   "execution_count": 3,
   "id": "fb04cf2a",
   "metadata": {},
   "outputs": [],
   "source": [
    "import json\n",
    "import gzip\n",
    "import pandas as pd"
   ]
  },
  {
   "cell_type": "code",
   "execution_count": 4,
   "id": "4180c193",
   "metadata": {},
   "outputs": [],
   "source": [
    "vacancies_data = []\n",
    "with open('../data/hh_recsys_vacancies.jsonl', 'r') as file:\n",
    "    for line in file:\n",
    "        vacancies_data.append(json.loads(line))"
   ]
  },
  {
   "cell_type": "code",
   "execution_count": 5,
   "id": "954972ec",
   "metadata": {},
   "outputs": [
    {
     "data": {
      "text/plain": [
       "{'vacancy_id': 'v_862116',\n",
       " 'name': 'Смотритель музейный',\n",
       " 'company.id': 'c_162972',\n",
       " 'description': '<strong>Обязанности:</strong> <ul> <li>Осуществлять контроль за соблюдением посетителями правил поведения в музее</li> <li>При возникновении угрозы повреждения или кражи музейных предметов информировать руководство музея</li> </ul> <strong>Требования:</strong> <ul> <li>образование средне-специальное или высшее</li> <li>музейное дело, культурология</li> </ul> <strong>Условия:</strong> <ul> <li>Выходные: 2 дня. График с 09:00 до 18:00, по четвергам с 11:00 до 20:00</li> <li>Обед скользящий</li> </ul>',\n",
       " 'keySkills.keySkill': ['Пользователь ПК',\n",
       "  'Работа в команде',\n",
       "  'Умение планировать',\n",
       "  'Стремление к профессиональному росту',\n",
       "  'PR-консультирование'],\n",
       " 'compensation.from': 16500.0,\n",
       " 'compensation.to': None,\n",
       " 'compensation.currencyCode': 'RUR',\n",
       " 'area.id': 'a_4761',\n",
       " 'area.regionId': 'ar_33',\n",
       " 'employment': 'full',\n",
       " 'workSchedule': 'fullDay',\n",
       " 'workExperience': 'noExperience'}"
      ]
     },
     "execution_count": 5,
     "metadata": {},
     "output_type": "execute_result"
    }
   ],
   "source": [
    "vacancies_data[0][0]"
   ]
  },
  {
   "cell_type": "code",
   "execution_count": 6,
   "id": "aa78f144",
   "metadata": {},
   "outputs": [],
   "source": [
    "filtered_info_vacancies = []\n",
    "\n",
    "for vacancy in vacancies_data[0]:\n",
    "    info = {\n",
    "        'vacancy_id': vacancy['vacancy_id'],\n",
    "        'name': vacancy['name'],\n",
    "        'description': vacancy['description'],\n",
    "        'compensation_from': vacancy['compensation.from'],\n",
    "        'compensation_to': vacancy['compensation.to']\n",
    "    }\n",
    "    filtered_info_vacancies.append(info)"
   ]
  },
  {
   "cell_type": "code",
   "execution_count": 7,
   "id": "1fd4ca5a",
   "metadata": {},
   "outputs": [
    {
     "data": {
      "text/plain": [
       "{'vacancy_id': 'v_862116',\n",
       " 'name': 'Смотритель музейный',\n",
       " 'description': '<strong>Обязанности:</strong> <ul> <li>Осуществлять контроль за соблюдением посетителями правил поведения в музее</li> <li>При возникновении угрозы повреждения или кражи музейных предметов информировать руководство музея</li> </ul> <strong>Требования:</strong> <ul> <li>образование средне-специальное или высшее</li> <li>музейное дело, культурология</li> </ul> <strong>Условия:</strong> <ul> <li>Выходные: 2 дня. График с 09:00 до 18:00, по четвергам с 11:00 до 20:00</li> <li>Обед скользящий</li> </ul>',\n",
       " 'compensation_from': 16500.0,\n",
       " 'compensation_to': None}"
      ]
     },
     "execution_count": 7,
     "metadata": {},
     "output_type": "execute_result"
    }
   ],
   "source": [
    "filtered_info_vacancies[0]"
   ]
  },
  {
   "cell_type": "code",
   "execution_count": 8,
   "id": "8450e418",
   "metadata": {},
   "outputs": [
    {
     "name": "stdout",
     "output_type": "stream",
     "text": [
      "<class 'dict'>\n",
      "<class 'list'>\n"
     ]
    }
   ],
   "source": [
    "print(type(filtered_info_vacancies[0]))\n",
    "print(type(filtered_info_vacancies))"
   ]
  },
  {
   "cell_type": "code",
   "execution_count": null,
   "id": "7f027d18",
   "metadata": {},
   "outputs": [],
   "source": [
    "data.to_json(\n",
    "    'vacancies_for_bot.jsonl', orient='records'\n",
    ")"
   ]
  },
  {
   "cell_type": "code",
   "execution_count": 11,
   "id": "8300a233",
   "metadata": {},
   "outputs": [],
   "source": [
    "outfile = 'names_salary_preparing.json.gz'\n",
    "\n",
    "with gzip.open(outfile, 'wt') as f:\n",
    "    for item in filtered_info_vacancies:\n",
    "        json.dump(item, f)\n",
    "        f.write('\\n')"
   ]
  },
  {
   "cell_type": "code",
   "execution_count": 10,
   "id": "cae93eb6",
   "metadata": {},
   "outputs": [],
   "source": [
    "outfile = 'names_salary_preparing.jsonl'\n",
    "\n",
    "with open(outfile, 'w') as file:\n",
    "    for vacancy in filtered_info_vacancies:\n",
    "        json.dump(vacancy, file)\n",
    "        file.write('\\n') "
   ]
  },
  {
   "cell_type": "code",
   "execution_count": 13,
   "id": "50b3fd0c",
   "metadata": {},
   "outputs": [],
   "source": [
    "data = []\n",
    "with gzip.open(outfile, 'rt') as f:\n",
    "    for line in f:\n",
    "        item = json.loads(line.strip())\n",
    "        data.append(item) "
   ]
  },
  {
   "cell_type": "code",
   "execution_count": 17,
   "id": "8ed5a8b5",
   "metadata": {},
   "outputs": [
    {
     "data": {
      "text/plain": [
       "2734129"
      ]
     },
     "execution_count": 17,
     "metadata": {},
     "output_type": "execute_result"
    }
   ],
   "source": [
    "len(data)"
   ]
  }
 ],
 "metadata": {
  "kernelspec": {
   "display_name": "Python 3 (ipykernel)",
   "language": "python",
   "name": "python3"
  },
  "language_info": {
   "codemirror_mode": {
    "name": "ipython",
    "version": 3
   },
   "file_extension": ".py",
   "mimetype": "text/x-python",
   "name": "python",
   "nbconvert_exporter": "python",
   "pygments_lexer": "ipython3",
   "version": "3.9.13"
  }
 },
 "nbformat": 4,
 "nbformat_minor": 5
}
