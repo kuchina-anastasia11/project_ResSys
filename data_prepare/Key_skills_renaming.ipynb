{
 "cells": [
  {
   "cell_type": "code",
   "execution_count": 118,
   "id": "777f5824",
   "metadata": {},
   "outputs": [],
   "source": [
    "import pandas as pd\n",
    "import numpy as np\n",
    "from itertools import islice"
   ]
  },
  {
   "cell_type": "code",
   "execution_count": 110,
   "id": "f2fff246",
   "metadata": {},
   "outputs": [],
   "source": [
    "data = pd.read_csv('vacancies_ru.csv')"
   ]
  },
  {
   "cell_type": "code",
   "execution_count": 111,
   "id": "fc39f1fa",
   "metadata": {},
   "outputs": [
    {
     "data": {
      "text/html": [
       "<div>\n",
       "<style scoped>\n",
       "    .dataframe tbody tr th:only-of-type {\n",
       "        vertical-align: middle;\n",
       "    }\n",
       "\n",
       "    .dataframe tbody tr th {\n",
       "        vertical-align: top;\n",
       "    }\n",
       "\n",
       "    .dataframe thead th {\n",
       "        text-align: right;\n",
       "    }\n",
       "</style>\n",
       "<table border=\"1\" class=\"dataframe\">\n",
       "  <thead>\n",
       "    <tr style=\"text-align: right;\">\n",
       "      <th></th>\n",
       "      <th>vacancy_id</th>\n",
       "      <th>name</th>\n",
       "      <th>company_id</th>\n",
       "      <th>keySkills</th>\n",
       "      <th>compensation_from</th>\n",
       "      <th>compensation_to</th>\n",
       "      <th>compensation_currencyCode</th>\n",
       "      <th>area_id</th>\n",
       "      <th>area_regionId</th>\n",
       "      <th>employment</th>\n",
       "      <th>workSchedule</th>\n",
       "      <th>workExperience</th>\n",
       "      <th>clean_name</th>\n",
       "      <th>area_regionId_encoder</th>\n",
       "      <th>area_id_encoder</th>\n",
       "      <th>company_id_encoder</th>\n",
       "      <th>employment_encoder</th>\n",
       "      <th>workSchedule_encoder</th>\n",
       "      <th>workExperience_encoder</th>\n",
       "    </tr>\n",
       "  </thead>\n",
       "  <tbody>\n",
       "    <tr>\n",
       "      <th>0</th>\n",
       "      <td>v_862116</td>\n",
       "      <td>Смотритель музейный</td>\n",
       "      <td>c_162972</td>\n",
       "      <td>['Пользователь ПК', 'Работа в команде', 'Умени...</td>\n",
       "      <td>16500.0</td>\n",
       "      <td>NaN</td>\n",
       "      <td>RUR</td>\n",
       "      <td>a_4761</td>\n",
       "      <td>ar_33</td>\n",
       "      <td>full</td>\n",
       "      <td>fullDay</td>\n",
       "      <td>noExperience</td>\n",
       "      <td>Смотритель музейный</td>\n",
       "      <td>32</td>\n",
       "      <td>4181</td>\n",
       "      <td>69972</td>\n",
       "      <td>5</td>\n",
       "      <td>5</td>\n",
       "      <td>1</td>\n",
       "    </tr>\n",
       "    <tr>\n",
       "      <th>1</th>\n",
       "      <td>v_288642</td>\n",
       "      <td>Ведущий менеджер по работе с физическими лицами</td>\n",
       "      <td>c_208672</td>\n",
       "      <td>['Активные продажи', 'Холодные продажи', 'Кред...</td>\n",
       "      <td>50000.0</td>\n",
       "      <td>NaN</td>\n",
       "      <td>RUR</td>\n",
       "      <td>a_744</td>\n",
       "      <td>ar_2</td>\n",
       "      <td>full</td>\n",
       "      <td>fullDay</td>\n",
       "      <td>noExperience</td>\n",
       "      <td>Ведущий менеджер по работе с физическими лицами</td>\n",
       "      <td>17</td>\n",
       "      <td>6731</td>\n",
       "      <td>120750</td>\n",
       "      <td>5</td>\n",
       "      <td>5</td>\n",
       "      <td>1</td>\n",
       "    </tr>\n",
       "    <tr>\n",
       "      <th>2</th>\n",
       "      <td>v_1840054</td>\n",
       "      <td>Бухгалтер (по расчету зарплаты)</td>\n",
       "      <td>c_198109</td>\n",
       "      <td>NaN</td>\n",
       "      <td>50000.0</td>\n",
       "      <td>65000.0</td>\n",
       "      <td>RUR</td>\n",
       "      <td>a_6223</td>\n",
       "      <td>ar_78</td>\n",
       "      <td>full</td>\n",
       "      <td>fullDay</td>\n",
       "      <td>between3And6</td>\n",
       "      <td>Бухгалтер</td>\n",
       "      <td>81</td>\n",
       "      <td>5806</td>\n",
       "      <td>109013</td>\n",
       "      <td>5</td>\n",
       "      <td>5</td>\n",
       "      <td>3</td>\n",
       "    </tr>\n",
       "    <tr>\n",
       "      <th>3</th>\n",
       "      <td>v_2346232</td>\n",
       "      <td>Пекарь (Токсово, Привокзальная, 16)</td>\n",
       "      <td>c_6137</td>\n",
       "      <td>NaN</td>\n",
       "      <td>38500.0</td>\n",
       "      <td>42000.0</td>\n",
       "      <td>RUR</td>\n",
       "      <td>a_4795</td>\n",
       "      <td>ar_51</td>\n",
       "      <td>full</td>\n",
       "      <td>fullDay</td>\n",
       "      <td>noExperience</td>\n",
       "      <td>Пекарь</td>\n",
       "      <td>52</td>\n",
       "      <td>4218</td>\n",
       "      <td>235992</td>\n",
       "      <td>5</td>\n",
       "      <td>5</td>\n",
       "      <td>1</td>\n",
       "    </tr>\n",
       "    <tr>\n",
       "      <th>4</th>\n",
       "      <td>v_312507</td>\n",
       "      <td>Торговый представитель (г. Абакан)</td>\n",
       "      <td>c_206699</td>\n",
       "      <td>['Продуктивность', 'Клиентоориентированность',...</td>\n",
       "      <td>60000.0</td>\n",
       "      <td>NaN</td>\n",
       "      <td>RUR</td>\n",
       "      <td>a_6837</td>\n",
       "      <td>ar_4</td>\n",
       "      <td>full</td>\n",
       "      <td>fullDay</td>\n",
       "      <td>between1And3</td>\n",
       "      <td>Торговый представитель</td>\n",
       "      <td>39</td>\n",
       "      <td>6487</td>\n",
       "      <td>118557</td>\n",
       "      <td>5</td>\n",
       "      <td>5</td>\n",
       "      <td>2</td>\n",
       "    </tr>\n",
       "  </tbody>\n",
       "</table>\n",
       "</div>"
      ],
      "text/plain": [
       "  vacancy_id                                             name company_id  \\\n",
       "0   v_862116                              Смотритель музейный   c_162972   \n",
       "1   v_288642  Ведущий менеджер по работе с физическими лицами   c_208672   \n",
       "2  v_1840054                  Бухгалтер (по расчету зарплаты)   c_198109   \n",
       "3  v_2346232              Пекарь (Токсово, Привокзальная, 16)     c_6137   \n",
       "4   v_312507               Торговый представитель (г. Абакан)   c_206699   \n",
       "\n",
       "                                           keySkills  compensation_from  \\\n",
       "0  ['Пользователь ПК', 'Работа в команде', 'Умени...            16500.0   \n",
       "1  ['Активные продажи', 'Холодные продажи', 'Кред...            50000.0   \n",
       "2                                                NaN            50000.0   \n",
       "3                                                NaN            38500.0   \n",
       "4  ['Продуктивность', 'Клиентоориентированность',...            60000.0   \n",
       "\n",
       "   compensation_to compensation_currencyCode area_id area_regionId employment  \\\n",
       "0              NaN                       RUR  a_4761         ar_33       full   \n",
       "1              NaN                       RUR   a_744          ar_2       full   \n",
       "2          65000.0                       RUR  a_6223         ar_78       full   \n",
       "3          42000.0                       RUR  a_4795         ar_51       full   \n",
       "4              NaN                       RUR  a_6837          ar_4       full   \n",
       "\n",
       "  workSchedule workExperience  \\\n",
       "0      fullDay   noExperience   \n",
       "1      fullDay   noExperience   \n",
       "2      fullDay   between3And6   \n",
       "3      fullDay   noExperience   \n",
       "4      fullDay   between1And3   \n",
       "\n",
       "                                        clean_name  area_regionId_encoder  \\\n",
       "0                              Смотритель музейный                     32   \n",
       "1  Ведущий менеджер по работе с физическими лицами                     17   \n",
       "2                                        Бухгалтер                     81   \n",
       "3                                           Пекарь                     52   \n",
       "4                           Торговый представитель                     39   \n",
       "\n",
       "   area_id_encoder  company_id_encoder  employment_encoder  \\\n",
       "0             4181               69972                   5   \n",
       "1             6731              120750                   5   \n",
       "2             5806              109013                   5   \n",
       "3             4218              235992                   5   \n",
       "4             6487              118557                   5   \n",
       "\n",
       "   workSchedule_encoder  workExperience_encoder  \n",
       "0                     5                       1  \n",
       "1                     5                       1  \n",
       "2                     5                       3  \n",
       "3                     5                       1  \n",
       "4                     5                       2  "
      ]
     },
     "execution_count": 111,
     "metadata": {},
     "output_type": "execute_result"
    }
   ],
   "source": [
    "data.drop('Unnamed: 0', axis=1, inplace=True)\n",
    "data.head()"
   ]
  },
  {
   "cell_type": "code",
   "execution_count": 112,
   "id": "93117716",
   "metadata": {},
   "outputs": [],
   "source": [
    "data['keySkills'] = data['keySkills'].str.strip('[]')\n",
    "data['keySkills'] = data['keySkills'].str.split(',')"
   ]
  },
  {
   "cell_type": "code",
   "execution_count": 113,
   "id": "6ffd07a9",
   "metadata": {},
   "outputs": [
    {
     "data": {
      "text/plain": [
       "str"
      ]
     },
     "execution_count": 113,
     "metadata": {},
     "output_type": "execute_result"
    }
   ],
   "source": [
    "type(data['keySkills'][0][2])"
   ]
  },
  {
   "cell_type": "code",
   "execution_count": 114,
   "id": "88a97706",
   "metadata": {},
   "outputs": [
    {
     "data": {
      "text/plain": [
       "0          [Пользователь пк, Работа в команде, Умение пла...\n",
       "1          [Активные продажи, Холодные продажи, Кредитные...\n",
       "2                                                        NaN\n",
       "3                                                        NaN\n",
       "4          [Продуктивность, Клиентоориентированность, Упр...\n",
       "                                 ...                        \n",
       "2209567    [Пользователь пк, Умение работать в команде, У...\n",
       "2209568    [Желание работать и зарабатывать, Высокая энер...\n",
       "2209569    [Контроль исправности оборудования, Инженерные...\n",
       "2209570     [Предпечатная подготовка, Статистический анализ]\n",
       "2209571    [1с: торговля, Грамотная речь, Консультативные...\n",
       "Name: keySkills, Length: 2209572, dtype: object"
      ]
     },
     "execution_count": 114,
     "metadata": {},
     "output_type": "execute_result"
    }
   ],
   "source": [
    "data['keySkills'] = data['keySkills'].apply(lambda x: [skill.strip().strip('\\'').capitalize() for skill in x] if isinstance(x, list) else np.nan)\n",
    "data['keySkills']"
   ]
  },
  {
   "cell_type": "code",
   "execution_count": 119,
   "id": "2843de59",
   "metadata": {},
   "outputs": [
    {
     "data": {
      "text/html": [
       "<div>\n",
       "<style scoped>\n",
       "    .dataframe tbody tr th:only-of-type {\n",
       "        vertical-align: middle;\n",
       "    }\n",
       "\n",
       "    .dataframe tbody tr th {\n",
       "        vertical-align: top;\n",
       "    }\n",
       "\n",
       "    .dataframe thead th {\n",
       "        text-align: right;\n",
       "    }\n",
       "</style>\n",
       "<table border=\"1\" class=\"dataframe\">\n",
       "  <thead>\n",
       "    <tr style=\"text-align: right;\">\n",
       "      <th></th>\n",
       "      <th>vacancy_id</th>\n",
       "      <th>name</th>\n",
       "      <th>company_id</th>\n",
       "      <th>keySkills</th>\n",
       "      <th>compensation_from</th>\n",
       "      <th>compensation_to</th>\n",
       "      <th>compensation_currencyCode</th>\n",
       "      <th>area_id</th>\n",
       "      <th>area_regionId</th>\n",
       "      <th>employment</th>\n",
       "      <th>workSchedule</th>\n",
       "      <th>workExperience</th>\n",
       "      <th>clean_name</th>\n",
       "      <th>area_regionId_encoder</th>\n",
       "      <th>area_id_encoder</th>\n",
       "      <th>company_id_encoder</th>\n",
       "      <th>employment_encoder</th>\n",
       "      <th>workSchedule_encoder</th>\n",
       "      <th>workExperience_encoder</th>\n",
       "    </tr>\n",
       "  </thead>\n",
       "  <tbody>\n",
       "    <tr>\n",
       "      <th>2</th>\n",
       "      <td>v_1840054</td>\n",
       "      <td>Бухгалтер (по расчету зарплаты)</td>\n",
       "      <td>c_198109</td>\n",
       "      <td>NaN</td>\n",
       "      <td>50000.0</td>\n",
       "      <td>65000.0</td>\n",
       "      <td>RUR</td>\n",
       "      <td>a_6223</td>\n",
       "      <td>ar_78</td>\n",
       "      <td>full</td>\n",
       "      <td>fullDay</td>\n",
       "      <td>between3And6</td>\n",
       "      <td>Бухгалтер</td>\n",
       "      <td>81</td>\n",
       "      <td>5806</td>\n",
       "      <td>109013</td>\n",
       "      <td>5</td>\n",
       "      <td>5</td>\n",
       "      <td>3</td>\n",
       "    </tr>\n",
       "    <tr>\n",
       "      <th>3</th>\n",
       "      <td>v_2346232</td>\n",
       "      <td>Пекарь (Токсово, Привокзальная, 16)</td>\n",
       "      <td>c_6137</td>\n",
       "      <td>NaN</td>\n",
       "      <td>38500.0</td>\n",
       "      <td>42000.0</td>\n",
       "      <td>RUR</td>\n",
       "      <td>a_4795</td>\n",
       "      <td>ar_51</td>\n",
       "      <td>full</td>\n",
       "      <td>fullDay</td>\n",
       "      <td>noExperience</td>\n",
       "      <td>Пекарь</td>\n",
       "      <td>52</td>\n",
       "      <td>4218</td>\n",
       "      <td>235992</td>\n",
       "      <td>5</td>\n",
       "      <td>5</td>\n",
       "      <td>1</td>\n",
       "    </tr>\n",
       "    <tr>\n",
       "      <th>7</th>\n",
       "      <td>v_2091086</td>\n",
       "      <td>Монтажник СТиЖБК</td>\n",
       "      <td>c_230890</td>\n",
       "      <td>NaN</td>\n",
       "      <td>100000.0</td>\n",
       "      <td>NaN</td>\n",
       "      <td>RUR</td>\n",
       "      <td>a_500</td>\n",
       "      <td>ar_36</td>\n",
       "      <td>full</td>\n",
       "      <td>flyInFlyOut</td>\n",
       "      <td>between1And3</td>\n",
       "      <td>Монтажник СТиЖБК</td>\n",
       "      <td>35</td>\n",
       "      <td>4447</td>\n",
       "      <td>145437</td>\n",
       "      <td>5</td>\n",
       "      <td>1</td>\n",
       "      <td>2</td>\n",
       "    </tr>\n",
       "    <tr>\n",
       "      <th>14</th>\n",
       "      <td>v_902490</td>\n",
       "      <td>Обходчик/Обходчица (подземных газопроводов)</td>\n",
       "      <td>c_101758</td>\n",
       "      <td>NaN</td>\n",
       "      <td>36000.0</td>\n",
       "      <td>NaN</td>\n",
       "      <td>RUR</td>\n",
       "      <td>a_3988</td>\n",
       "      <td>ar_64</td>\n",
       "      <td>full</td>\n",
       "      <td>fullDay</td>\n",
       "      <td>noExperience</td>\n",
       "      <td>Обходчик</td>\n",
       "      <td>66</td>\n",
       "      <td>3321</td>\n",
       "      <td>1957</td>\n",
       "      <td>5</td>\n",
       "      <td>5</td>\n",
       "      <td>1</td>\n",
       "    </tr>\n",
       "    <tr>\n",
       "      <th>15</th>\n",
       "      <td>v_2346650</td>\n",
       "      <td>Велокурьер на электровелосипеде компании (ст.м...</td>\n",
       "      <td>c_124592</td>\n",
       "      <td>NaN</td>\n",
       "      <td>60000.0</td>\n",
       "      <td>NaN</td>\n",
       "      <td>RUR</td>\n",
       "      <td>a_6223</td>\n",
       "      <td>ar_78</td>\n",
       "      <td>full</td>\n",
       "      <td>fullDay</td>\n",
       "      <td>noExperience</td>\n",
       "      <td>Велокурьер на электровелосипеде компании</td>\n",
       "      <td>81</td>\n",
       "      <td>5806</td>\n",
       "      <td>27328</td>\n",
       "      <td>5</td>\n",
       "      <td>5</td>\n",
       "      <td>1</td>\n",
       "    </tr>\n",
       "    <tr>\n",
       "      <th>...</th>\n",
       "      <td>...</td>\n",
       "      <td>...</td>\n",
       "      <td>...</td>\n",
       "      <td>...</td>\n",
       "      <td>...</td>\n",
       "      <td>...</td>\n",
       "      <td>...</td>\n",
       "      <td>...</td>\n",
       "      <td>...</td>\n",
       "      <td>...</td>\n",
       "      <td>...</td>\n",
       "      <td>...</td>\n",
       "      <td>...</td>\n",
       "      <td>...</td>\n",
       "      <td>...</td>\n",
       "      <td>...</td>\n",
       "      <td>...</td>\n",
       "      <td>...</td>\n",
       "      <td>...</td>\n",
       "    </tr>\n",
       "    <tr>\n",
       "      <th>2209549</th>\n",
       "      <td>v_515251</td>\n",
       "      <td>Сборщик заказов в магазин Лента</td>\n",
       "      <td>c_20608</td>\n",
       "      <td>NaN</td>\n",
       "      <td>60000.0</td>\n",
       "      <td>100000.0</td>\n",
       "      <td>RUR</td>\n",
       "      <td>a_6223</td>\n",
       "      <td>ar_78</td>\n",
       "      <td>part</td>\n",
       "      <td>shift</td>\n",
       "      <td>noExperience</td>\n",
       "      <td>Сборщик заказов в магазин Лента</td>\n",
       "      <td>81</td>\n",
       "      <td>5806</td>\n",
       "      <td>117870</td>\n",
       "      <td>4</td>\n",
       "      <td>4</td>\n",
       "      <td>1</td>\n",
       "    </tr>\n",
       "    <tr>\n",
       "      <th>2209558</th>\n",
       "      <td>v_1134490</td>\n",
       "      <td>Продавец (Губаха, Углеуральский, 2-я Коммунист...</td>\n",
       "      <td>c_6137</td>\n",
       "      <td>NaN</td>\n",
       "      <td>24700.0</td>\n",
       "      <td>33400.0</td>\n",
       "      <td>RUR</td>\n",
       "      <td>a_2206</td>\n",
       "      <td>ar_72</td>\n",
       "      <td>full</td>\n",
       "      <td>fullDay</td>\n",
       "      <td>noExperience</td>\n",
       "      <td>Продавец</td>\n",
       "      <td>75</td>\n",
       "      <td>1343</td>\n",
       "      <td>235992</td>\n",
       "      <td>5</td>\n",
       "      <td>5</td>\n",
       "      <td>1</td>\n",
       "    </tr>\n",
       "    <tr>\n",
       "      <th>2209561</th>\n",
       "      <td>v_1841986</td>\n",
       "      <td>Маркетолог-аналитик</td>\n",
       "      <td>c_44564</td>\n",
       "      <td>NaN</td>\n",
       "      <td>55128.0</td>\n",
       "      <td>71666.0</td>\n",
       "      <td>RUR</td>\n",
       "      <td>a_2649</td>\n",
       "      <td>ar_44</td>\n",
       "      <td>full</td>\n",
       "      <td>fullDay</td>\n",
       "      <td>between3And6</td>\n",
       "      <td>Маркетолог-аналитик</td>\n",
       "      <td>44</td>\n",
       "      <td>1834</td>\n",
       "      <td>217319</td>\n",
       "      <td>5</td>\n",
       "      <td>5</td>\n",
       "      <td>3</td>\n",
       "    </tr>\n",
       "    <tr>\n",
       "      <th>2209563</th>\n",
       "      <td>v_2082311</td>\n",
       "      <td>Слесарь механосборочных работ</td>\n",
       "      <td>c_167337</td>\n",
       "      <td>NaN</td>\n",
       "      <td>115000.0</td>\n",
       "      <td>NaN</td>\n",
       "      <td>RUR</td>\n",
       "      <td>a_61</td>\n",
       "      <td>ar_25</td>\n",
       "      <td>full</td>\n",
       "      <td>flyInFlyOut</td>\n",
       "      <td>between1And3</td>\n",
       "      <td>Слесарь механосборочных работ</td>\n",
       "      <td>23</td>\n",
       "      <td>5668</td>\n",
       "      <td>74822</td>\n",
       "      <td>5</td>\n",
       "      <td>1</td>\n",
       "      <td>2</td>\n",
       "    </tr>\n",
       "    <tr>\n",
       "      <th>2209564</th>\n",
       "      <td>v_292464</td>\n",
       "      <td>Ведущий бухгалтер</td>\n",
       "      <td>c_138929</td>\n",
       "      <td>NaN</td>\n",
       "      <td>100000.0</td>\n",
       "      <td>NaN</td>\n",
       "      <td>RUR</td>\n",
       "      <td>a_4284</td>\n",
       "      <td>ar_23</td>\n",
       "      <td>full</td>\n",
       "      <td>fullDay</td>\n",
       "      <td>between1And3</td>\n",
       "      <td>Ведущий бухгалтер</td>\n",
       "      <td>21</td>\n",
       "      <td>3651</td>\n",
       "      <td>43257</td>\n",
       "      <td>5</td>\n",
       "      <td>5</td>\n",
       "      <td>2</td>\n",
       "    </tr>\n",
       "  </tbody>\n",
       "</table>\n",
       "<p>1001212 rows × 19 columns</p>\n",
       "</div>"
      ],
      "text/plain": [
       "        vacancy_id                                               name  \\\n",
       "2        v_1840054                    Бухгалтер (по расчету зарплаты)   \n",
       "3        v_2346232                Пекарь (Токсово, Привокзальная, 16)   \n",
       "7        v_2091086                                   Монтажник СТиЖБК   \n",
       "14        v_902490        Обходчик/Обходчица (подземных газопроводов)   \n",
       "15       v_2346650  Велокурьер на электровелосипеде компании (ст.м...   \n",
       "...            ...                                                ...   \n",
       "2209549   v_515251                    Сборщик заказов в магазин Лента   \n",
       "2209558  v_1134490  Продавец (Губаха, Углеуральский, 2-я Коммунист...   \n",
       "2209561  v_1841986                                Маркетолог-аналитик   \n",
       "2209563  v_2082311                      Слесарь механосборочных работ   \n",
       "2209564   v_292464                                  Ведущий бухгалтер   \n",
       "\n",
       "        company_id keySkills  compensation_from  compensation_to  \\\n",
       "2         c_198109       NaN            50000.0          65000.0   \n",
       "3           c_6137       NaN            38500.0          42000.0   \n",
       "7         c_230890       NaN           100000.0              NaN   \n",
       "14        c_101758       NaN            36000.0              NaN   \n",
       "15        c_124592       NaN            60000.0              NaN   \n",
       "...            ...       ...                ...              ...   \n",
       "2209549    c_20608       NaN            60000.0         100000.0   \n",
       "2209558     c_6137       NaN            24700.0          33400.0   \n",
       "2209561    c_44564       NaN            55128.0          71666.0   \n",
       "2209563   c_167337       NaN           115000.0              NaN   \n",
       "2209564   c_138929       NaN           100000.0              NaN   \n",
       "\n",
       "        compensation_currencyCode area_id area_regionId employment  \\\n",
       "2                             RUR  a_6223         ar_78       full   \n",
       "3                             RUR  a_4795         ar_51       full   \n",
       "7                             RUR   a_500         ar_36       full   \n",
       "14                            RUR  a_3988         ar_64       full   \n",
       "15                            RUR  a_6223         ar_78       full   \n",
       "...                           ...     ...           ...        ...   \n",
       "2209549                       RUR  a_6223         ar_78       part   \n",
       "2209558                       RUR  a_2206         ar_72       full   \n",
       "2209561                       RUR  a_2649         ar_44       full   \n",
       "2209563                       RUR    a_61         ar_25       full   \n",
       "2209564                       RUR  a_4284         ar_23       full   \n",
       "\n",
       "        workSchedule workExperience                                clean_name  \\\n",
       "2            fullDay   between3And6                                 Бухгалтер   \n",
       "3            fullDay   noExperience                                    Пекарь   \n",
       "7        flyInFlyOut   between1And3                          Монтажник СТиЖБК   \n",
       "14           fullDay   noExperience                                  Обходчик   \n",
       "15           fullDay   noExperience  Велокурьер на электровелосипеде компании   \n",
       "...              ...            ...                                       ...   \n",
       "2209549        shift   noExperience           Сборщик заказов в магазин Лента   \n",
       "2209558      fullDay   noExperience                                  Продавец   \n",
       "2209561      fullDay   between3And6                       Маркетолог-аналитик   \n",
       "2209563  flyInFlyOut   between1And3             Слесарь механосборочных работ   \n",
       "2209564      fullDay   between1And3                         Ведущий бухгалтер   \n",
       "\n",
       "         area_regionId_encoder  area_id_encoder  company_id_encoder  \\\n",
       "2                           81             5806              109013   \n",
       "3                           52             4218              235992   \n",
       "7                           35             4447              145437   \n",
       "14                          66             3321                1957   \n",
       "15                          81             5806               27328   \n",
       "...                        ...              ...                 ...   \n",
       "2209549                     81             5806              117870   \n",
       "2209558                     75             1343              235992   \n",
       "2209561                     44             1834              217319   \n",
       "2209563                     23             5668               74822   \n",
       "2209564                     21             3651               43257   \n",
       "\n",
       "         employment_encoder  workSchedule_encoder  workExperience_encoder  \n",
       "2                         5                     5                       3  \n",
       "3                         5                     5                       1  \n",
       "7                         5                     1                       2  \n",
       "14                        5                     5                       1  \n",
       "15                        5                     5                       1  \n",
       "...                     ...                   ...                     ...  \n",
       "2209549                   4                     4                       1  \n",
       "2209558                   5                     5                       1  \n",
       "2209561                   5                     5                       3  \n",
       "2209563                   5                     1                       2  \n",
       "2209564                   5                     5                       2  \n",
       "\n",
       "[1001212 rows x 19 columns]"
      ]
     },
     "execution_count": 119,
     "metadata": {},
     "output_type": "execute_result"
    }
   ],
   "source": [
    "empty_skills = data[pd.isna(data['keySkills']) | data['keySkills'].apply(lambda x: isinstance(x, list) and len(x) == 0)]\n",
    "empty_skills"
   ]
  },
  {
   "cell_type": "code",
   "execution_count": 115,
   "id": "81e4257a",
   "metadata": {},
   "outputs": [
    {
     "data": {
      "text/plain": [
       "0          [Пользователь пк, Работа в команде, Умение пла...\n",
       "1          [Активные продажи, Холодные продажи, Кредитные...\n",
       "2                                                        NaN\n",
       "3                                                        NaN\n",
       "4          [Продуктивность, Клиентоориентированность, Упр...\n",
       "                                 ...                        \n",
       "2209567    [Пользователь пк, Умение работать в команде, У...\n",
       "2209568    [Желание работать и зарабатывать, Высокая энер...\n",
       "2209569    [Контроль исправности оборудования, Инженерные...\n",
       "2209570     [Предпечатная подготовка, Статистический анализ]\n",
       "2209571    [1с: торговля, Грамотная речь, Консультативные...\n",
       "Name: keySkills, Length: 2209572, dtype: object"
      ]
     },
     "execution_count": 115,
     "metadata": {},
     "output_type": "execute_result"
    }
   ],
   "source": [
    "key_skills = data['keySkills']\n",
    "key_skills"
   ]
  },
  {
   "cell_type": "code",
   "execution_count": 116,
   "id": "04364adb",
   "metadata": {},
   "outputs": [
    {
     "data": {
      "text/plain": [
       "1001212"
      ]
     },
     "execution_count": 116,
     "metadata": {},
     "output_type": "execute_result"
    }
   ],
   "source": [
    "key_skills.isna().sum()"
   ]
  },
  {
   "cell_type": "code",
   "execution_count": 117,
   "id": "45fc986a",
   "metadata": {},
   "outputs": [
    {
     "data": {
      "text/plain": [
       "1208360"
      ]
     },
     "execution_count": 117,
     "metadata": {},
     "output_type": "execute_result"
    }
   ],
   "source": [
    "len(key_skills.dropna())"
   ]
  },
  {
   "cell_type": "code",
   "execution_count": 20,
   "id": "bdd6a68f",
   "metadata": {},
   "outputs": [
    {
     "data": {
      "text/html": [
       "<div>\n",
       "<style scoped>\n",
       "    .dataframe tbody tr th:only-of-type {\n",
       "        vertical-align: middle;\n",
       "    }\n",
       "\n",
       "    .dataframe tbody tr th {\n",
       "        vertical-align: top;\n",
       "    }\n",
       "\n",
       "    .dataframe thead th {\n",
       "        text-align: right;\n",
       "    }\n",
       "</style>\n",
       "<table border=\"1\" class=\"dataframe\">\n",
       "  <thead>\n",
       "    <tr style=\"text-align: right;\">\n",
       "      <th></th>\n",
       "      <th>keySkills</th>\n",
       "    </tr>\n",
       "  </thead>\n",
       "  <tbody>\n",
       "    <tr>\n",
       "      <th>0</th>\n",
       "      <td>[Пользователь пк, Работа в команде, Умение пла...</td>\n",
       "    </tr>\n",
       "    <tr>\n",
       "      <th>1</th>\n",
       "      <td>[Активные продажи, Холодные продажи, Кредитные...</td>\n",
       "    </tr>\n",
       "    <tr>\n",
       "      <th>2</th>\n",
       "      <td>[Продуктивность, Клиентоориентированность, Упр...</td>\n",
       "    </tr>\n",
       "    <tr>\n",
       "      <th>3</th>\n",
       "      <td>[Контроль качества, Производственный контроль,...</td>\n",
       "    </tr>\n",
       "    <tr>\n",
       "      <th>4</th>\n",
       "      <td>[Активные продажи, Поиск и привлечение клиенто...</td>\n",
       "    </tr>\n",
       "    <tr>\n",
       "      <th>...</th>\n",
       "      <td>...</td>\n",
       "    </tr>\n",
       "    <tr>\n",
       "      <th>1208355</th>\n",
       "      <td>[Пользователь пк, Умение работать в команде, У...</td>\n",
       "    </tr>\n",
       "    <tr>\n",
       "      <th>1208356</th>\n",
       "      <td>[Желание работать и зарабатывать, Высокая энер...</td>\n",
       "    </tr>\n",
       "    <tr>\n",
       "      <th>1208357</th>\n",
       "      <td>[Контроль исправности оборудования, Инженерные...</td>\n",
       "    </tr>\n",
       "    <tr>\n",
       "      <th>1208358</th>\n",
       "      <td>[Предпечатная подготовка, Статистический анализ]</td>\n",
       "    </tr>\n",
       "    <tr>\n",
       "      <th>1208359</th>\n",
       "      <td>[1с: торговля, Грамотная речь, Консультативные...</td>\n",
       "    </tr>\n",
       "  </tbody>\n",
       "</table>\n",
       "<p>1208360 rows × 1 columns</p>\n",
       "</div>"
      ],
      "text/plain": [
       "                                                 keySkills\n",
       "0        [Пользователь пк, Работа в команде, Умение пла...\n",
       "1        [Активные продажи, Холодные продажи, Кредитные...\n",
       "2        [Продуктивность, Клиентоориентированность, Упр...\n",
       "3        [Контроль качества, Производственный контроль,...\n",
       "4        [Активные продажи, Поиск и привлечение клиенто...\n",
       "...                                                    ...\n",
       "1208355  [Пользователь пк, Умение работать в команде, У...\n",
       "1208356  [Желание работать и зарабатывать, Высокая энер...\n",
       "1208357  [Контроль исправности оборудования, Инженерные...\n",
       "1208358   [Предпечатная подготовка, Статистический анализ]\n",
       "1208359  [1с: торговля, Грамотная речь, Консультативные...\n",
       "\n",
       "[1208360 rows x 1 columns]"
      ]
     },
     "execution_count": 20,
     "metadata": {},
     "output_type": "execute_result"
    }
   ],
   "source": [
    "not_null_key_skills = key_skills.dropna().reset_index().drop('index', axis=1)\n",
    "not_null_key_skills"
   ]
  },
  {
   "cell_type": "code",
   "execution_count": 21,
   "id": "b99b448e",
   "metadata": {},
   "outputs": [
    {
     "data": {
      "text/plain": [
       "list"
      ]
     },
     "execution_count": 21,
     "metadata": {},
     "output_type": "execute_result"
    }
   ],
   "source": [
    "type(not_null_key_skills['keySkills'][0])"
   ]
  },
  {
   "cell_type": "code",
   "execution_count": 22,
   "id": "b9b2b99a",
   "metadata": {},
   "outputs": [
    {
     "name": "stdout",
     "output_type": "stream",
     "text": [
      "Frequency of skills: \n",
      "Работа в команде : 271549\n",
      "Грамотная речь : 207664\n",
      "Пользователь пк : 179979\n",
      "Активные продажи : 118221\n",
      "Деловое общение : 115947\n",
      "Телефонные переговоры : 98310\n",
      "Навыки продаж : 93699\n",
      "Умение работать в команде : 81968\n",
      "Деловая переписка : 79937\n",
      "Организаторские навыки : 73077\n"
     ]
    }
   ],
   "source": [
    "all_skills = {}\n",
    "\n",
    "for skill_row in not_null_key_skills['keySkills']:\n",
    "    for skill in skill_row:\n",
    "        if skill in all_skills:\n",
    "            all_skills[skill] += 1\n",
    "        else:\n",
    "            all_skills[skill] = 1\n",
    "\n",
    "sorted_skills = sorted(all_skills.items(), key=lambda x: x[1], reverse=True)\n",
    "  \n",
    "\n",
    "i = 0\n",
    "print('Frequency of skills: ')\n",
    "for skill, count in sorted_skills:\n",
    "    print(skill, ':', count)\n",
    "    i += 1\n",
    "    if i == 10:\n",
    "        break"
   ]
  },
  {
   "cell_type": "code",
   "execution_count": 23,
   "id": "0c063ef3",
   "metadata": {},
   "outputs": [
    {
     "data": {
      "text/plain": [
       "104724"
      ]
     },
     "execution_count": 23,
     "metadata": {},
     "output_type": "execute_result"
    }
   ],
   "source": [
    "unique_skills_count = len(sorted_skills)\n",
    "unique_skills_count"
   ]
  },
  {
   "cell_type": "code",
   "execution_count": 24,
   "id": "1044976f",
   "metadata": {},
   "outputs": [
    {
     "name": "stdout",
     "output_type": "stream",
     "text": [
      "0 271549\n",
      "1 207664\n",
      "2 179979\n",
      "3 118221\n",
      "4 115947\n",
      "5 98310\n",
      "6 93699\n",
      "7 81968\n",
      "8 79937\n",
      "9 73077\n",
      "10 71107\n"
     ]
    }
   ],
   "source": [
    "values = [skill[1] for skill in sorted_skills]\n",
    "for i, elem in enumerate(values):\n",
    "    print(i, elem)\n",
    "    if i == 10:\n",
    "        break"
   ]
  },
  {
   "cell_type": "code",
   "execution_count": 25,
   "id": "a4369480",
   "metadata": {},
   "outputs": [],
   "source": [
    "filtered_skills = [skill for skill in sorted_skills if skill[1] >= 10]"
   ]
  },
  {
   "cell_type": "code",
   "execution_count": 26,
   "id": "65caf77b",
   "metadata": {},
   "outputs": [
    {
     "data": {
      "text/plain": [
       "10479"
      ]
     },
     "execution_count": 26,
     "metadata": {},
     "output_type": "execute_result"
    }
   ],
   "source": [
    "len(filtered_skills)"
   ]
  },
  {
   "cell_type": "code",
   "execution_count": 27,
   "id": "fbfbb284",
   "metadata": {},
   "outputs": [
    {
     "name": "stdout",
     "output_type": "stream",
     "text": [
      "('Работа в команде', 271549)\n",
      "('Грамотная речь', 207664)\n",
      "('Пользователь пк', 179979)\n",
      "('Активные продажи', 118221)\n",
      "('Деловое общение', 115947)\n",
      "('Телефонные переговоры', 98310)\n",
      "('Навыки продаж', 93699)\n",
      "('Умение работать в команде', 81968)\n",
      "('Деловая переписка', 79937)\n",
      "('Организаторские навыки', 73077)\n",
      "('Работа с большим объемом информации', 71107)\n"
     ]
    }
   ],
   "source": [
    "for i, elem in enumerate(filtered_skills):\n",
    "    print(elem)\n",
    "    if i == 10:\n",
    "        break"
   ]
  },
  {
   "cell_type": "code",
   "execution_count": 5,
   "id": "3dc4413e",
   "metadata": {},
   "outputs": [],
   "source": [
    "from sklearn.feature_extraction.text import TfidfVectorizer\n",
    "from sklearn.neighbors import NearestNeighbors\n",
    "from collections import defaultdict"
   ]
  },
  {
   "cell_type": "code",
   "execution_count": 29,
   "id": "7c189dc2",
   "metadata": {},
   "outputs": [
    {
     "name": "stdout",
     "output_type": "stream",
     "text": [
      "Neighbour 1: Работа в команде, distance: 0.0\n",
      "Neighbour 2: Работы в команде, distance: 0.29162711605771474\n",
      "Neighbour 3: Работа в команде (бригаде), distance: 0.310940378586933\n",
      "Neighbour 4: Работать в команде, distance: 0.33362072999076764\n",
      "Neighbour 5: Работа в команде (2-3 человека), distance: 0.3385672582937791\n",
      "Neighbour 6: Навыки работы в команде, distance: 0.4037867199624904\n",
      "Neighbour 7: Опыт работы в команде, distance: 0.4053788908868151\n",
      "Neighbour 8: Умение работать в команде., distance: 0.4152567264109066\n",
      "Neighbour 9: Умение работать в команде, distance: 0.4152567264109066\n",
      "Neighbour 10: Желание работать в команде, distance: 0.45776981014046525\n",
      "Neighbour 11: Способность работать в команде, distance: 0.45776981014046525\n",
      "Neighbour 12: Работа в 1 с, distance: 0.4912534847029757\n",
      "Neighbour 13: Работа, distance: 0.4912534847029757\n",
      "Neighbour 14: Умею работать в команде, distance: 0.5231721225973529\n",
      "Neighbour 15: Умение работать в команде и самостоятельно, distance: 0.5308677126571922\n"
     ]
    }
   ],
   "source": [
    "# Посмотрим пример knn для скиллов\n",
    "skills = []\n",
    "for elem in filtered_skills:\n",
    "    skills.append(elem[0])\n",
    "\n",
    "vectorizer = TfidfVectorizer()\n",
    "X = vectorizer.fit_transform(skills)\n",
    "\n",
    "k = 15\n",
    "knn_model = NearestNeighbors(n_neighbors=k, metric='cosine')\n",
    "knn_model.fit(X)\n",
    "query = vectorizer.transform(['Работа в команде'])\n",
    "distances, indices = knn_model.kneighbors(query)\n",
    "\n",
    "for i in range(len(indices[0])):\n",
    "    print(f'Neighbour {i+1}: {skills[indices[0][i]]}, distance: {distances[0][i]}')\n",
    "    \n",
    "# Возьмем threshold = 0.5"
   ]
  },
  {
   "cell_type": "code",
   "execution_count": 30,
   "id": "da62976b",
   "metadata": {},
   "outputs": [],
   "source": [
    "skills = []\n",
    "for elem in filtered_skills:\n",
    "    skills.append(elem[0])\n",
    "\n",
    "similar_skills = defaultdict(list)\n",
    "\n",
    "threshold = 0.5\n",
    "k = 15\n",
    "\n",
    "for i, skill in enumerate(skills):\n",
    "        \n",
    "    vectorizer = TfidfVectorizer()\n",
    "    X = vectorizer.fit_transform(skills)    \n",
    "    \n",
    "    knn_model = NearestNeighbors(n_neighbors=k, metric='cosine')\n",
    "    knn_model.fit(X)\n",
    "        \n",
    "    query = vectorizer.transform([skill])\n",
    "    distances, indices = knn_model.kneighbors(query)\n",
    "    neighbor_indices = indices[0][1:]\n",
    "    \n",
    "    similar_indices = [idx for idx, dist in zip(neighbor_indices, distances[0][1:]) if dist <= threshold and idx < len(skills)]\n",
    "    \n",
    "    similar_skills[skill] = [skills[idx] for idx in similar_indices]\n",
    "\n",
    "    for idx in sorted(similar_indices, reverse=True):\n",
    "        del skills[idx]"
   ]
  },
  {
   "cell_type": "code",
   "execution_count": 39,
   "id": "3921568f",
   "metadata": {},
   "outputs": [
    {
     "name": "stdout",
     "output_type": "stream",
     "text": [
      "Работа в команде ['Работы в команде', 'Работа в команде (бригаде)', 'Работать в команде', 'Работа в команде (2-3 человека)', 'Навыки работы в команде', 'Опыт работы в команде', 'Умение работать в команде.', 'Умение работать в команде', 'Желание работать в команде', 'Способность работать в команде', 'Работа в 1 с', 'Работа']\n",
      "Грамотная речь ['Грамотная речь', 'Грамотная письменная речь', 'Грамотная устная речь', 'Грамотная речь и письмо', 'Грамотная русская речь', 'Грамотная', 'Грамотная письменная и устная речь', 'Грамотная устная и письменная речь;', 'Грамотная устная и письменная речь', 'Грамотная русская речь (устная и письменная)']\n",
      "Активные продажи ['Продажи']\n"
     ]
    }
   ],
   "source": [
    "for key, value in islice(similar_skills.items(), 3):\n",
    "    print(key, value)"
   ]
  },
  {
   "cell_type": "code",
   "execution_count": 40,
   "id": "effcde8a",
   "metadata": {},
   "outputs": [
    {
     "data": {
      "text/plain": [
       "6533"
      ]
     },
     "execution_count": 40,
     "metadata": {},
     "output_type": "execute_result"
    }
   ],
   "source": [
    "len(similar_skills.keys())"
   ]
  },
  {
   "cell_type": "code",
   "execution_count": 41,
   "id": "c8bca808",
   "metadata": {},
   "outputs": [
    {
     "name": "stdout",
     "output_type": "stream",
     "text": [
      "Работа в команде\n"
     ]
    }
   ],
   "source": [
    "for key in similar_skills.keys():\n",
    "    print(key)\n",
    "    break"
   ]
  },
  {
   "cell_type": "code",
   "execution_count": 42,
   "id": "6ad2ad11",
   "metadata": {},
   "outputs": [
    {
     "data": {
      "text/plain": [
       "12"
      ]
     },
     "execution_count": 42,
     "metadata": {},
     "output_type": "execute_result"
    }
   ],
   "source": [
    "len(similar_skills['Работа в команде'])"
   ]
  },
  {
   "cell_type": "code",
   "execution_count": 43,
   "id": "eac059b8",
   "metadata": {},
   "outputs": [
    {
     "data": {
      "text/plain": [
       "10479"
      ]
     },
     "execution_count": 43,
     "metadata": {},
     "output_type": "execute_result"
    }
   ],
   "source": [
    "summ = 0\n",
    "for key in similar_skills.keys():\n",
    "    summ += len(similar_skills[key])\n",
    "    \n",
    "summ + len(similar_skills.keys())"
   ]
  },
  {
   "cell_type": "code",
   "execution_count": 44,
   "id": "0c6066c5",
   "metadata": {},
   "outputs": [],
   "source": [
    "def replace_skills(skills_list, similar_skills):\n",
    "    if isinstance(skills_list, list) and skills_list:\n",
    "        new_skills = []\n",
    "        for skill in skills_list:\n",
    "            if skill in similar_skills.keys():\n",
    "                new_skills.append(skill)\n",
    "            else:\n",
    "                for value_list in similar_skills.values():\n",
    "                    if isinstance(value_list, list) and skill in value_list:\n",
    "                        for key, value in similar_skills.items():\n",
    "                            if value_list == value:\n",
    "                                new_skills.append(key)\n",
    "                                break\n",
    "                        break\n",
    "        return new_skills\n",
    "    else:\n",
    "        return skills_list"
   ]
  },
  {
   "cell_type": "code",
   "execution_count": 45,
   "id": "e5719bc5",
   "metadata": {},
   "outputs": [],
   "source": [
    "data['keySkills'] = data['keySkills'].apply(lambda x: replace_skills(x, similar_skills))"
   ]
  },
  {
   "cell_type": "code",
   "execution_count": 46,
   "id": "08ff5f94",
   "metadata": {},
   "outputs": [
    {
     "data": {
      "text/html": [
       "<div>\n",
       "<style scoped>\n",
       "    .dataframe tbody tr th:only-of-type {\n",
       "        vertical-align: middle;\n",
       "    }\n",
       "\n",
       "    .dataframe tbody tr th {\n",
       "        vertical-align: top;\n",
       "    }\n",
       "\n",
       "    .dataframe thead th {\n",
       "        text-align: right;\n",
       "    }\n",
       "</style>\n",
       "<table border=\"1\" class=\"dataframe\">\n",
       "  <thead>\n",
       "    <tr style=\"text-align: right;\">\n",
       "      <th></th>\n",
       "      <th>vacancy_id</th>\n",
       "      <th>name</th>\n",
       "      <th>company_id</th>\n",
       "      <th>keySkills</th>\n",
       "      <th>compensation_from</th>\n",
       "      <th>compensation_to</th>\n",
       "      <th>compensation_currencyCode</th>\n",
       "      <th>area_id</th>\n",
       "      <th>area_regionId</th>\n",
       "      <th>employment</th>\n",
       "      <th>workSchedule</th>\n",
       "      <th>workExperience</th>\n",
       "      <th>clean_name</th>\n",
       "      <th>area_regionId_encoder</th>\n",
       "      <th>area_id_encoder</th>\n",
       "      <th>company_id_encoder</th>\n",
       "      <th>employment_encoder</th>\n",
       "      <th>workSchedule_encoder</th>\n",
       "      <th>workExperience_encoder</th>\n",
       "    </tr>\n",
       "  </thead>\n",
       "  <tbody>\n",
       "    <tr>\n",
       "      <th>0</th>\n",
       "      <td>v_862116</td>\n",
       "      <td>Смотритель музейный</td>\n",
       "      <td>c_162972</td>\n",
       "      <td>[Уверенный пользователь пк, Работа в команде, ...</td>\n",
       "      <td>16500.0</td>\n",
       "      <td>NaN</td>\n",
       "      <td>RUR</td>\n",
       "      <td>a_4761</td>\n",
       "      <td>ar_33</td>\n",
       "      <td>full</td>\n",
       "      <td>fullDay</td>\n",
       "      <td>noExperience</td>\n",
       "      <td>Смотритель музейный</td>\n",
       "      <td>32</td>\n",
       "      <td>4181</td>\n",
       "      <td>69972</td>\n",
       "      <td>5</td>\n",
       "      <td>5</td>\n",
       "      <td>1</td>\n",
       "    </tr>\n",
       "    <tr>\n",
       "      <th>1</th>\n",
       "      <td>v_288642</td>\n",
       "      <td>Ведущий менеджер по работе с физическими лицами</td>\n",
       "      <td>c_208672</td>\n",
       "      <td>[Активные продажи, Холодные продажи, Кредитные...</td>\n",
       "      <td>50000.0</td>\n",
       "      <td>NaN</td>\n",
       "      <td>RUR</td>\n",
       "      <td>a_744</td>\n",
       "      <td>ar_2</td>\n",
       "      <td>full</td>\n",
       "      <td>fullDay</td>\n",
       "      <td>noExperience</td>\n",
       "      <td>Ведущий менеджер по работе с физическими лицами</td>\n",
       "      <td>17</td>\n",
       "      <td>6731</td>\n",
       "      <td>120750</td>\n",
       "      <td>5</td>\n",
       "      <td>5</td>\n",
       "      <td>1</td>\n",
       "    </tr>\n",
       "    <tr>\n",
       "      <th>4</th>\n",
       "      <td>v_312507</td>\n",
       "      <td>Торговый представитель (г. Абакан)</td>\n",
       "      <td>c_206699</td>\n",
       "      <td>[Продуктивность, Клиентоориентированность, Упр...</td>\n",
       "      <td>60000.0</td>\n",
       "      <td>NaN</td>\n",
       "      <td>RUR</td>\n",
       "      <td>a_6837</td>\n",
       "      <td>ar_4</td>\n",
       "      <td>full</td>\n",
       "      <td>fullDay</td>\n",
       "      <td>between1And3</td>\n",
       "      <td>Торговый представитель</td>\n",
       "      <td>39</td>\n",
       "      <td>6487</td>\n",
       "      <td>118557</td>\n",
       "      <td>5</td>\n",
       "      <td>5</td>\n",
       "      <td>2</td>\n",
       "    </tr>\n",
       "    <tr>\n",
       "      <th>5</th>\n",
       "      <td>v_2323706</td>\n",
       "      <td>Менеджер по качеству</td>\n",
       "      <td>c_244141</td>\n",
       "      <td>[Контроль качества, Производственный контроль,...</td>\n",
       "      <td>88000.0</td>\n",
       "      <td>NaN</td>\n",
       "      <td>RUR</td>\n",
       "      <td>a_5920</td>\n",
       "      <td>ar_64</td>\n",
       "      <td>full</td>\n",
       "      <td>fullDay</td>\n",
       "      <td>between1And3</td>\n",
       "      <td>Менеджер по качеству</td>\n",
       "      <td>66</td>\n",
       "      <td>5469</td>\n",
       "      <td>160161</td>\n",
       "      <td>5</td>\n",
       "      <td>5</td>\n",
       "      <td>2</td>\n",
       "    </tr>\n",
       "    <tr>\n",
       "      <th>6</th>\n",
       "      <td>v_704266</td>\n",
       "      <td>Менеджер по продажам / Sales manager</td>\n",
       "      <td>c_192038</td>\n",
       "      <td>[Активные продажи, Поиск и привлечение клиенто...</td>\n",
       "      <td>30000.0</td>\n",
       "      <td>100000.0</td>\n",
       "      <td>RUR</td>\n",
       "      <td>a_5398</td>\n",
       "      <td>ar_71</td>\n",
       "      <td>full</td>\n",
       "      <td>fullDay</td>\n",
       "      <td>between1And3</td>\n",
       "      <td>Менеджер по продажам</td>\n",
       "      <td>74</td>\n",
       "      <td>4888</td>\n",
       "      <td>102268</td>\n",
       "      <td>5</td>\n",
       "      <td>5</td>\n",
       "      <td>2</td>\n",
       "    </tr>\n",
       "    <tr>\n",
       "      <th>...</th>\n",
       "      <td>...</td>\n",
       "      <td>...</td>\n",
       "      <td>...</td>\n",
       "      <td>...</td>\n",
       "      <td>...</td>\n",
       "      <td>...</td>\n",
       "      <td>...</td>\n",
       "      <td>...</td>\n",
       "      <td>...</td>\n",
       "      <td>...</td>\n",
       "      <td>...</td>\n",
       "      <td>...</td>\n",
       "      <td>...</td>\n",
       "      <td>...</td>\n",
       "      <td>...</td>\n",
       "      <td>...</td>\n",
       "      <td>...</td>\n",
       "      <td>...</td>\n",
       "      <td>...</td>\n",
       "    </tr>\n",
       "    <tr>\n",
       "      <th>2209567</th>\n",
       "      <td>v_2484959</td>\n",
       "      <td>Сборщик-упаковщик</td>\n",
       "      <td>c_203256</td>\n",
       "      <td>[Уверенный пользователь пк, Работа в команде, ...</td>\n",
       "      <td>40000.0</td>\n",
       "      <td>90000.0</td>\n",
       "      <td>RUR</td>\n",
       "      <td>a_5387</td>\n",
       "      <td>ar_71</td>\n",
       "      <td>full</td>\n",
       "      <td>flexible</td>\n",
       "      <td>noExperience</td>\n",
       "      <td>Сборщик-упаковщик</td>\n",
       "      <td>74</td>\n",
       "      <td>4876</td>\n",
       "      <td>114733</td>\n",
       "      <td>5</td>\n",
       "      <td>2</td>\n",
       "      <td>1</td>\n",
       "    </tr>\n",
       "    <tr>\n",
       "      <th>2209568</th>\n",
       "      <td>v_205163</td>\n",
       "      <td>Сварщик на полуавтомат</td>\n",
       "      <td>c_158695</td>\n",
       "      <td>[Желание работать и зарабатывать, Высокая энер...</td>\n",
       "      <td>80000.0</td>\n",
       "      <td>130000.0</td>\n",
       "      <td>RUR</td>\n",
       "      <td>a_5527</td>\n",
       "      <td>ar_69</td>\n",
       "      <td>full</td>\n",
       "      <td>fullDay</td>\n",
       "      <td>between1And3</td>\n",
       "      <td>Сварщик на полуавтомат</td>\n",
       "      <td>71</td>\n",
       "      <td>5032</td>\n",
       "      <td>65219</td>\n",
       "      <td>5</td>\n",
       "      <td>5</td>\n",
       "      <td>2</td>\n",
       "    </tr>\n",
       "    <tr>\n",
       "      <th>2209569</th>\n",
       "      <td>v_639897</td>\n",
       "      <td>Главный инженер / Технический директор</td>\n",
       "      <td>c_209365</td>\n",
       "      <td>[Контроль исправности оборудования, Инженерные...</td>\n",
       "      <td>200000.0</td>\n",
       "      <td>NaN</td>\n",
       "      <td>RUR</td>\n",
       "      <td>a_1756</td>\n",
       "      <td>ar_41</td>\n",
       "      <td>full</td>\n",
       "      <td>fullDay</td>\n",
       "      <td>between1And3</td>\n",
       "      <td>Главный инженер</td>\n",
       "      <td>41</td>\n",
       "      <td>842</td>\n",
       "      <td>121520</td>\n",
       "      <td>5</td>\n",
       "      <td>5</td>\n",
       "      <td>2</td>\n",
       "    </tr>\n",
       "    <tr>\n",
       "      <th>2209570</th>\n",
       "      <td>v_1636531</td>\n",
       "      <td>Провизор/Фармацевт (г.Адыгейск, 20 км от Красн...</td>\n",
       "      <td>c_246244</td>\n",
       "      <td>[Предпечатная подготовка, Статистический анализ]</td>\n",
       "      <td>25000.0</td>\n",
       "      <td>NaN</td>\n",
       "      <td>RUR</td>\n",
       "      <td>a_3403</td>\n",
       "      <td>ar_60</td>\n",
       "      <td>full</td>\n",
       "      <td>fullDay</td>\n",
       "      <td>noExperience</td>\n",
       "      <td>Фармацевт</td>\n",
       "      <td>62</td>\n",
       "      <td>2673</td>\n",
       "      <td>162497</td>\n",
       "      <td>5</td>\n",
       "      <td>5</td>\n",
       "      <td>1</td>\n",
       "    </tr>\n",
       "    <tr>\n",
       "      <th>2209571</th>\n",
       "      <td>v_1689739</td>\n",
       "      <td>Продавец-консультант в магазин бытовой техники</td>\n",
       "      <td>c_73191</td>\n",
       "      <td>[1с: торговля, Грамотная речь, Консультативные...</td>\n",
       "      <td>25000.0</td>\n",
       "      <td>NaN</td>\n",
       "      <td>RUR</td>\n",
       "      <td>a_1690</td>\n",
       "      <td>ar_91</td>\n",
       "      <td>full</td>\n",
       "      <td>fullDay</td>\n",
       "      <td>between1And3</td>\n",
       "      <td>Продавец-консультант в магазин бытовой техники</td>\n",
       "      <td>96</td>\n",
       "      <td>769</td>\n",
       "      <td>249127</td>\n",
       "      <td>5</td>\n",
       "      <td>5</td>\n",
       "      <td>2</td>\n",
       "    </tr>\n",
       "  </tbody>\n",
       "</table>\n",
       "<p>1208360 rows × 19 columns</p>\n",
       "</div>"
      ],
      "text/plain": [
       "        vacancy_id                                               name  \\\n",
       "0         v_862116                                Смотритель музейный   \n",
       "1         v_288642    Ведущий менеджер по работе с физическими лицами   \n",
       "4         v_312507                 Торговый представитель (г. Абакан)   \n",
       "5        v_2323706                               Менеджер по качеству   \n",
       "6         v_704266               Менеджер по продажам / Sales manager   \n",
       "...            ...                                                ...   \n",
       "2209567  v_2484959                                  Сборщик-упаковщик   \n",
       "2209568   v_205163                             Сварщик на полуавтомат   \n",
       "2209569   v_639897             Главный инженер / Технический директор   \n",
       "2209570  v_1636531  Провизор/Фармацевт (г.Адыгейск, 20 км от Красн...   \n",
       "2209571  v_1689739     Продавец-консультант в магазин бытовой техники   \n",
       "\n",
       "        company_id                                          keySkills  \\\n",
       "0         c_162972  [Уверенный пользователь пк, Работа в команде, ...   \n",
       "1         c_208672  [Активные продажи, Холодные продажи, Кредитные...   \n",
       "4         c_206699  [Продуктивность, Клиентоориентированность, Упр...   \n",
       "5         c_244141  [Контроль качества, Производственный контроль,...   \n",
       "6         c_192038  [Активные продажи, Поиск и привлечение клиенто...   \n",
       "...            ...                                                ...   \n",
       "2209567   c_203256  [Уверенный пользователь пк, Работа в команде, ...   \n",
       "2209568   c_158695  [Желание работать и зарабатывать, Высокая энер...   \n",
       "2209569   c_209365  [Контроль исправности оборудования, Инженерные...   \n",
       "2209570   c_246244   [Предпечатная подготовка, Статистический анализ]   \n",
       "2209571    c_73191  [1с: торговля, Грамотная речь, Консультативные...   \n",
       "\n",
       "         compensation_from  compensation_to compensation_currencyCode area_id  \\\n",
       "0                  16500.0              NaN                       RUR  a_4761   \n",
       "1                  50000.0              NaN                       RUR   a_744   \n",
       "4                  60000.0              NaN                       RUR  a_6837   \n",
       "5                  88000.0              NaN                       RUR  a_5920   \n",
       "6                  30000.0         100000.0                       RUR  a_5398   \n",
       "...                    ...              ...                       ...     ...   \n",
       "2209567            40000.0          90000.0                       RUR  a_5387   \n",
       "2209568            80000.0         130000.0                       RUR  a_5527   \n",
       "2209569           200000.0              NaN                       RUR  a_1756   \n",
       "2209570            25000.0              NaN                       RUR  a_3403   \n",
       "2209571            25000.0              NaN                       RUR  a_1690   \n",
       "\n",
       "        area_regionId employment workSchedule workExperience  \\\n",
       "0               ar_33       full      fullDay   noExperience   \n",
       "1                ar_2       full      fullDay   noExperience   \n",
       "4                ar_4       full      fullDay   between1And3   \n",
       "5               ar_64       full      fullDay   between1And3   \n",
       "6               ar_71       full      fullDay   between1And3   \n",
       "...               ...        ...          ...            ...   \n",
       "2209567         ar_71       full     flexible   noExperience   \n",
       "2209568         ar_69       full      fullDay   between1And3   \n",
       "2209569         ar_41       full      fullDay   between1And3   \n",
       "2209570         ar_60       full      fullDay   noExperience   \n",
       "2209571         ar_91       full      fullDay   between1And3   \n",
       "\n",
       "                                              clean_name  \\\n",
       "0                                    Смотритель музейный   \n",
       "1        Ведущий менеджер по работе с физическими лицами   \n",
       "4                                 Торговый представитель   \n",
       "5                                   Менеджер по качеству   \n",
       "6                                   Менеджер по продажам   \n",
       "...                                                  ...   \n",
       "2209567                                Сборщик-упаковщик   \n",
       "2209568                           Сварщик на полуавтомат   \n",
       "2209569                                  Главный инженер   \n",
       "2209570                                        Фармацевт   \n",
       "2209571   Продавец-консультант в магазин бытовой техники   \n",
       "\n",
       "         area_regionId_encoder  area_id_encoder  company_id_encoder  \\\n",
       "0                           32             4181               69972   \n",
       "1                           17             6731              120750   \n",
       "4                           39             6487              118557   \n",
       "5                           66             5469              160161   \n",
       "6                           74             4888              102268   \n",
       "...                        ...              ...                 ...   \n",
       "2209567                     74             4876              114733   \n",
       "2209568                     71             5032               65219   \n",
       "2209569                     41              842              121520   \n",
       "2209570                     62             2673              162497   \n",
       "2209571                     96              769              249127   \n",
       "\n",
       "         employment_encoder  workSchedule_encoder  workExperience_encoder  \n",
       "0                         5                     5                       1  \n",
       "1                         5                     5                       1  \n",
       "4                         5                     5                       2  \n",
       "5                         5                     5                       2  \n",
       "6                         5                     5                       2  \n",
       "...                     ...                   ...                     ...  \n",
       "2209567                   5                     2                       1  \n",
       "2209568                   5                     5                       2  \n",
       "2209569                   5                     5                       2  \n",
       "2209570                   5                     5                       1  \n",
       "2209571                   5                     5                       2  \n",
       "\n",
       "[1208360 rows x 19 columns]"
      ]
     },
     "execution_count": 46,
     "metadata": {},
     "output_type": "execute_result"
    }
   ],
   "source": [
    "data.dropna(subset=['keySkills'], inplace=True)\n",
    "data"
   ]
  },
  {
   "cell_type": "code",
   "execution_count": 47,
   "id": "1e1e2f69",
   "metadata": {},
   "outputs": [
    {
     "name": "stdout",
     "output_type": "stream",
     "text": [
      "Frequency of skills: \n",
      "Работа в команде : 356640\n",
      "Грамотная речь : 221185\n",
      "Уверенный пользователь пк : 197436\n",
      "Активные продажи : 126943\n",
      "Деловое общение : 117339\n",
      "Навыки продаж : 105332\n",
      "Телефонные переговоры : 102875\n",
      "Ответственность : 101250\n",
      "Развитие продаж : 97410\n",
      "Ведение переговоров : 95894\n"
     ]
    }
   ],
   "source": [
    "# проверим, сколько стало уникальных\n",
    "all_skills_2 = {}\n",
    "\n",
    "for skill_row in data['keySkills']:\n",
    "    if isinstance(skill_row, list):\n",
    "        for skill in skill_row:\n",
    "            if skill in all_skills_2:\n",
    "                all_skills_2[skill] += 1\n",
    "            else:\n",
    "                all_skills_2[skill] = 1\n",
    "\n",
    "sorted_skills = sorted(all_skills_2.items(), key=lambda x: x[1], reverse=True)\n",
    "    \n",
    "i = 0\n",
    "print('Frequency of skills: ')\n",
    "for skill, count in sorted_skills:\n",
    "    print(skill, ':', count)\n",
    "    i += 1\n",
    "    if i == 10:\n",
    "        break"
   ]
  },
  {
   "cell_type": "code",
   "execution_count": 48,
   "id": "0cef17e2",
   "metadata": {},
   "outputs": [
    {
     "data": {
      "text/plain": [
       "6533"
      ]
     },
     "execution_count": 48,
     "metadata": {},
     "output_type": "execute_result"
    }
   ],
   "source": [
    "unique_skills_count = len(sorted_skills)\n",
    "unique_skills_count"
   ]
  },
  {
   "cell_type": "code",
   "execution_count": 49,
   "id": "8241ec28",
   "metadata": {},
   "outputs": [
    {
     "name": "stdout",
     "output_type": "stream",
     "text": [
      "0 356640\n",
      "1 221185\n",
      "2 197436\n",
      "3 126943\n",
      "4 117339\n",
      "5 105332\n",
      "6 102875\n",
      "7 101250\n",
      "8 97410\n",
      "9 95894\n",
      "10 79937\n"
     ]
    }
   ],
   "source": [
    "values = [skill[1] for skill in sorted_skills]\n",
    "for i, elem in enumerate(values):\n",
    "    print(i, elem)\n",
    "    if i == 10:\n",
    "        break"
   ]
  },
  {
   "cell_type": "code",
   "execution_count": 50,
   "id": "e11827cc",
   "metadata": {},
   "outputs": [],
   "source": [
    "filtered_skills = [skill for skill in sorted_skills if skill[1] >= 10]"
   ]
  },
  {
   "cell_type": "code",
   "execution_count": 51,
   "id": "11c4e258",
   "metadata": {},
   "outputs": [
    {
     "data": {
      "text/plain": [
       "6533"
      ]
     },
     "execution_count": 51,
     "metadata": {},
     "output_type": "execute_result"
    }
   ],
   "source": [
    "len(filtered_skills)"
   ]
  },
  {
   "cell_type": "code",
   "execution_count": 52,
   "id": "04cfe0ab",
   "metadata": {},
   "outputs": [
    {
     "name": "stdout",
     "output_type": "stream",
     "text": [
      "('Работа в команде', 356640)\n",
      "('Грамотная речь', 221185)\n",
      "('Уверенный пользователь пк', 197436)\n",
      "('Активные продажи', 126943)\n",
      "('Деловое общение', 117339)\n",
      "('Навыки продаж', 105332)\n",
      "('Телефонные переговоры', 102875)\n",
      "('Ответственность', 101250)\n",
      "('Развитие продаж', 97410)\n",
      "('Ведение переговоров', 95894)\n",
      "('Деловая переписка', 79937)\n"
     ]
    }
   ],
   "source": [
    "for i, elem in enumerate(filtered_skills):\n",
    "    print(elem)\n",
    "    if i == 10:\n",
    "        break"
   ]
  },
  {
   "cell_type": "code",
   "execution_count": 53,
   "id": "736f15eb",
   "metadata": {},
   "outputs": [
    {
     "name": "stdout",
     "output_type": "stream",
     "text": [
      "Neighbour 1: Работа в условиях многозадачности, distance: 0.0\n",
      "Neighbour 2: Режим многозадачности, distance: 0.5576238796410626\n",
      "Neighbour 3: Умение работать в режиме многозадачности, distance: 0.6435184238566051\n",
      "Neighbour 4: Умение работать в режиме «многозадачности»., distance: 0.6435184238566051\n",
      "Neighbour 5: Расчет при работе в тяжелых климатических условиях, distance: 0.7070584504646421\n",
      "Neighbour 6: Работа с людьми, distance: 0.835389634744097\n",
      "Neighbour 7: Работа с клиентами, distance: 0.839448841871181\n",
      "Neighbour 8: Работа с детьми, distance: 0.84462235944762\n",
      "Neighbour 9: Работа в команде, distance: 0.84462235944762\n",
      "Neighbour 10: Работа с оборудованием, distance: 0.84462235944762\n",
      "Neighbour 11: Работа с инструментом, distance: 0.84462235944762\n",
      "Neighbour 12: Работа с тмц, distance: 0.8478969618073312\n",
      "Neighbour 13: Работа с поставщиками, distance: 0.8478969618073312\n",
      "Neighbour 14: Работа в ростове, distance: 0.8519446665656288\n",
      "Neighbour 15: Работа с краскопультом, distance: 0.8519446665656288\n"
     ]
    }
   ],
   "source": [
    "# Посмотрим снова пример knn для скиллов\n",
    "skills_2 = []\n",
    "for elem in filtered_skills:\n",
    "    skills_2.append(elem[0])\n",
    "\n",
    "vectorizer = TfidfVectorizer()\n",
    "X = vectorizer.fit_transform(skills_2)\n",
    "\n",
    "k = 15\n",
    "knn_model = NearestNeighbors(n_neighbors=k, metric='cosine')\n",
    "knn_model.fit(X)\n",
    "query = vectorizer.transform(['Работа в условиях многозадачности'])\n",
    "distances, indices = knn_model.kneighbors(query)\n",
    "\n",
    "for i in range(len(indices[0])):\n",
    "    print(f'Neighbour {i+1}: {skills_2[indices[0][i]]}, distance: {distances[0][i]}')\n",
    "    \n",
    "# Возьмем threshold = 0.65"
   ]
  },
  {
   "cell_type": "code",
   "execution_count": 54,
   "id": "b979bec2",
   "metadata": {},
   "outputs": [],
   "source": [
    "skills_2 = []\n",
    "for elem in filtered_skills:\n",
    "    skills_2.append(elem[0])\n",
    "\n",
    "similar_skills_2 = defaultdict(list)\n",
    "\n",
    "threshold = 0.65\n",
    "k = 15\n",
    "\n",
    "for i, skill in enumerate(skills_2):\n",
    "        \n",
    "    vectorizer = TfidfVectorizer()\n",
    "    X = vectorizer.fit_transform(skills_2)    \n",
    "    \n",
    "    knn_model = NearestNeighbors(n_neighbors=k, metric='cosine')\n",
    "    knn_model.fit(X)\n",
    "        \n",
    "    query = vectorizer.transform([skill])\n",
    "    distances, indices = knn_model.kneighbors(query)\n",
    "    neighbor_indices = indices[0][1:]\n",
    "    \n",
    "    similar_indices = [idx for idx, dist in zip(neighbor_indices, distances[0][1:]) if dist <= threshold and idx < len(skills_2)]\n",
    "    \n",
    "    similar_skills_2[skill] = [skills_2[idx] for idx in similar_indices]\n",
    "\n",
    "    for idx in sorted(similar_indices, reverse=True):\n",
    "        del skills_2[idx]"
   ]
  },
  {
   "cell_type": "code",
   "execution_count": 55,
   "id": "4551c456",
   "metadata": {},
   "outputs": [
    {
     "data": {
      "text/plain": [
       "4657"
      ]
     },
     "execution_count": 55,
     "metadata": {},
     "output_type": "execute_result"
    }
   ],
   "source": [
    "len(similar_skills_2.keys())"
   ]
  },
  {
   "cell_type": "code",
   "execution_count": 56,
   "id": "074cb24f",
   "metadata": {},
   "outputs": [],
   "source": [
    "data['keySkills'] = data['keySkills'].apply(lambda x: replace_skills(x, similar_skills_2))"
   ]
  },
  {
   "cell_type": "code",
   "execution_count": 57,
   "id": "6c3888c2",
   "metadata": {},
   "outputs": [
    {
     "data": {
      "text/plain": [
       "0          [Уверенный пользователь пк, Работа в команде, ...\n",
       "1          [Активные продажи, Холодные продажи, Кредитные...\n",
       "4          [Продуктивность, Клиентоориентированность, Раб...\n",
       "5          [Контроль качества, Производственный контроль,...\n",
       "6          [Активные продажи, Поиск и привлечение клиенто...\n",
       "                                 ...                        \n",
       "2209567    [Уверенный пользователь пк, Работа в команде, ...\n",
       "2209568    [Желание работать и зарабатывать, Высокая энер...\n",
       "2209569    [Контроль исправности оборудования, Инженерные...\n",
       "2209570          [Подготовка отчетов, Статистический анализ]\n",
       "2209571    [1с: торговля, Грамотная речь, Консультативные...\n",
       "Name: keySkills, Length: 1208360, dtype: object"
      ]
     },
     "execution_count": 57,
     "metadata": {},
     "output_type": "execute_result"
    }
   ],
   "source": [
    "data['keySkills']"
   ]
  },
  {
   "cell_type": "code",
   "execution_count": 58,
   "id": "0b673b15",
   "metadata": {},
   "outputs": [
    {
     "name": "stdout",
     "output_type": "stream",
     "text": [
      "Frequency of skills: \n",
      "Работа в команде : 357768\n",
      "Навыки продаж : 247918\n",
      "Уверенный пользователь пк : 237090\n",
      "Грамотная речь : 221513\n",
      "Ведение переговоров : 154403\n",
      "Деловая переписка : 143764\n",
      "Активные продажи : 126943\n",
      "Деловое общение : 117573\n",
      "Обучение персонала : 113247\n",
      "Телефонные переговоры : 106254\n"
     ]
    }
   ],
   "source": [
    "# проверим, сколько стало уникальных again\n",
    "all_skills_3 = {}\n",
    "\n",
    "for skill_row in data['keySkills']:\n",
    "    if isinstance(skill_row, list):\n",
    "        for skill in skill_row:\n",
    "            if skill in all_skills_3:\n",
    "                all_skills_3[skill] += 1\n",
    "            else:\n",
    "                all_skills_3[skill] = 1\n",
    "\n",
    "sorted_skills = sorted(all_skills_3.items(), key=lambda x: x[1], reverse=True)\n",
    "            \n",
    "i = 0\n",
    "print('Frequency of skills: ')\n",
    "for skill, count in sorted_skills:\n",
    "    print(skill, ':', count)\n",
    "    i += 1\n",
    "    if i == 10:\n",
    "        break"
   ]
  },
  {
   "cell_type": "code",
   "execution_count": 59,
   "id": "46076320",
   "metadata": {},
   "outputs": [
    {
     "data": {
      "text/plain": [
       "4657"
      ]
     },
     "execution_count": 59,
     "metadata": {},
     "output_type": "execute_result"
    }
   ],
   "source": [
    "len(sorted_skills)"
   ]
  },
  {
   "cell_type": "code",
   "execution_count": 60,
   "id": "011a58e8",
   "metadata": {},
   "outputs": [],
   "source": [
    "data['keySkills_str'] = data['keySkills'].apply(lambda x: ' '.join(x))"
   ]
  },
  {
   "cell_type": "code",
   "execution_count": 61,
   "id": "cbd93259",
   "metadata": {},
   "outputs": [],
   "source": [
    "data.reset_index(inplace=True)"
   ]
  },
  {
   "cell_type": "code",
   "execution_count": 62,
   "id": "fe762fa1",
   "metadata": {},
   "outputs": [
    {
     "data": {
      "text/html": [
       "<div>\n",
       "<style scoped>\n",
       "    .dataframe tbody tr th:only-of-type {\n",
       "        vertical-align: middle;\n",
       "    }\n",
       "\n",
       "    .dataframe tbody tr th {\n",
       "        vertical-align: top;\n",
       "    }\n",
       "\n",
       "    .dataframe thead th {\n",
       "        text-align: right;\n",
       "    }\n",
       "</style>\n",
       "<table border=\"1\" class=\"dataframe\">\n",
       "  <thead>\n",
       "    <tr style=\"text-align: right;\">\n",
       "      <th></th>\n",
       "      <th>vacancy_id</th>\n",
       "      <th>name</th>\n",
       "      <th>company_id</th>\n",
       "      <th>keySkills</th>\n",
       "      <th>compensation_from</th>\n",
       "      <th>compensation_to</th>\n",
       "      <th>compensation_currencyCode</th>\n",
       "      <th>area_id</th>\n",
       "      <th>area_regionId</th>\n",
       "      <th>employment</th>\n",
       "      <th>workSchedule</th>\n",
       "      <th>workExperience</th>\n",
       "      <th>clean_name</th>\n",
       "      <th>area_regionId_encoder</th>\n",
       "      <th>area_id_encoder</th>\n",
       "      <th>company_id_encoder</th>\n",
       "      <th>employment_encoder</th>\n",
       "      <th>workSchedule_encoder</th>\n",
       "      <th>workExperience_encoder</th>\n",
       "      <th>keySkills_str</th>\n",
       "    </tr>\n",
       "  </thead>\n",
       "  <tbody>\n",
       "    <tr>\n",
       "      <th>0</th>\n",
       "      <td>v_862116</td>\n",
       "      <td>Смотритель музейный</td>\n",
       "      <td>c_162972</td>\n",
       "      <td>[Уверенный пользователь пк, Работа в команде, ...</td>\n",
       "      <td>16500.0</td>\n",
       "      <td>NaN</td>\n",
       "      <td>RUR</td>\n",
       "      <td>a_4761</td>\n",
       "      <td>ar_33</td>\n",
       "      <td>full</td>\n",
       "      <td>fullDay</td>\n",
       "      <td>noExperience</td>\n",
       "      <td>Смотритель музейный</td>\n",
       "      <td>32</td>\n",
       "      <td>4181</td>\n",
       "      <td>69972</td>\n",
       "      <td>5</td>\n",
       "      <td>5</td>\n",
       "      <td>1</td>\n",
       "      <td>Уверенный пользователь пк Работа в команде Уме...</td>\n",
       "    </tr>\n",
       "    <tr>\n",
       "      <th>1</th>\n",
       "      <td>v_288642</td>\n",
       "      <td>Ведущий менеджер по работе с физическими лицами</td>\n",
       "      <td>c_208672</td>\n",
       "      <td>[Активные продажи, Холодные продажи, Кредитные...</td>\n",
       "      <td>50000.0</td>\n",
       "      <td>NaN</td>\n",
       "      <td>RUR</td>\n",
       "      <td>a_744</td>\n",
       "      <td>ar_2</td>\n",
       "      <td>full</td>\n",
       "      <td>fullDay</td>\n",
       "      <td>noExperience</td>\n",
       "      <td>Ведущий менеджер по работе с физическими лицами</td>\n",
       "      <td>17</td>\n",
       "      <td>6731</td>\n",
       "      <td>120750</td>\n",
       "      <td>5</td>\n",
       "      <td>5</td>\n",
       "      <td>1</td>\n",
       "      <td>Активные продажи Холодные продажи Кредитные до...</td>\n",
       "    </tr>\n",
       "    <tr>\n",
       "      <th>2</th>\n",
       "      <td>v_312507</td>\n",
       "      <td>Торговый представитель (г. Абакан)</td>\n",
       "      <td>c_206699</td>\n",
       "      <td>[Продуктивность, Клиентоориентированность, Раб...</td>\n",
       "      <td>60000.0</td>\n",
       "      <td>NaN</td>\n",
       "      <td>RUR</td>\n",
       "      <td>a_6837</td>\n",
       "      <td>ar_4</td>\n",
       "      <td>full</td>\n",
       "      <td>fullDay</td>\n",
       "      <td>between1And3</td>\n",
       "      <td>Торговый представитель</td>\n",
       "      <td>39</td>\n",
       "      <td>6487</td>\n",
       "      <td>118557</td>\n",
       "      <td>5</td>\n",
       "      <td>5</td>\n",
       "      <td>2</td>\n",
       "      <td>Продуктивность Клиентоориентированность Работа...</td>\n",
       "    </tr>\n",
       "    <tr>\n",
       "      <th>3</th>\n",
       "      <td>v_2323706</td>\n",
       "      <td>Менеджер по качеству</td>\n",
       "      <td>c_244141</td>\n",
       "      <td>[Контроль качества, Производственный контроль,...</td>\n",
       "      <td>88000.0</td>\n",
       "      <td>NaN</td>\n",
       "      <td>RUR</td>\n",
       "      <td>a_5920</td>\n",
       "      <td>ar_64</td>\n",
       "      <td>full</td>\n",
       "      <td>fullDay</td>\n",
       "      <td>between1And3</td>\n",
       "      <td>Менеджер по качеству</td>\n",
       "      <td>66</td>\n",
       "      <td>5469</td>\n",
       "      <td>160161</td>\n",
       "      <td>5</td>\n",
       "      <td>5</td>\n",
       "      <td>2</td>\n",
       "      <td>Контроль качества Производственный контроль На...</td>\n",
       "    </tr>\n",
       "    <tr>\n",
       "      <th>4</th>\n",
       "      <td>v_704266</td>\n",
       "      <td>Менеджер по продажам / Sales manager</td>\n",
       "      <td>c_192038</td>\n",
       "      <td>[Активные продажи, Поиск и привлечение клиенто...</td>\n",
       "      <td>30000.0</td>\n",
       "      <td>100000.0</td>\n",
       "      <td>RUR</td>\n",
       "      <td>a_5398</td>\n",
       "      <td>ar_71</td>\n",
       "      <td>full</td>\n",
       "      <td>fullDay</td>\n",
       "      <td>between1And3</td>\n",
       "      <td>Менеджер по продажам</td>\n",
       "      <td>74</td>\n",
       "      <td>4888</td>\n",
       "      <td>102268</td>\n",
       "      <td>5</td>\n",
       "      <td>5</td>\n",
       "      <td>2</td>\n",
       "      <td>Активные продажи Поиск и привлечение клиентов ...</td>\n",
       "    </tr>\n",
       "  </tbody>\n",
       "</table>\n",
       "</div>"
      ],
      "text/plain": [
       "  vacancy_id                                             name company_id  \\\n",
       "0   v_862116                              Смотритель музейный   c_162972   \n",
       "1   v_288642  Ведущий менеджер по работе с физическими лицами   c_208672   \n",
       "2   v_312507               Торговый представитель (г. Абакан)   c_206699   \n",
       "3  v_2323706                             Менеджер по качеству   c_244141   \n",
       "4   v_704266             Менеджер по продажам / Sales manager   c_192038   \n",
       "\n",
       "                                           keySkills  compensation_from  \\\n",
       "0  [Уверенный пользователь пк, Работа в команде, ...            16500.0   \n",
       "1  [Активные продажи, Холодные продажи, Кредитные...            50000.0   \n",
       "2  [Продуктивность, Клиентоориентированность, Раб...            60000.0   \n",
       "3  [Контроль качества, Производственный контроль,...            88000.0   \n",
       "4  [Активные продажи, Поиск и привлечение клиенто...            30000.0   \n",
       "\n",
       "   compensation_to compensation_currencyCode area_id area_regionId employment  \\\n",
       "0              NaN                       RUR  a_4761         ar_33       full   \n",
       "1              NaN                       RUR   a_744          ar_2       full   \n",
       "2              NaN                       RUR  a_6837          ar_4       full   \n",
       "3              NaN                       RUR  a_5920         ar_64       full   \n",
       "4         100000.0                       RUR  a_5398         ar_71       full   \n",
       "\n",
       "  workSchedule workExperience  \\\n",
       "0      fullDay   noExperience   \n",
       "1      fullDay   noExperience   \n",
       "2      fullDay   between1And3   \n",
       "3      fullDay   between1And3   \n",
       "4      fullDay   between1And3   \n",
       "\n",
       "                                        clean_name  area_regionId_encoder  \\\n",
       "0                              Смотритель музейный                     32   \n",
       "1  Ведущий менеджер по работе с физическими лицами                     17   \n",
       "2                           Торговый представитель                     39   \n",
       "3                             Менеджер по качеству                     66   \n",
       "4                             Менеджер по продажам                     74   \n",
       "\n",
       "   area_id_encoder  company_id_encoder  employment_encoder  \\\n",
       "0             4181               69972                   5   \n",
       "1             6731              120750                   5   \n",
       "2             6487              118557                   5   \n",
       "3             5469              160161                   5   \n",
       "4             4888              102268                   5   \n",
       "\n",
       "   workSchedule_encoder  workExperience_encoder  \\\n",
       "0                     5                       1   \n",
       "1                     5                       1   \n",
       "2                     5                       2   \n",
       "3                     5                       2   \n",
       "4                     5                       2   \n",
       "\n",
       "                                       keySkills_str  \n",
       "0  Уверенный пользователь пк Работа в команде Уме...  \n",
       "1  Активные продажи Холодные продажи Кредитные до...  \n",
       "2  Продуктивность Клиентоориентированность Работа...  \n",
       "3  Контроль качества Производственный контроль На...  \n",
       "4  Активные продажи Поиск и привлечение клиентов ...  "
      ]
     },
     "execution_count": 62,
     "metadata": {},
     "output_type": "execute_result"
    }
   ],
   "source": [
    "data.drop('index', inplace=True, axis=1)\n",
    "data.head()"
   ]
  },
  {
   "cell_type": "code",
   "execution_count": 63,
   "id": "84b866cd",
   "metadata": {},
   "outputs": [
    {
     "data": {
      "text/plain": [
       "NearestNeighbors(metric='cosine', n_neighbors=10)"
      ]
     },
     "execution_count": 63,
     "metadata": {},
     "output_type": "execute_result"
    }
   ],
   "source": [
    "vectorizer = TfidfVectorizer()\n",
    "X = vectorizer.fit_transform(data['keySkills_str'])\n",
    "\n",
    "k = 10\n",
    "knn_model = NearestNeighbors(n_neighbors=k, metric='cosine')\n",
    "knn_model.fit(X)"
   ]
  },
  {
   "cell_type": "code",
   "execution_count": 64,
   "id": "ef575927",
   "metadata": {},
   "outputs": [
    {
     "data": {
      "text/plain": [
       "str"
      ]
     },
     "execution_count": 64,
     "metadata": {},
     "output_type": "execute_result"
    }
   ],
   "source": [
    "type(data['keySkills_str'][0])"
   ]
  },
  {
   "cell_type": "code",
   "execution_count": 65,
   "id": "bcd0393c",
   "metadata": {},
   "outputs": [
    {
     "data": {
      "text/plain": [
       "'Уверенный пользователь пк Работа в команде Умение планировать Стремление к профессиональному росту Консультирование'"
      ]
     },
     "execution_count": 65,
     "metadata": {},
     "output_type": "execute_result"
    }
   ],
   "source": [
    "data['keySkills_str'][0]"
   ]
  },
  {
   "cell_type": "code",
   "execution_count": 76,
   "id": "c5e8aec3",
   "metadata": {},
   "outputs": [
    {
     "data": {
      "text/plain": [
       "0"
      ]
     },
     "execution_count": 76,
     "metadata": {},
     "output_type": "execute_result"
    }
   ],
   "source": [
    "data['keySkills_str'].isna().sum()"
   ]
  },
  {
   "cell_type": "code",
   "execution_count": 66,
   "id": "1bf4bda1",
   "metadata": {},
   "outputs": [],
   "source": [
    "index = 10\n",
    "query = vectorizer.transform([data['keySkills_str'][index]])\n",
    "distances, indices = knn_model.kneighbors(query)"
   ]
  },
  {
   "cell_type": "code",
   "execution_count": 67,
   "id": "9851cc09",
   "metadata": {},
   "outputs": [
    {
     "name": "stdout",
     "output_type": "stream",
     "text": [
      "Nearest neighbors: \n",
      "                                                      name  \\\n",
      "10                                    Директор предприятия   \n",
      "1201070                  Управляющий (Управляющий партнер)   \n",
      "169828                   Управляющий (Управляющий партнер)   \n",
      "143654                   Управляющий (Управляющий партнер)   \n",
      "1040640                              Директор производства   \n",
      "1049439                                    Главный инженер   \n",
      "105105   Директор карьера (горнодобывающая промышленность)   \n",
      "389986   Директор карьера (горнодобывающая промышленность)   \n",
      "581888   Директор карьера (горнодобывающая промышленность)   \n",
      "1075032  Директор карьера (горнодобывающая промышленность)   \n",
      "\n",
      "                                                 keySkills  \\\n",
      "10       [Деловое общение, Организаторские навыки, Руко...   \n",
      "1201070  [Обучение персонала, Управление затратами, Фор...   \n",
      "169828   [Обучение персонала, Управление затратами, Фор...   \n",
      "143654   [Обучение персонала, Управление затратами, Фор...   \n",
      "1040640  [Управление производством, Обучение персонала,...   \n",
      "1049439  [Организаторские навыки, Руководство коллектив...   \n",
      "105105   [Управление производством, Взаимодействие с ко...   \n",
      "389986   [Управление производством, Взаимодействие с ко...   \n",
      "581888   [Управление производством, Взаимодействие с ко...   \n",
      "1075032  [Управление производством, Взаимодействие с ко...   \n",
      "\n",
      "                                             keySkills_str  distances  \n",
      "10       Деловое общение Организаторские навыки Руковод...   0.000000  \n",
      "1201070  Обучение персонала Управление затратами Формир...   0.277254  \n",
      "169828   Обучение персонала Управление затратами Формир...   0.277254  \n",
      "143654   Обучение персонала Управление затратами Формир...   0.277254  \n",
      "1040640  Управление производством Обучение персонала Бе...   0.311978  \n",
      "1049439  Организаторские навыки Руководство коллективом...   0.316508  \n",
      "105105   Управление производством Взаимодействие с конт...   0.319991  \n",
      "389986   Управление производством Взаимодействие с конт...   0.319991  \n",
      "581888   Управление производством Взаимодействие с конт...   0.319991  \n",
      "1075032  Управление производством Взаимодействие с конт...   0.319991  \n"
     ]
    }
   ],
   "source": [
    "print('Nearest neighbors: ')\n",
    "nearest_neighbors = data[['name', 'keySkills', 'keySkills_str']].iloc[indices[0]]\n",
    "nearest_neighbors['distances'] = distances[0]\n",
    "print(nearest_neighbors)"
   ]
  },
  {
   "cell_type": "code",
   "execution_count": 68,
   "id": "ba1bf132",
   "metadata": {},
   "outputs": [
    {
     "data": {
      "text/plain": [
       "array([     10, 1201070,  169828,  143654, 1040640, 1049439,  105105,\n",
       "        389986,  581888, 1075032])"
      ]
     },
     "execution_count": 68,
     "metadata": {},
     "output_type": "execute_result"
    }
   ],
   "source": [
    "indices[0]"
   ]
  },
  {
   "cell_type": "code",
   "execution_count": 69,
   "id": "341ffa0d",
   "metadata": {},
   "outputs": [
    {
     "data": {
      "text/plain": [
       "array([0.        , 0.27725372, 0.27725372, 0.27725372, 0.31197828,\n",
       "       0.31650754, 0.31999055, 0.31999055, 0.31999055, 0.31999055])"
      ]
     },
     "execution_count": 69,
     "metadata": {},
     "output_type": "execute_result"
    }
   ],
   "source": [
    "distances[0]"
   ]
  },
  {
   "cell_type": "code",
   "execution_count": 70,
   "id": "de301285",
   "metadata": {},
   "outputs": [],
   "source": [
    "data.to_csv('vacancies_ru_skills.csv', index=False)"
   ]
  },
  {
   "cell_type": "markdown",
   "id": "90fe7cf2",
   "metadata": {},
   "source": [
    "## Fill keySkills if empty"
   ]
  },
  {
   "cell_type": "code",
   "execution_count": 125,
   "id": "7e412015",
   "metadata": {},
   "outputs": [
    {
     "data": {
      "text/plain": [
       "(1195313, 20)"
      ]
     },
     "execution_count": 125,
     "metadata": {},
     "output_type": "execute_result"
    }
   ],
   "source": [
    "df.shape"
   ]
  },
  {
   "cell_type": "code",
   "execution_count": 124,
   "id": "3d5431cf",
   "metadata": {},
   "outputs": [
    {
     "data": {
      "text/html": [
       "<div>\n",
       "<style scoped>\n",
       "    .dataframe tbody tr th:only-of-type {\n",
       "        vertical-align: middle;\n",
       "    }\n",
       "\n",
       "    .dataframe tbody tr th {\n",
       "        vertical-align: top;\n",
       "    }\n",
       "\n",
       "    .dataframe thead th {\n",
       "        text-align: right;\n",
       "    }\n",
       "</style>\n",
       "<table border=\"1\" class=\"dataframe\">\n",
       "  <thead>\n",
       "    <tr style=\"text-align: right;\">\n",
       "      <th></th>\n",
       "      <th>vacancy_id</th>\n",
       "      <th>name</th>\n",
       "      <th>company_id</th>\n",
       "      <th>keySkills</th>\n",
       "      <th>compensation_from</th>\n",
       "      <th>compensation_to</th>\n",
       "      <th>compensation_currencyCode</th>\n",
       "      <th>area_id</th>\n",
       "      <th>area_regionId</th>\n",
       "      <th>employment</th>\n",
       "      <th>workSchedule</th>\n",
       "      <th>workExperience</th>\n",
       "      <th>clean_name</th>\n",
       "      <th>area_regionId_encoder</th>\n",
       "      <th>area_id_encoder</th>\n",
       "      <th>company_id_encoder</th>\n",
       "      <th>employment_encoder</th>\n",
       "      <th>workSchedule_encoder</th>\n",
       "      <th>workExperience_encoder</th>\n",
       "    </tr>\n",
       "  </thead>\n",
       "  <tbody>\n",
       "    <tr>\n",
       "      <th>2</th>\n",
       "      <td>v_1840054</td>\n",
       "      <td>Бухгалтер (по расчету зарплаты)</td>\n",
       "      <td>c_198109</td>\n",
       "      <td>NaN</td>\n",
       "      <td>50000.0</td>\n",
       "      <td>65000.0</td>\n",
       "      <td>RUR</td>\n",
       "      <td>a_6223</td>\n",
       "      <td>ar_78</td>\n",
       "      <td>full</td>\n",
       "      <td>fullDay</td>\n",
       "      <td>between3And6</td>\n",
       "      <td>Бухгалтер</td>\n",
       "      <td>81</td>\n",
       "      <td>5806</td>\n",
       "      <td>109013</td>\n",
       "      <td>5</td>\n",
       "      <td>5</td>\n",
       "      <td>3</td>\n",
       "    </tr>\n",
       "    <tr>\n",
       "      <th>3</th>\n",
       "      <td>v_2346232</td>\n",
       "      <td>Пекарь (Токсово, Привокзальная, 16)</td>\n",
       "      <td>c_6137</td>\n",
       "      <td>NaN</td>\n",
       "      <td>38500.0</td>\n",
       "      <td>42000.0</td>\n",
       "      <td>RUR</td>\n",
       "      <td>a_4795</td>\n",
       "      <td>ar_51</td>\n",
       "      <td>full</td>\n",
       "      <td>fullDay</td>\n",
       "      <td>noExperience</td>\n",
       "      <td>Пекарь</td>\n",
       "      <td>52</td>\n",
       "      <td>4218</td>\n",
       "      <td>235992</td>\n",
       "      <td>5</td>\n",
       "      <td>5</td>\n",
       "      <td>1</td>\n",
       "    </tr>\n",
       "    <tr>\n",
       "      <th>7</th>\n",
       "      <td>v_2091086</td>\n",
       "      <td>Монтажник СТиЖБК</td>\n",
       "      <td>c_230890</td>\n",
       "      <td>NaN</td>\n",
       "      <td>100000.0</td>\n",
       "      <td>NaN</td>\n",
       "      <td>RUR</td>\n",
       "      <td>a_500</td>\n",
       "      <td>ar_36</td>\n",
       "      <td>full</td>\n",
       "      <td>flyInFlyOut</td>\n",
       "      <td>between1And3</td>\n",
       "      <td>Монтажник СТиЖБК</td>\n",
       "      <td>35</td>\n",
       "      <td>4447</td>\n",
       "      <td>145437</td>\n",
       "      <td>5</td>\n",
       "      <td>1</td>\n",
       "      <td>2</td>\n",
       "    </tr>\n",
       "    <tr>\n",
       "      <th>14</th>\n",
       "      <td>v_902490</td>\n",
       "      <td>Обходчик/Обходчица (подземных газопроводов)</td>\n",
       "      <td>c_101758</td>\n",
       "      <td>NaN</td>\n",
       "      <td>36000.0</td>\n",
       "      <td>NaN</td>\n",
       "      <td>RUR</td>\n",
       "      <td>a_3988</td>\n",
       "      <td>ar_64</td>\n",
       "      <td>full</td>\n",
       "      <td>fullDay</td>\n",
       "      <td>noExperience</td>\n",
       "      <td>Обходчик</td>\n",
       "      <td>66</td>\n",
       "      <td>3321</td>\n",
       "      <td>1957</td>\n",
       "      <td>5</td>\n",
       "      <td>5</td>\n",
       "      <td>1</td>\n",
       "    </tr>\n",
       "    <tr>\n",
       "      <th>15</th>\n",
       "      <td>v_2346650</td>\n",
       "      <td>Велокурьер на электровелосипеде компании (ст.м...</td>\n",
       "      <td>c_124592</td>\n",
       "      <td>NaN</td>\n",
       "      <td>60000.0</td>\n",
       "      <td>NaN</td>\n",
       "      <td>RUR</td>\n",
       "      <td>a_6223</td>\n",
       "      <td>ar_78</td>\n",
       "      <td>full</td>\n",
       "      <td>fullDay</td>\n",
       "      <td>noExperience</td>\n",
       "      <td>Велокурьер на электровелосипеде компании</td>\n",
       "      <td>81</td>\n",
       "      <td>5806</td>\n",
       "      <td>27328</td>\n",
       "      <td>5</td>\n",
       "      <td>5</td>\n",
       "      <td>1</td>\n",
       "    </tr>\n",
       "  </tbody>\n",
       "</table>\n",
       "</div>"
      ],
      "text/plain": [
       "   vacancy_id                                               name company_id  \\\n",
       "2   v_1840054                    Бухгалтер (по расчету зарплаты)   c_198109   \n",
       "3   v_2346232                Пекарь (Токсово, Привокзальная, 16)     c_6137   \n",
       "7   v_2091086                                   Монтажник СТиЖБК   c_230890   \n",
       "14   v_902490        Обходчик/Обходчица (подземных газопроводов)   c_101758   \n",
       "15  v_2346650  Велокурьер на электровелосипеде компании (ст.м...   c_124592   \n",
       "\n",
       "   keySkills  compensation_from  compensation_to compensation_currencyCode  \\\n",
       "2        NaN            50000.0          65000.0                       RUR   \n",
       "3        NaN            38500.0          42000.0                       RUR   \n",
       "7        NaN           100000.0              NaN                       RUR   \n",
       "14       NaN            36000.0              NaN                       RUR   \n",
       "15       NaN            60000.0              NaN                       RUR   \n",
       "\n",
       "   area_id area_regionId employment workSchedule workExperience  \\\n",
       "2   a_6223         ar_78       full      fullDay   between3And6   \n",
       "3   a_4795         ar_51       full      fullDay   noExperience   \n",
       "7    a_500         ar_36       full  flyInFlyOut   between1And3   \n",
       "14  a_3988         ar_64       full      fullDay   noExperience   \n",
       "15  a_6223         ar_78       full      fullDay   noExperience   \n",
       "\n",
       "                                  clean_name  area_regionId_encoder  \\\n",
       "2                                  Бухгалтер                     81   \n",
       "3                                     Пекарь                     52   \n",
       "7                           Монтажник СТиЖБК                     35   \n",
       "14                                  Обходчик                     66   \n",
       "15  Велокурьер на электровелосипеде компании                     81   \n",
       "\n",
       "    area_id_encoder  company_id_encoder  employment_encoder  \\\n",
       "2              5806              109013                   5   \n",
       "3              4218              235992                   5   \n",
       "7              4447              145437                   5   \n",
       "14             3321                1957                   5   \n",
       "15             5806               27328                   5   \n",
       "\n",
       "    workSchedule_encoder  workExperience_encoder  \n",
       "2                      5                       3  \n",
       "3                      5                       1  \n",
       "7                      1                       2  \n",
       "14                     5                       1  \n",
       "15                     5                       1  "
      ]
     },
     "execution_count": 124,
     "metadata": {},
     "output_type": "execute_result"
    }
   ],
   "source": [
    "empty_skills.head()"
   ]
  },
  {
   "cell_type": "code",
   "execution_count": 127,
   "id": "f9108743",
   "metadata": {},
   "outputs": [
    {
     "data": {
      "text/plain": [
       "NearestNeighbors(metric='cosine', n_neighbors=1)"
      ]
     },
     "execution_count": 127,
     "metadata": {},
     "output_type": "execute_result"
    }
   ],
   "source": [
    "vectorizer = TfidfVectorizer()\n",
    "X = vectorizer.fit_transform(df['name'])\n",
    "\n",
    "k = 1\n",
    "knn_model = NearestNeighbors(n_neighbors=k, metric='cosine')\n",
    "knn_model.fit(X)"
   ]
  },
  {
   "cell_type": "code",
   "execution_count": 134,
   "id": "3218ba82",
   "metadata": {},
   "outputs": [
    {
     "data": {
      "text/plain": [
       "vacancy_id                                                           v_1360606\n",
       "name                                             Бухгалтер по расчету зарплаты\n",
       "company_id                                                            c_245784\n",
       "keySkills                    ['Расчет заработной платы', 'Начисление ежегод...\n",
       "compensation_from                                                      50000.0\n",
       "compensation_to                                                            NaN\n",
       "compensation_currencyCode                                                  RUR\n",
       "area_id                                                                 a_4476\n",
       "area_regionId                                                            ar_52\n",
       "employment                                                                full\n",
       "workSchedule                                                           fullDay\n",
       "workExperience                                                    between3And6\n",
       "clean_name                                       Бухгалтер по расчету зарплаты\n",
       "area_regionId_encoder                                                       53\n",
       "area_id_encoder                                                           3864\n",
       "company_id_encoder                                                      161985\n",
       "employment_encoder                                                           5\n",
       "workSchedule_encoder                                                         5\n",
       "workExperience_encoder                                                       3\n",
       "keySkills_str                Расчет заработной платы Начисление ежегодных о...\n",
       "Name: 189505, dtype: object"
      ]
     },
     "execution_count": 134,
     "metadata": {},
     "output_type": "execute_result"
    }
   ],
   "source": [
    "df.iloc[187421]"
   ]
  },
  {
   "cell_type": "code",
   "execution_count": 116,
   "id": "38a95b1f",
   "metadata": {},
   "outputs": [
    {
     "ename": "NameError",
     "evalue": "name 'empty_skills' is not defined",
     "output_type": "error",
     "traceback": [
      "\u001b[0;31m---------------------------------------------------------------------------\u001b[0m",
      "\u001b[0;31mNameError\u001b[0m                                 Traceback (most recent call last)",
      "\u001b[0;32m/var/folders/35/_fnsgly951b8wkst1vg_3lj40000gn/T/ipykernel_99923/1574217229.py\u001b[0m in \u001b[0;36m<module>\u001b[0;34m\u001b[0m\n\u001b[0;32m----> 1\u001b[0;31m \u001b[0;32mfor\u001b[0m \u001b[0mindex\u001b[0m\u001b[0;34m,\u001b[0m \u001b[0mrow\u001b[0m \u001b[0;32min\u001b[0m \u001b[0mempty_skills\u001b[0m\u001b[0;34m.\u001b[0m\u001b[0miterrows\u001b[0m\u001b[0;34m(\u001b[0m\u001b[0;34m)\u001b[0m\u001b[0;34m:\u001b[0m\u001b[0;34m\u001b[0m\u001b[0;34m\u001b[0m\u001b[0m\n\u001b[0m\u001b[1;32m      2\u001b[0m     \u001b[0;32mtry\u001b[0m\u001b[0;34m:\u001b[0m\u001b[0;34m\u001b[0m\u001b[0;34m\u001b[0m\u001b[0m\n\u001b[1;32m      3\u001b[0m         \u001b[0mname_vector\u001b[0m \u001b[0;34m=\u001b[0m \u001b[0mvectorizer\u001b[0m\u001b[0;34m.\u001b[0m\u001b[0mtransform\u001b[0m\u001b[0;34m(\u001b[0m\u001b[0;34m[\u001b[0m\u001b[0mrow\u001b[0m\u001b[0;34m[\u001b[0m\u001b[0;34m'name'\u001b[0m\u001b[0;34m]\u001b[0m\u001b[0;34m]\u001b[0m\u001b[0;34m)\u001b[0m\u001b[0;34m\u001b[0m\u001b[0;34m\u001b[0m\u001b[0m\n\u001b[1;32m      4\u001b[0m \u001b[0;34m\u001b[0m\u001b[0m\n\u001b[1;32m      5\u001b[0m         \u001b[0mdistance\u001b[0m\u001b[0;34m,\u001b[0m \u001b[0mnearest_index\u001b[0m \u001b[0;34m=\u001b[0m \u001b[0mknn_model\u001b[0m\u001b[0;34m.\u001b[0m\u001b[0mkneighbors\u001b[0m\u001b[0;34m(\u001b[0m\u001b[0mname_vector\u001b[0m\u001b[0;34m)\u001b[0m\u001b[0;34m\u001b[0m\u001b[0;34m\u001b[0m\u001b[0m\n",
      "\u001b[0;31mNameError\u001b[0m: name 'empty_skills' is not defined"
     ]
    }
   ],
   "source": [
    "for index, row in empty_skills.iterrows():\n",
    "    try:\n",
    "        name_vector = vectorizer.transform([row['name']])\n",
    "\n",
    "        distance, nearest_index = knn_model.kneighbors(name_vector)\n",
    "        empty_skills.at[index, 'keySkills'] = df.at[nearest_index[0][0], 'keySkills']\n",
    "    except Exception as e:\n",
    "        print(f\"Error occurred at index {index}: {e}\")"
   ]
  },
  {
   "cell_type": "code",
   "execution_count": 143,
   "id": "284c7d8b",
   "metadata": {},
   "outputs": [
    {
     "data": {
      "text/plain": [
       "122"
      ]
     },
     "execution_count": 143,
     "metadata": {},
     "output_type": "execute_result"
    }
   ],
   "source": [
    "i"
   ]
  },
  {
   "cell_type": "code",
   "execution_count": 178,
   "id": "eccbbe73",
   "metadata": {},
   "outputs": [
    {
     "data": {
      "text/plain": [
       "vacancy_id                                       v_1777851\n",
       "name                         Директор ресторана Додо Пицца\n",
       "company_id                                        c_180887\n",
       "keySkills                                              NaN\n",
       "compensation_from                                  80000.0\n",
       "compensation_to                                        NaN\n",
       "compensation_currencyCode                              RUR\n",
       "area_id                                             a_1756\n",
       "area_regionId                                        ar_41\n",
       "employment                                            full\n",
       "workSchedule                                       fullDay\n",
       "workExperience                                between1And3\n",
       "clean_name                   Директор ресторана Додо Пицца\n",
       "area_regionId_encoder                                   41\n",
       "area_id_encoder                                        842\n",
       "company_id_encoder                                   89877\n",
       "employment_encoder                                       5\n",
       "workSchedule_encoder                                     5\n",
       "workExperience_encoder                                   2\n",
       "Name: 1461, dtype: object"
      ]
     },
     "execution_count": 178,
     "metadata": {},
     "output_type": "execute_result"
    }
   ],
   "source": [
    "row = empty_skills.iloc[666]\n",
    "row"
   ]
  },
  {
   "cell_type": "code",
   "execution_count": 179,
   "id": "d271d804",
   "metadata": {},
   "outputs": [
    {
     "data": {
      "text/plain": [
       "'Директор ресторана Додо Пицца'"
      ]
     },
     "execution_count": 179,
     "metadata": {},
     "output_type": "execute_result"
    }
   ],
   "source": [
    "row['name']"
   ]
  },
  {
   "cell_type": "code",
   "execution_count": 180,
   "id": "51523b94",
   "metadata": {},
   "outputs": [
    {
     "name": "stdout",
     "output_type": "stream",
     "text": [
      "[[0.]]\n",
      "[[18908]]\n"
     ]
    }
   ],
   "source": [
    "name_vector = vectorizer.transform([row['name']])\n",
    "    \n",
    "distance, nearest_index = knn_model.kneighbors(name_vector)\n",
    "print(distance)\n",
    "print(nearest_index)\n",
    "empty_skills.at[index, 'keySkills'] = df.at[nearest_index[0][0], 'keySkills']\n"
   ]
  },
  {
   "cell_type": "code",
   "execution_count": 181,
   "id": "78871cc5",
   "metadata": {},
   "outputs": [
    {
     "data": {
      "text/plain": [
       "\"['Знание устройства автомобиля']\""
      ]
     },
     "execution_count": 181,
     "metadata": {},
     "output_type": "execute_result"
    }
   ],
   "source": [
    "empty_skills.at[index, 'keySkills']"
   ]
  },
  {
   "cell_type": "code",
   "execution_count": 183,
   "id": "e09f84e7",
   "metadata": {},
   "outputs": [
    {
     "data": {
      "text/plain": [
       "'Водитель-курьер на личном а/м'"
      ]
     },
     "execution_count": 183,
     "metadata": {},
     "output_type": "execute_result"
    }
   ],
   "source": [
    "df.at[nearest_index[0][0], 'name']"
   ]
  },
  {
   "cell_type": "markdown",
   "id": "e4631bc6",
   "metadata": {},
   "source": [
    "## Predict using KeySkills"
   ]
  },
  {
   "cell_type": "code",
   "execution_count": 104,
   "id": "5e22ce67",
   "metadata": {},
   "outputs": [
    {
     "data": {
      "text/html": [
       "<div>\n",
       "<style scoped>\n",
       "    .dataframe tbody tr th:only-of-type {\n",
       "        vertical-align: middle;\n",
       "    }\n",
       "\n",
       "    .dataframe tbody tr th {\n",
       "        vertical-align: top;\n",
       "    }\n",
       "\n",
       "    .dataframe thead th {\n",
       "        text-align: right;\n",
       "    }\n",
       "</style>\n",
       "<table border=\"1\" class=\"dataframe\">\n",
       "  <thead>\n",
       "    <tr style=\"text-align: right;\">\n",
       "      <th></th>\n",
       "      <th>vacancy_id</th>\n",
       "      <th>name</th>\n",
       "      <th>company_id</th>\n",
       "      <th>keySkills</th>\n",
       "      <th>compensation_from</th>\n",
       "      <th>compensation_to</th>\n",
       "      <th>compensation_currencyCode</th>\n",
       "      <th>area_id</th>\n",
       "      <th>area_regionId</th>\n",
       "      <th>employment</th>\n",
       "      <th>workSchedule</th>\n",
       "      <th>workExperience</th>\n",
       "      <th>clean_name</th>\n",
       "      <th>area_regionId_encoder</th>\n",
       "      <th>area_id_encoder</th>\n",
       "      <th>company_id_encoder</th>\n",
       "      <th>employment_encoder</th>\n",
       "      <th>workSchedule_encoder</th>\n",
       "      <th>workExperience_encoder</th>\n",
       "      <th>keySkills_str</th>\n",
       "    </tr>\n",
       "  </thead>\n",
       "  <tbody>\n",
       "    <tr>\n",
       "      <th>0</th>\n",
       "      <td>v_862116</td>\n",
       "      <td>Смотритель музейный</td>\n",
       "      <td>c_162972</td>\n",
       "      <td>['Уверенный пользователь пк', 'Работа в команд...</td>\n",
       "      <td>16500.0</td>\n",
       "      <td>NaN</td>\n",
       "      <td>RUR</td>\n",
       "      <td>a_4761</td>\n",
       "      <td>ar_33</td>\n",
       "      <td>full</td>\n",
       "      <td>fullDay</td>\n",
       "      <td>noExperience</td>\n",
       "      <td>Смотритель музейный</td>\n",
       "      <td>32</td>\n",
       "      <td>4181</td>\n",
       "      <td>69972</td>\n",
       "      <td>5</td>\n",
       "      <td>5</td>\n",
       "      <td>1</td>\n",
       "      <td>Уверенный пользователь пк Работа в команде Уме...</td>\n",
       "    </tr>\n",
       "    <tr>\n",
       "      <th>1</th>\n",
       "      <td>v_288642</td>\n",
       "      <td>Ведущий менеджер по работе с физическими лицами</td>\n",
       "      <td>c_208672</td>\n",
       "      <td>['Активные продажи', 'Холодные продажи', 'Кред...</td>\n",
       "      <td>50000.0</td>\n",
       "      <td>NaN</td>\n",
       "      <td>RUR</td>\n",
       "      <td>a_744</td>\n",
       "      <td>ar_2</td>\n",
       "      <td>full</td>\n",
       "      <td>fullDay</td>\n",
       "      <td>noExperience</td>\n",
       "      <td>Ведущий менеджер по работе с физическими лицами</td>\n",
       "      <td>17</td>\n",
       "      <td>6731</td>\n",
       "      <td>120750</td>\n",
       "      <td>5</td>\n",
       "      <td>5</td>\n",
       "      <td>1</td>\n",
       "      <td>Активные продажи Холодные продажи Кредитные до...</td>\n",
       "    </tr>\n",
       "    <tr>\n",
       "      <th>2</th>\n",
       "      <td>v_312507</td>\n",
       "      <td>Торговый представитель (г. Абакан)</td>\n",
       "      <td>c_206699</td>\n",
       "      <td>['Продуктивность', 'Клиентоориентированность',...</td>\n",
       "      <td>60000.0</td>\n",
       "      <td>NaN</td>\n",
       "      <td>RUR</td>\n",
       "      <td>a_6837</td>\n",
       "      <td>ar_4</td>\n",
       "      <td>full</td>\n",
       "      <td>fullDay</td>\n",
       "      <td>between1And3</td>\n",
       "      <td>Торговый представитель</td>\n",
       "      <td>39</td>\n",
       "      <td>6487</td>\n",
       "      <td>118557</td>\n",
       "      <td>5</td>\n",
       "      <td>5</td>\n",
       "      <td>2</td>\n",
       "      <td>Продуктивность Клиентоориентированность Работа...</td>\n",
       "    </tr>\n",
       "    <tr>\n",
       "      <th>3</th>\n",
       "      <td>v_2323706</td>\n",
       "      <td>Менеджер по качеству</td>\n",
       "      <td>c_244141</td>\n",
       "      <td>['Контроль качества', 'Производственный контро...</td>\n",
       "      <td>88000.0</td>\n",
       "      <td>NaN</td>\n",
       "      <td>RUR</td>\n",
       "      <td>a_5920</td>\n",
       "      <td>ar_64</td>\n",
       "      <td>full</td>\n",
       "      <td>fullDay</td>\n",
       "      <td>between1And3</td>\n",
       "      <td>Менеджер по качеству</td>\n",
       "      <td>66</td>\n",
       "      <td>5469</td>\n",
       "      <td>160161</td>\n",
       "      <td>5</td>\n",
       "      <td>5</td>\n",
       "      <td>2</td>\n",
       "      <td>Контроль качества Производственный контроль На...</td>\n",
       "    </tr>\n",
       "    <tr>\n",
       "      <th>4</th>\n",
       "      <td>v_704266</td>\n",
       "      <td>Менеджер по продажам / Sales manager</td>\n",
       "      <td>c_192038</td>\n",
       "      <td>['Активные продажи', 'Поиск и привлечение клие...</td>\n",
       "      <td>30000.0</td>\n",
       "      <td>100000.0</td>\n",
       "      <td>RUR</td>\n",
       "      <td>a_5398</td>\n",
       "      <td>ar_71</td>\n",
       "      <td>full</td>\n",
       "      <td>fullDay</td>\n",
       "      <td>between1And3</td>\n",
       "      <td>Менеджер по продажам</td>\n",
       "      <td>74</td>\n",
       "      <td>4888</td>\n",
       "      <td>102268</td>\n",
       "      <td>5</td>\n",
       "      <td>5</td>\n",
       "      <td>2</td>\n",
       "      <td>Активные продажи Поиск и привлечение клиентов ...</td>\n",
       "    </tr>\n",
       "  </tbody>\n",
       "</table>\n",
       "</div>"
      ],
      "text/plain": [
       "  vacancy_id                                             name company_id  \\\n",
       "0   v_862116                              Смотритель музейный   c_162972   \n",
       "1   v_288642  Ведущий менеджер по работе с физическими лицами   c_208672   \n",
       "2   v_312507               Торговый представитель (г. Абакан)   c_206699   \n",
       "3  v_2323706                             Менеджер по качеству   c_244141   \n",
       "4   v_704266             Менеджер по продажам / Sales manager   c_192038   \n",
       "\n",
       "                                           keySkills  compensation_from  \\\n",
       "0  ['Уверенный пользователь пк', 'Работа в команд...            16500.0   \n",
       "1  ['Активные продажи', 'Холодные продажи', 'Кред...            50000.0   \n",
       "2  ['Продуктивность', 'Клиентоориентированность',...            60000.0   \n",
       "3  ['Контроль качества', 'Производственный контро...            88000.0   \n",
       "4  ['Активные продажи', 'Поиск и привлечение клие...            30000.0   \n",
       "\n",
       "   compensation_to compensation_currencyCode area_id area_regionId employment  \\\n",
       "0              NaN                       RUR  a_4761         ar_33       full   \n",
       "1              NaN                       RUR   a_744          ar_2       full   \n",
       "2              NaN                       RUR  a_6837          ar_4       full   \n",
       "3              NaN                       RUR  a_5920         ar_64       full   \n",
       "4         100000.0                       RUR  a_5398         ar_71       full   \n",
       "\n",
       "  workSchedule workExperience  \\\n",
       "0      fullDay   noExperience   \n",
       "1      fullDay   noExperience   \n",
       "2      fullDay   between1And3   \n",
       "3      fullDay   between1And3   \n",
       "4      fullDay   between1And3   \n",
       "\n",
       "                                        clean_name  area_regionId_encoder  \\\n",
       "0                              Смотритель музейный                     32   \n",
       "1  Ведущий менеджер по работе с физическими лицами                     17   \n",
       "2                           Торговый представитель                     39   \n",
       "3                             Менеджер по качеству                     66   \n",
       "4                             Менеджер по продажам                     74   \n",
       "\n",
       "   area_id_encoder  company_id_encoder  employment_encoder  \\\n",
       "0             4181               69972                   5   \n",
       "1             6731              120750                   5   \n",
       "2             6487              118557                   5   \n",
       "3             5469              160161                   5   \n",
       "4             4888              102268                   5   \n",
       "\n",
       "   workSchedule_encoder  workExperience_encoder  \\\n",
       "0                     5                       1   \n",
       "1                     5                       1   \n",
       "2                     5                       2   \n",
       "3                     5                       2   \n",
       "4                     5                       2   \n",
       "\n",
       "                                       keySkills_str  \n",
       "0  Уверенный пользователь пк Работа в команде Уме...  \n",
       "1  Активные продажи Холодные продажи Кредитные до...  \n",
       "2  Продуктивность Клиентоориентированность Работа...  \n",
       "3  Контроль качества Производственный контроль На...  \n",
       "4  Активные продажи Поиск и привлечение клиентов ...  "
      ]
     },
     "execution_count": 104,
     "metadata": {},
     "output_type": "execute_result"
    }
   ],
   "source": [
    "df = pd.read_csv('vacancies_ru_skills.csv')\n",
    "df.head()"
   ]
  },
  {
   "cell_type": "code",
   "execution_count": 105,
   "id": "bf166837",
   "metadata": {},
   "outputs": [],
   "source": [
    "df.dropna(subset=['keySkills_str'], inplace=True)"
   ]
  },
  {
   "cell_type": "code",
   "execution_count": 106,
   "id": "047adea9",
   "metadata": {},
   "outputs": [
    {
     "data": {
      "text/plain": [
       "NearestNeighbors(metric='cosine')"
      ]
     },
     "execution_count": 106,
     "metadata": {},
     "output_type": "execute_result"
    }
   ],
   "source": [
    "vectorizer = TfidfVectorizer()\n",
    "X = vectorizer.fit_transform(df['keySkills_str'])\n",
    "\n",
    "k = 5\n",
    "knn_model = NearestNeighbors(n_neighbors=k, metric='cosine')\n",
    "knn_model.fit(X)"
   ]
  },
  {
   "cell_type": "code",
   "execution_count": 7,
   "id": "64de0221",
   "metadata": {},
   "outputs": [
    {
     "data": {
      "text/html": [
       "<div>\n",
       "<style scoped>\n",
       "    .dataframe tbody tr th:only-of-type {\n",
       "        vertical-align: middle;\n",
       "    }\n",
       "\n",
       "    .dataframe tbody tr th {\n",
       "        vertical-align: top;\n",
       "    }\n",
       "\n",
       "    .dataframe thead th {\n",
       "        text-align: right;\n",
       "    }\n",
       "</style>\n",
       "<table border=\"1\" class=\"dataframe\">\n",
       "  <thead>\n",
       "    <tr style=\"text-align: right;\">\n",
       "      <th></th>\n",
       "      <th>user_id</th>\n",
       "      <th>session_id</th>\n",
       "      <th>vacancy_id</th>\n",
       "      <th>action_type</th>\n",
       "      <th>action_dt</th>\n",
       "      <th>clear_vacancy_id</th>\n",
       "    </tr>\n",
       "  </thead>\n",
       "  <tbody>\n",
       "    <tr>\n",
       "      <th>0</th>\n",
       "      <td>u_482520</td>\n",
       "      <td>s_25018731</td>\n",
       "      <td>['v_2597196', 'v_1223061', 'v_1223061']</td>\n",
       "      <td>[2, 2, 1]</td>\n",
       "      <td>[1700395393089, 1700395410396, 1700395503473]</td>\n",
       "      <td>['v_2597196', 'v_1223061', 'v_1223061']</td>\n",
       "    </tr>\n",
       "    <tr>\n",
       "      <th>1</th>\n",
       "      <td>u_212584</td>\n",
       "      <td>s_16918781</td>\n",
       "      <td>['v_1572055', 'v_1572055', 'v_1572055', 'v_953...</td>\n",
       "      <td>[2, 3, 2, 2, 1, 2, 2, 1, 2, 1, 2, 1]</td>\n",
       "      <td>[1700124107031, 1700124321403, 1700124426230, ...</td>\n",
       "      <td>['v_1572055', 'v_1572055', 'v_1572055', 'v_953...</td>\n",
       "    </tr>\n",
       "    <tr>\n",
       "      <th>2</th>\n",
       "      <td>u_425177</td>\n",
       "      <td>s_17505104</td>\n",
       "      <td>['v_1375331', 'v_1922852']</td>\n",
       "      <td>[2, 2]</td>\n",
       "      <td>[1700224938513, 1700225032744]</td>\n",
       "      <td>['v_1375331', 'v_1922852']</td>\n",
       "    </tr>\n",
       "    <tr>\n",
       "      <th>3</th>\n",
       "      <td>u_700997</td>\n",
       "      <td>s_15528830</td>\n",
       "      <td>['v_2152997', 'v_2152997', 'v_1217630']</td>\n",
       "      <td>[2, 1, 2]</td>\n",
       "      <td>[1700155373530, 1700155399885, 1700155413472]</td>\n",
       "      <td>['v_2152997', 'v_2152997', 'v_1217630']</td>\n",
       "    </tr>\n",
       "    <tr>\n",
       "      <th>4</th>\n",
       "      <td>u_186164</td>\n",
       "      <td>s_34273595</td>\n",
       "      <td>['v_2674644', 'v_2558182']</td>\n",
       "      <td>[2, 2]</td>\n",
       "      <td>[1700483122760, 1700483363810]</td>\n",
       "      <td>['v_2674644', 'v_2558182']</td>\n",
       "    </tr>\n",
       "    <tr>\n",
       "      <th>...</th>\n",
       "      <td>...</td>\n",
       "      <td>...</td>\n",
       "      <td>...</td>\n",
       "      <td>...</td>\n",
       "      <td>...</td>\n",
       "      <td>...</td>\n",
       "    </tr>\n",
       "    <tr>\n",
       "      <th>38574</th>\n",
       "      <td>u_499368</td>\n",
       "      <td>s_19158589</td>\n",
       "      <td>['v_1716634', 'v_2232327', 'v_2232327', 'v_223...</td>\n",
       "      <td>[2, 2, 1, 2, 2, 2, 1, 2, 2, 2, 2, 2, 2]</td>\n",
       "      <td>[1700277315530, 1700277560971, 1700277709953, ...</td>\n",
       "      <td>['v_1716634', 'v_2232327', 'v_2232327', 'v_223...</td>\n",
       "    </tr>\n",
       "    <tr>\n",
       "      <th>38575</th>\n",
       "      <td>u_1084868</td>\n",
       "      <td>s_24756162</td>\n",
       "      <td>['v_395706', 'v_2405231']</td>\n",
       "      <td>[2, 2]</td>\n",
       "      <td>[1700071576550, 1700071638447]</td>\n",
       "      <td>['v_395706', 'v_2405231']</td>\n",
       "    </tr>\n",
       "    <tr>\n",
       "      <th>38576</th>\n",
       "      <td>u_1138032</td>\n",
       "      <td>s_25291467</td>\n",
       "      <td>['v_1213925', 'v_1213925', 'v_2359832', 'v_235...</td>\n",
       "      <td>[2, 1, 2, 1]</td>\n",
       "      <td>[1700435984092, 1700436442739, 1700436449962, ...</td>\n",
       "      <td>['v_1213925', 'v_1213925', 'v_2359832', 'v_235...</td>\n",
       "    </tr>\n",
       "    <tr>\n",
       "      <th>38577</th>\n",
       "      <td>u_608102</td>\n",
       "      <td>s_18813020</td>\n",
       "      <td>['v_933773', 'v_933773', 'v_2021127', 'v_15085...</td>\n",
       "      <td>[3, 2, 2, 2, 2, 1, 2]</td>\n",
       "      <td>[1700149209408, 1700149209448, 1700149398125, ...</td>\n",
       "      <td>['v_933773', 'v_933773', 'v_2021127', 'v_15085...</td>\n",
       "    </tr>\n",
       "    <tr>\n",
       "      <th>38578</th>\n",
       "      <td>u_847738</td>\n",
       "      <td>s_7662913</td>\n",
       "      <td>['v_875568', 'v_2677852', 'v_1562269', 'v_2548...</td>\n",
       "      <td>[2, 2, 2, 2, 2, 2, 2, 2, 2, 2, 1, 2, 2, 2]</td>\n",
       "      <td>[1700228043386, 1700228097675, 1700228505457, ...</td>\n",
       "      <td>['v_875568', 'v_2677852', 'v_1562269', 'v_2548...</td>\n",
       "    </tr>\n",
       "  </tbody>\n",
       "</table>\n",
       "<p>38579 rows × 6 columns</p>\n",
       "</div>"
      ],
      "text/plain": [
       "         user_id  session_id  \\\n",
       "0       u_482520  s_25018731   \n",
       "1       u_212584  s_16918781   \n",
       "2       u_425177  s_17505104   \n",
       "3       u_700997  s_15528830   \n",
       "4       u_186164  s_34273595   \n",
       "...          ...         ...   \n",
       "38574   u_499368  s_19158589   \n",
       "38575  u_1084868  s_24756162   \n",
       "38576  u_1138032  s_25291467   \n",
       "38577   u_608102  s_18813020   \n",
       "38578   u_847738   s_7662913   \n",
       "\n",
       "                                              vacancy_id  \\\n",
       "0                ['v_2597196', 'v_1223061', 'v_1223061']   \n",
       "1      ['v_1572055', 'v_1572055', 'v_1572055', 'v_953...   \n",
       "2                             ['v_1375331', 'v_1922852']   \n",
       "3                ['v_2152997', 'v_2152997', 'v_1217630']   \n",
       "4                             ['v_2674644', 'v_2558182']   \n",
       "...                                                  ...   \n",
       "38574  ['v_1716634', 'v_2232327', 'v_2232327', 'v_223...   \n",
       "38575                          ['v_395706', 'v_2405231']   \n",
       "38576  ['v_1213925', 'v_1213925', 'v_2359832', 'v_235...   \n",
       "38577  ['v_933773', 'v_933773', 'v_2021127', 'v_15085...   \n",
       "38578  ['v_875568', 'v_2677852', 'v_1562269', 'v_2548...   \n",
       "\n",
       "                                      action_type  \\\n",
       "0                                       [2, 2, 1]   \n",
       "1            [2, 3, 2, 2, 1, 2, 2, 1, 2, 1, 2, 1]   \n",
       "2                                          [2, 2]   \n",
       "3                                       [2, 1, 2]   \n",
       "4                                          [2, 2]   \n",
       "...                                           ...   \n",
       "38574     [2, 2, 1, 2, 2, 2, 1, 2, 2, 2, 2, 2, 2]   \n",
       "38575                                      [2, 2]   \n",
       "38576                                [2, 1, 2, 1]   \n",
       "38577                       [3, 2, 2, 2, 2, 1, 2]   \n",
       "38578  [2, 2, 2, 2, 2, 2, 2, 2, 2, 2, 1, 2, 2, 2]   \n",
       "\n",
       "                                               action_dt  \\\n",
       "0          [1700395393089, 1700395410396, 1700395503473]   \n",
       "1      [1700124107031, 1700124321403, 1700124426230, ...   \n",
       "2                         [1700224938513, 1700225032744]   \n",
       "3          [1700155373530, 1700155399885, 1700155413472]   \n",
       "4                         [1700483122760, 1700483363810]   \n",
       "...                                                  ...   \n",
       "38574  [1700277315530, 1700277560971, 1700277709953, ...   \n",
       "38575                     [1700071576550, 1700071638447]   \n",
       "38576  [1700435984092, 1700436442739, 1700436449962, ...   \n",
       "38577  [1700149209408, 1700149209448, 1700149398125, ...   \n",
       "38578  [1700228043386, 1700228097675, 1700228505457, ...   \n",
       "\n",
       "                                        clear_vacancy_id  \n",
       "0                ['v_2597196', 'v_1223061', 'v_1223061']  \n",
       "1      ['v_1572055', 'v_1572055', 'v_1572055', 'v_953...  \n",
       "2                             ['v_1375331', 'v_1922852']  \n",
       "3                ['v_2152997', 'v_2152997', 'v_1217630']  \n",
       "4                             ['v_2674644', 'v_2558182']  \n",
       "...                                                  ...  \n",
       "38574  ['v_1716634', 'v_2232327', 'v_2232327', 'v_223...  \n",
       "38575                          ['v_395706', 'v_2405231']  \n",
       "38576  ['v_1213925', 'v_1213925', 'v_2359832', 'v_235...  \n",
       "38577  ['v_933773', 'v_933773', 'v_2021127', 'v_15085...  \n",
       "38578  ['v_875568', 'v_2677852', 'v_1562269', 'v_2548...  \n",
       "\n",
       "[38579 rows x 6 columns]"
      ]
     },
     "execution_count": 7,
     "metadata": {},
     "output_type": "execute_result"
    }
   ],
   "source": [
    "train = pd.read_csv('../data/data.csv')\n",
    "train.drop('Unnamed: 0', axis=1, inplace=True)\n",
    "train"
   ]
  },
  {
   "cell_type": "code",
   "execution_count": 47,
   "id": "68d288d6",
   "metadata": {},
   "outputs": [
    {
     "data": {
      "text/html": [
       "<div>\n",
       "<style scoped>\n",
       "    .dataframe tbody tr th:only-of-type {\n",
       "        vertical-align: middle;\n",
       "    }\n",
       "\n",
       "    .dataframe tbody tr th {\n",
       "        vertical-align: top;\n",
       "    }\n",
       "\n",
       "    .dataframe thead th {\n",
       "        text-align: right;\n",
       "    }\n",
       "</style>\n",
       "<table border=\"1\" class=\"dataframe\">\n",
       "  <thead>\n",
       "    <tr style=\"text-align: right;\">\n",
       "      <th></th>\n",
       "      <th>vacancy_id</th>\n",
       "      <th>name</th>\n",
       "      <th>company_id</th>\n",
       "      <th>keySkills</th>\n",
       "      <th>compensation_from</th>\n",
       "      <th>compensation_to</th>\n",
       "      <th>compensation_currencyCode</th>\n",
       "      <th>area_id</th>\n",
       "      <th>area_regionId</th>\n",
       "      <th>employment</th>\n",
       "      <th>workSchedule</th>\n",
       "      <th>workExperience</th>\n",
       "      <th>clean_name</th>\n",
       "      <th>area_regionId_encoder</th>\n",
       "      <th>area_id_encoder</th>\n",
       "      <th>company_id_encoder</th>\n",
       "      <th>employment_encoder</th>\n",
       "      <th>workSchedule_encoder</th>\n",
       "      <th>workExperience_encoder</th>\n",
       "      <th>keySkills_str</th>\n",
       "    </tr>\n",
       "  </thead>\n",
       "  <tbody>\n",
       "    <tr>\n",
       "      <th>663817</th>\n",
       "      <td>v_2597196</td>\n",
       "      <td>Главный специалист по охране труда и пожарной ...</td>\n",
       "      <td>c_222826</td>\n",
       "      <td>['Пожарная безопасность', 'Умение работать в к...</td>\n",
       "      <td>150000.0</td>\n",
       "      <td>150000.0</td>\n",
       "      <td>RUR</td>\n",
       "      <td>a_1756</td>\n",
       "      <td>ar_41</td>\n",
       "      <td>full</td>\n",
       "      <td>fullDay</td>\n",
       "      <td>between3And6</td>\n",
       "      <td>Главный специалист по охране труда и пожарной ...</td>\n",
       "      <td>41</td>\n",
       "      <td>842</td>\n",
       "      <td>136477</td>\n",
       "      <td>5</td>\n",
       "      <td>5</td>\n",
       "      <td>3</td>\n",
       "      <td>Пожарная безопасность Умение работать в коллек...</td>\n",
       "    </tr>\n",
       "  </tbody>\n",
       "</table>\n",
       "</div>"
      ],
      "text/plain": [
       "       vacancy_id                                               name  \\\n",
       "663817  v_2597196  Главный специалист по охране труда и пожарной ...   \n",
       "\n",
       "       company_id                                          keySkills  \\\n",
       "663817   c_222826  ['Пожарная безопасность', 'Умение работать в к...   \n",
       "\n",
       "        compensation_from  compensation_to compensation_currencyCode area_id  \\\n",
       "663817           150000.0         150000.0                       RUR  a_1756   \n",
       "\n",
       "       area_regionId employment workSchedule workExperience  \\\n",
       "663817         ar_41       full      fullDay   between3And6   \n",
       "\n",
       "                                               clean_name  \\\n",
       "663817  Главный специалист по охране труда и пожарной ...   \n",
       "\n",
       "        area_regionId_encoder  area_id_encoder  company_id_encoder  \\\n",
       "663817                     41              842              136477   \n",
       "\n",
       "        employment_encoder  workSchedule_encoder  workExperience_encoder  \\\n",
       "663817                   5                     5                       3   \n",
       "\n",
       "                                            keySkills_str  \n",
       "663817  Пожарная безопасность Умение работать в коллек...  "
      ]
     },
     "execution_count": 47,
     "metadata": {},
     "output_type": "execute_result"
    }
   ],
   "source": [
    "df[df['vacancy_id'] == 'v_2597196']"
   ]
  },
  {
   "cell_type": "code",
   "execution_count": 35,
   "id": "1eeabb64",
   "metadata": {},
   "outputs": [
    {
     "data": {
      "text/plain": [
       "\"['v_2597196', 'v_1223061', 'v_1223061']\""
      ]
     },
     "execution_count": 35,
     "metadata": {},
     "output_type": "execute_result"
    }
   ],
   "source": [
    "train['clear_vacancy_id'][0]"
   ]
  },
  {
   "cell_type": "code",
   "execution_count": 37,
   "id": "573d54ce",
   "metadata": {},
   "outputs": [],
   "source": [
    "import ast\n",
    "\n",
    "train['clear_vacancy_id_update'] = train['clear_vacancy_id'].apply(lambda x: ast.literal_eval(x))\n",
    "train['clear_vacancy_id_update'] = train['clear_vacancy_id_update'].apply(lambda x: [id.strip(\" '[]\") for id in x])"
   ]
  },
  {
   "cell_type": "code",
   "execution_count": 101,
   "id": "819ac7a6",
   "metadata": {},
   "outputs": [
    {
     "data": {
      "text/html": [
       "<div>\n",
       "<style scoped>\n",
       "    .dataframe tbody tr th:only-of-type {\n",
       "        vertical-align: middle;\n",
       "    }\n",
       "\n",
       "    .dataframe tbody tr th {\n",
       "        vertical-align: top;\n",
       "    }\n",
       "\n",
       "    .dataframe thead th {\n",
       "        text-align: right;\n",
       "    }\n",
       "</style>\n",
       "<table border=\"1\" class=\"dataframe\">\n",
       "  <thead>\n",
       "    <tr style=\"text-align: right;\">\n",
       "      <th></th>\n",
       "      <th>user_id</th>\n",
       "      <th>session_id</th>\n",
       "      <th>vacancy_id</th>\n",
       "      <th>action_type</th>\n",
       "      <th>action_dt</th>\n",
       "      <th>clear_vacancy_id</th>\n",
       "      <th>clear_vacancy_id_update</th>\n",
       "      <th>action_type_update</th>\n",
       "      <th>vacancy_id_like_response</th>\n",
       "    </tr>\n",
       "  </thead>\n",
       "  <tbody>\n",
       "    <tr>\n",
       "      <th>0</th>\n",
       "      <td>u_482520</td>\n",
       "      <td>s_25018731</td>\n",
       "      <td>['v_2597196', 'v_1223061', 'v_1223061']</td>\n",
       "      <td>[2, 2, 1]</td>\n",
       "      <td>[1700395393089, 1700395410396, 1700395503473]</td>\n",
       "      <td>['v_2597196', 'v_1223061', 'v_1223061']</td>\n",
       "      <td>[v_2597196, v_1223061, v_1223061]</td>\n",
       "      <td>[2, 2, 1]</td>\n",
       "      <td>[v_1223061]</td>\n",
       "    </tr>\n",
       "    <tr>\n",
       "      <th>1</th>\n",
       "      <td>u_212584</td>\n",
       "      <td>s_16918781</td>\n",
       "      <td>['v_1572055', 'v_1572055', 'v_1572055', 'v_953...</td>\n",
       "      <td>[2, 3, 2, 2, 1, 2, 2, 1, 2, 1, 2, 1]</td>\n",
       "      <td>[1700124107031, 1700124321403, 1700124426230, ...</td>\n",
       "      <td>['v_1572055', 'v_1572055', 'v_1572055', 'v_953...</td>\n",
       "      <td>[v_1572055, v_1572055, v_1572055, v_953153, v_...</td>\n",
       "      <td>[2, 3, 2, 2, 1, 2, 2, 1, 2, 1, 2, 1]</td>\n",
       "      <td>[v_1572055, v_953153, v_1033603, v_1592343, v_...</td>\n",
       "    </tr>\n",
       "    <tr>\n",
       "      <th>2</th>\n",
       "      <td>u_425177</td>\n",
       "      <td>s_17505104</td>\n",
       "      <td>['v_1375331', 'v_1922852']</td>\n",
       "      <td>[2, 2]</td>\n",
       "      <td>[1700224938513, 1700225032744]</td>\n",
       "      <td>['v_1375331', 'v_1922852']</td>\n",
       "      <td>[v_1375331, v_1922852]</td>\n",
       "      <td>[2, 2]</td>\n",
       "      <td>[]</td>\n",
       "    </tr>\n",
       "    <tr>\n",
       "      <th>3</th>\n",
       "      <td>u_700997</td>\n",
       "      <td>s_15528830</td>\n",
       "      <td>['v_2152997', 'v_2152997', 'v_1217630']</td>\n",
       "      <td>[2, 1, 2]</td>\n",
       "      <td>[1700155373530, 1700155399885, 1700155413472]</td>\n",
       "      <td>['v_2152997', 'v_2152997', 'v_1217630']</td>\n",
       "      <td>[v_2152997, v_2152997, v_1217630]</td>\n",
       "      <td>[2, 1, 2]</td>\n",
       "      <td>[v_2152997]</td>\n",
       "    </tr>\n",
       "    <tr>\n",
       "      <th>4</th>\n",
       "      <td>u_186164</td>\n",
       "      <td>s_34273595</td>\n",
       "      <td>['v_2674644', 'v_2558182']</td>\n",
       "      <td>[2, 2]</td>\n",
       "      <td>[1700483122760, 1700483363810]</td>\n",
       "      <td>['v_2674644', 'v_2558182']</td>\n",
       "      <td>[v_2674644, v_2558182]</td>\n",
       "      <td>[2, 2]</td>\n",
       "      <td>[]</td>\n",
       "    </tr>\n",
       "    <tr>\n",
       "      <th>...</th>\n",
       "      <td>...</td>\n",
       "      <td>...</td>\n",
       "      <td>...</td>\n",
       "      <td>...</td>\n",
       "      <td>...</td>\n",
       "      <td>...</td>\n",
       "      <td>...</td>\n",
       "      <td>...</td>\n",
       "      <td>...</td>\n",
       "    </tr>\n",
       "    <tr>\n",
       "      <th>38574</th>\n",
       "      <td>u_499368</td>\n",
       "      <td>s_19158589</td>\n",
       "      <td>['v_1716634', 'v_2232327', 'v_2232327', 'v_223...</td>\n",
       "      <td>[2, 2, 1, 2, 2, 2, 1, 2, 2, 2, 2, 2, 2]</td>\n",
       "      <td>[1700277315530, 1700277560971, 1700277709953, ...</td>\n",
       "      <td>['v_1716634', 'v_2232327', 'v_2232327', 'v_223...</td>\n",
       "      <td>[v_1716634, v_2232327, v_2232327, v_2232327, v...</td>\n",
       "      <td>[2, 2, 1, 2, 2, 2, 1, 2, 2, 2, 2, 2, 2]</td>\n",
       "      <td>[v_2232327, v_2706364]</td>\n",
       "    </tr>\n",
       "    <tr>\n",
       "      <th>38575</th>\n",
       "      <td>u_1084868</td>\n",
       "      <td>s_24756162</td>\n",
       "      <td>['v_395706', 'v_2405231']</td>\n",
       "      <td>[2, 2]</td>\n",
       "      <td>[1700071576550, 1700071638447]</td>\n",
       "      <td>['v_395706', 'v_2405231']</td>\n",
       "      <td>[v_395706, v_2405231]</td>\n",
       "      <td>[2, 2]</td>\n",
       "      <td>[]</td>\n",
       "    </tr>\n",
       "    <tr>\n",
       "      <th>38576</th>\n",
       "      <td>u_1138032</td>\n",
       "      <td>s_25291467</td>\n",
       "      <td>['v_1213925', 'v_1213925', 'v_2359832', 'v_235...</td>\n",
       "      <td>[2, 1, 2, 1]</td>\n",
       "      <td>[1700435984092, 1700436442739, 1700436449962, ...</td>\n",
       "      <td>['v_1213925', 'v_1213925', 'v_2359832', 'v_235...</td>\n",
       "      <td>[v_1213925, v_1213925, v_2359832, v_2359832]</td>\n",
       "      <td>[2, 1, 2, 1]</td>\n",
       "      <td>[v_1213925, v_2359832]</td>\n",
       "    </tr>\n",
       "    <tr>\n",
       "      <th>38577</th>\n",
       "      <td>u_608102</td>\n",
       "      <td>s_18813020</td>\n",
       "      <td>['v_933773', 'v_933773', 'v_2021127', 'v_15085...</td>\n",
       "      <td>[3, 2, 2, 2, 2, 1, 2]</td>\n",
       "      <td>[1700149209408, 1700149209448, 1700149398125, ...</td>\n",
       "      <td>['v_933773', 'v_933773', 'v_2021127', 'v_15085...</td>\n",
       "      <td>[v_933773, v_933773, v_2021127, v_1508520, v_2...</td>\n",
       "      <td>[3, 2, 2, 2, 2, 1, 2]</td>\n",
       "      <td>[v_933773, v_2021127]</td>\n",
       "    </tr>\n",
       "    <tr>\n",
       "      <th>38578</th>\n",
       "      <td>u_847738</td>\n",
       "      <td>s_7662913</td>\n",
       "      <td>['v_875568', 'v_2677852', 'v_1562269', 'v_2548...</td>\n",
       "      <td>[2, 2, 2, 2, 2, 2, 2, 2, 2, 2, 1, 2, 2, 2]</td>\n",
       "      <td>[1700228043386, 1700228097675, 1700228505457, ...</td>\n",
       "      <td>['v_875568', 'v_2677852', 'v_1562269', 'v_2548...</td>\n",
       "      <td>[v_875568, v_2677852, v_1562269, v_2548403, v_...</td>\n",
       "      <td>[2, 2, 2, 2, 2, 2, 2, 2, 2, 2, 1, 2, 2, 2]</td>\n",
       "      <td>[v_1302840]</td>\n",
       "    </tr>\n",
       "  </tbody>\n",
       "</table>\n",
       "<p>38579 rows × 9 columns</p>\n",
       "</div>"
      ],
      "text/plain": [
       "         user_id  session_id  \\\n",
       "0       u_482520  s_25018731   \n",
       "1       u_212584  s_16918781   \n",
       "2       u_425177  s_17505104   \n",
       "3       u_700997  s_15528830   \n",
       "4       u_186164  s_34273595   \n",
       "...          ...         ...   \n",
       "38574   u_499368  s_19158589   \n",
       "38575  u_1084868  s_24756162   \n",
       "38576  u_1138032  s_25291467   \n",
       "38577   u_608102  s_18813020   \n",
       "38578   u_847738   s_7662913   \n",
       "\n",
       "                                              vacancy_id  \\\n",
       "0                ['v_2597196', 'v_1223061', 'v_1223061']   \n",
       "1      ['v_1572055', 'v_1572055', 'v_1572055', 'v_953...   \n",
       "2                             ['v_1375331', 'v_1922852']   \n",
       "3                ['v_2152997', 'v_2152997', 'v_1217630']   \n",
       "4                             ['v_2674644', 'v_2558182']   \n",
       "...                                                  ...   \n",
       "38574  ['v_1716634', 'v_2232327', 'v_2232327', 'v_223...   \n",
       "38575                          ['v_395706', 'v_2405231']   \n",
       "38576  ['v_1213925', 'v_1213925', 'v_2359832', 'v_235...   \n",
       "38577  ['v_933773', 'v_933773', 'v_2021127', 'v_15085...   \n",
       "38578  ['v_875568', 'v_2677852', 'v_1562269', 'v_2548...   \n",
       "\n",
       "                                      action_type  \\\n",
       "0                                       [2, 2, 1]   \n",
       "1            [2, 3, 2, 2, 1, 2, 2, 1, 2, 1, 2, 1]   \n",
       "2                                          [2, 2]   \n",
       "3                                       [2, 1, 2]   \n",
       "4                                          [2, 2]   \n",
       "...                                           ...   \n",
       "38574     [2, 2, 1, 2, 2, 2, 1, 2, 2, 2, 2, 2, 2]   \n",
       "38575                                      [2, 2]   \n",
       "38576                                [2, 1, 2, 1]   \n",
       "38577                       [3, 2, 2, 2, 2, 1, 2]   \n",
       "38578  [2, 2, 2, 2, 2, 2, 2, 2, 2, 2, 1, 2, 2, 2]   \n",
       "\n",
       "                                               action_dt  \\\n",
       "0          [1700395393089, 1700395410396, 1700395503473]   \n",
       "1      [1700124107031, 1700124321403, 1700124426230, ...   \n",
       "2                         [1700224938513, 1700225032744]   \n",
       "3          [1700155373530, 1700155399885, 1700155413472]   \n",
       "4                         [1700483122760, 1700483363810]   \n",
       "...                                                  ...   \n",
       "38574  [1700277315530, 1700277560971, 1700277709953, ...   \n",
       "38575                     [1700071576550, 1700071638447]   \n",
       "38576  [1700435984092, 1700436442739, 1700436449962, ...   \n",
       "38577  [1700149209408, 1700149209448, 1700149398125, ...   \n",
       "38578  [1700228043386, 1700228097675, 1700228505457, ...   \n",
       "\n",
       "                                        clear_vacancy_id  \\\n",
       "0                ['v_2597196', 'v_1223061', 'v_1223061']   \n",
       "1      ['v_1572055', 'v_1572055', 'v_1572055', 'v_953...   \n",
       "2                             ['v_1375331', 'v_1922852']   \n",
       "3                ['v_2152997', 'v_2152997', 'v_1217630']   \n",
       "4                             ['v_2674644', 'v_2558182']   \n",
       "...                                                  ...   \n",
       "38574  ['v_1716634', 'v_2232327', 'v_2232327', 'v_223...   \n",
       "38575                          ['v_395706', 'v_2405231']   \n",
       "38576  ['v_1213925', 'v_1213925', 'v_2359832', 'v_235...   \n",
       "38577  ['v_933773', 'v_933773', 'v_2021127', 'v_15085...   \n",
       "38578  ['v_875568', 'v_2677852', 'v_1562269', 'v_2548...   \n",
       "\n",
       "                                 clear_vacancy_id_update  \\\n",
       "0                      [v_2597196, v_1223061, v_1223061]   \n",
       "1      [v_1572055, v_1572055, v_1572055, v_953153, v_...   \n",
       "2                                 [v_1375331, v_1922852]   \n",
       "3                      [v_2152997, v_2152997, v_1217630]   \n",
       "4                                 [v_2674644, v_2558182]   \n",
       "...                                                  ...   \n",
       "38574  [v_1716634, v_2232327, v_2232327, v_2232327, v...   \n",
       "38575                              [v_395706, v_2405231]   \n",
       "38576       [v_1213925, v_1213925, v_2359832, v_2359832]   \n",
       "38577  [v_933773, v_933773, v_2021127, v_1508520, v_2...   \n",
       "38578  [v_875568, v_2677852, v_1562269, v_2548403, v_...   \n",
       "\n",
       "                               action_type_update  \\\n",
       "0                                       [2, 2, 1]   \n",
       "1            [2, 3, 2, 2, 1, 2, 2, 1, 2, 1, 2, 1]   \n",
       "2                                          [2, 2]   \n",
       "3                                       [2, 1, 2]   \n",
       "4                                          [2, 2]   \n",
       "...                                           ...   \n",
       "38574     [2, 2, 1, 2, 2, 2, 1, 2, 2, 2, 2, 2, 2]   \n",
       "38575                                      [2, 2]   \n",
       "38576                                [2, 1, 2, 1]   \n",
       "38577                       [3, 2, 2, 2, 2, 1, 2]   \n",
       "38578  [2, 2, 2, 2, 2, 2, 2, 2, 2, 2, 1, 2, 2, 2]   \n",
       "\n",
       "                                vacancy_id_like_response  \n",
       "0                                            [v_1223061]  \n",
       "1      [v_1572055, v_953153, v_1033603, v_1592343, v_...  \n",
       "2                                                     []  \n",
       "3                                            [v_2152997]  \n",
       "4                                                     []  \n",
       "...                                                  ...  \n",
       "38574                             [v_2232327, v_2706364]  \n",
       "38575                                                 []  \n",
       "38576                             [v_1213925, v_2359832]  \n",
       "38577                              [v_933773, v_2021127]  \n",
       "38578                                        [v_1302840]  \n",
       "\n",
       "[38579 rows x 9 columns]"
      ]
     },
     "execution_count": 101,
     "metadata": {},
     "output_type": "execute_result"
    }
   ],
   "source": [
    "train"
   ]
  },
  {
   "cell_type": "code",
   "execution_count": 76,
   "id": "123bac53",
   "metadata": {},
   "outputs": [
    {
     "data": {
      "text/plain": [
       "array([2, 1, 3], dtype=object)"
      ]
     },
     "execution_count": 76,
     "metadata": {},
     "output_type": "execute_result"
    }
   ],
   "source": [
    "train['action_type_update'].explode().unique()\n",
    "# 1 - отклик, 2 - просмотр (открытие страницы вакансии), 3 - добавление вакансии в избранное"
   ]
  },
  {
   "cell_type": "code",
   "execution_count": 93,
   "id": "55862530",
   "metadata": {},
   "outputs": [],
   "source": [
    "train['vacancy_id_like_response'] = [\n",
    "    [vacancy_id for vacancy_id, action_type in zip(vacancy_ids, action_types) if action_type in [1, 3]]\n",
    "    for vacancy_ids, action_types in zip(train['clear_vacancy_id_update'], train['action_type_update'])\n",
    "]"
   ]
  },
  {
   "cell_type": "code",
   "execution_count": 94,
   "id": "f815cfe9",
   "metadata": {},
   "outputs": [
    {
     "data": {
      "text/plain": [
       "\"['v_2676265', 'v_1579567', 'v_1579567', 'v_381847', 'v_2603095', 'v_2603095', 'v_2603095', 'v_2210018', 'v_2210018', 'v_125978', 'v_125978', 'v_381847', 'v_1579567']\""
      ]
     },
     "execution_count": 94,
     "metadata": {},
     "output_type": "execute_result"
    }
   ],
   "source": [
    "train.loc[11, 'vacancy_id']"
   ]
  },
  {
   "cell_type": "code",
   "execution_count": 97,
   "id": "4187f5c3",
   "metadata": {},
   "outputs": [
    {
     "data": {
      "text/plain": [
       "user_id                                                              u_458095\n",
       "session_id                                                         s_15971126\n",
       "vacancy_id                  ['v_2676265', 'v_1579567', 'v_1579567', 'v_381...\n",
       "action_type                           [2, 2, 1, 2, 2, 1, 3, 2, 1, 2, 1, 2, 2]\n",
       "action_dt                   [1700070707574, 1700071122116, 1700071141505, ...\n",
       "clear_vacancy_id            ['v_2676265', 'v_1579567', 'v_1579567', 'v_381...\n",
       "clear_vacancy_id_update     [v_2676265, v_1579567, v_1579567, v_381847, v_...\n",
       "action_type_update                    [2, 2, 1, 2, 2, 1, 3, 2, 1, 2, 1, 2, 2]\n",
       "vacancy_id_like_response    [v_1579567, v_2603095, v_2603095, v_2210018, v...\n",
       "Name: 11, dtype: object"
      ]
     },
     "execution_count": 97,
     "metadata": {},
     "output_type": "execute_result"
    }
   ],
   "source": [
    "train.iloc[11]"
   ]
  },
  {
   "cell_type": "code",
   "execution_count": 100,
   "id": "62e77250",
   "metadata": {},
   "outputs": [
    {
     "data": {
      "text/plain": [
       "38579"
      ]
     },
     "execution_count": 100,
     "metadata": {},
     "output_type": "execute_result"
    }
   ],
   "source": [
    "# filter only last session for unique user\n",
    "len(train['user_id'].unique())"
   ]
  },
  {
   "cell_type": "code",
   "execution_count": 61,
   "id": "4ed57ac6",
   "metadata": {},
   "outputs": [
    {
     "ename": "KeyboardInterrupt",
     "evalue": "",
     "output_type": "error",
     "traceback": [
      "\u001b[0;31m---------------------------------------------------------------------------\u001b[0m",
      "\u001b[0;31mKeyboardInterrupt\u001b[0m                         Traceback (most recent call last)",
      "\u001b[0;32m/var/folders/35/_fnsgly951b8wkst1vg_3lj40000gn/T/ipykernel_99923/4038976554.py\u001b[0m in \u001b[0;36m<module>\u001b[0;34m\u001b[0m\n\u001b[1;32m      9\u001b[0m             \u001b[0;32mif\u001b[0m \u001b[0mvacancy_id\u001b[0m \u001b[0;32min\u001b[0m \u001b[0mdf\u001b[0m\u001b[0;34m[\u001b[0m\u001b[0;34m'vacancy_id'\u001b[0m\u001b[0;34m]\u001b[0m\u001b[0;34m.\u001b[0m\u001b[0mvalues\u001b[0m\u001b[0;34m:\u001b[0m\u001b[0;34m\u001b[0m\u001b[0;34m\u001b[0m\u001b[0m\n\u001b[1;32m     10\u001b[0m                 \u001b[0mquery\u001b[0m \u001b[0;34m=\u001b[0m \u001b[0mvectorizer\u001b[0m\u001b[0;34m.\u001b[0m\u001b[0mtransform\u001b[0m\u001b[0;34m(\u001b[0m\u001b[0mdf\u001b[0m\u001b[0;34m[\u001b[0m\u001b[0mdf\u001b[0m\u001b[0;34m[\u001b[0m\u001b[0;34m'vacancy_id'\u001b[0m\u001b[0;34m]\u001b[0m \u001b[0;34m==\u001b[0m \u001b[0mvacancy_id\u001b[0m\u001b[0;34m]\u001b[0m\u001b[0;34m[\u001b[0m\u001b[0;34m'keySkills_str'\u001b[0m\u001b[0;34m]\u001b[0m\u001b[0;34m)\u001b[0m\u001b[0;34m\u001b[0m\u001b[0;34m\u001b[0m\u001b[0m\n\u001b[0;32m---> 11\u001b[0;31m                 \u001b[0mdistances\u001b[0m\u001b[0;34m,\u001b[0m \u001b[0mindices\u001b[0m \u001b[0;34m=\u001b[0m \u001b[0mknn_model\u001b[0m\u001b[0;34m.\u001b[0m\u001b[0mkneighbors\u001b[0m\u001b[0;34m(\u001b[0m\u001b[0mquery\u001b[0m\u001b[0;34m)\u001b[0m\u001b[0;34m\u001b[0m\u001b[0;34m\u001b[0m\u001b[0m\n\u001b[0m\u001b[1;32m     12\u001b[0m                 \u001b[0muser_preds\u001b[0m\u001b[0;34m[\u001b[0m\u001b[0muser_id\u001b[0m\u001b[0;34m]\u001b[0m\u001b[0;34m[\u001b[0m\u001b[0mvacancy_id\u001b[0m\u001b[0;34m]\u001b[0m \u001b[0;34m=\u001b[0m \u001b[0mdf\u001b[0m\u001b[0;34m.\u001b[0m\u001b[0miloc\u001b[0m\u001b[0;34m[\u001b[0m\u001b[0mindices\u001b[0m\u001b[0;34m[\u001b[0m\u001b[0;36m0\u001b[0m\u001b[0;34m]\u001b[0m\u001b[0;34m]\u001b[0m\u001b[0;34m.\u001b[0m\u001b[0mto_dict\u001b[0m\u001b[0;34m(\u001b[0m\u001b[0morient\u001b[0m\u001b[0;34m=\u001b[0m\u001b[0;34m'records'\u001b[0m\u001b[0;34m)\u001b[0m\u001b[0;34m\u001b[0m\u001b[0;34m\u001b[0m\u001b[0m\n\u001b[1;32m     13\u001b[0m         \u001b[0;32melse\u001b[0m\u001b[0;34m:\u001b[0m\u001b[0;34m\u001b[0m\u001b[0;34m\u001b[0m\u001b[0m\n",
      "\u001b[0;32m~/opt/anaconda3/lib/python3.9/site-packages/sklearn/neighbors/_base.py\u001b[0m in \u001b[0;36mkneighbors\u001b[0;34m(self, X, n_neighbors, return_distance)\u001b[0m\n\u001b[1;32m    750\u001b[0m                 \u001b[0mkwds\u001b[0m \u001b[0;34m=\u001b[0m \u001b[0mself\u001b[0m\u001b[0;34m.\u001b[0m\u001b[0meffective_metric_params_\u001b[0m\u001b[0;34m\u001b[0m\u001b[0;34m\u001b[0m\u001b[0m\n\u001b[1;32m    751\u001b[0m \u001b[0;34m\u001b[0m\u001b[0m\n\u001b[0;32m--> 752\u001b[0;31m             chunked_results = list(\n\u001b[0m\u001b[1;32m    753\u001b[0m                 pairwise_distances_chunked(\n\u001b[1;32m    754\u001b[0m                     \u001b[0mX\u001b[0m\u001b[0;34m,\u001b[0m\u001b[0;34m\u001b[0m\u001b[0;34m\u001b[0m\u001b[0m\n",
      "\u001b[0;32m~/opt/anaconda3/lib/python3.9/site-packages/sklearn/metrics/pairwise.py\u001b[0m in \u001b[0;36mpairwise_distances_chunked\u001b[0;34m(X, Y, reduce_func, metric, n_jobs, working_memory, **kwds)\u001b[0m\n\u001b[1;32m   1715\u001b[0m         \u001b[0;32melse\u001b[0m\u001b[0;34m:\u001b[0m\u001b[0;34m\u001b[0m\u001b[0;34m\u001b[0m\u001b[0m\n\u001b[1;32m   1716\u001b[0m             \u001b[0mX_chunk\u001b[0m \u001b[0;34m=\u001b[0m \u001b[0mX\u001b[0m\u001b[0;34m[\u001b[0m\u001b[0msl\u001b[0m\u001b[0;34m]\u001b[0m\u001b[0;34m\u001b[0m\u001b[0;34m\u001b[0m\u001b[0m\n\u001b[0;32m-> 1717\u001b[0;31m         \u001b[0mD_chunk\u001b[0m \u001b[0;34m=\u001b[0m \u001b[0mpairwise_distances\u001b[0m\u001b[0;34m(\u001b[0m\u001b[0mX_chunk\u001b[0m\u001b[0;34m,\u001b[0m \u001b[0mY\u001b[0m\u001b[0;34m,\u001b[0m \u001b[0mmetric\u001b[0m\u001b[0;34m=\u001b[0m\u001b[0mmetric\u001b[0m\u001b[0;34m,\u001b[0m \u001b[0mn_jobs\u001b[0m\u001b[0;34m=\u001b[0m\u001b[0mn_jobs\u001b[0m\u001b[0;34m,\u001b[0m \u001b[0;34m**\u001b[0m\u001b[0mkwds\u001b[0m\u001b[0;34m)\u001b[0m\u001b[0;34m\u001b[0m\u001b[0;34m\u001b[0m\u001b[0m\n\u001b[0m\u001b[1;32m   1718\u001b[0m         if (X is Y or Y is None) and PAIRWISE_DISTANCE_FUNCTIONS.get(\n\u001b[1;32m   1719\u001b[0m             \u001b[0mmetric\u001b[0m\u001b[0;34m,\u001b[0m \u001b[0;32mNone\u001b[0m\u001b[0;34m\u001b[0m\u001b[0;34m\u001b[0m\u001b[0m\n",
      "\u001b[0;32m~/opt/anaconda3/lib/python3.9/site-packages/sklearn/metrics/pairwise.py\u001b[0m in \u001b[0;36mpairwise_distances\u001b[0;34m(X, Y, metric, n_jobs, force_all_finite, **kwds)\u001b[0m\n\u001b[1;32m   1887\u001b[0m         \u001b[0mfunc\u001b[0m \u001b[0;34m=\u001b[0m \u001b[0mpartial\u001b[0m\u001b[0;34m(\u001b[0m\u001b[0mdistance\u001b[0m\u001b[0;34m.\u001b[0m\u001b[0mcdist\u001b[0m\u001b[0;34m,\u001b[0m \u001b[0mmetric\u001b[0m\u001b[0;34m=\u001b[0m\u001b[0mmetric\u001b[0m\u001b[0;34m,\u001b[0m \u001b[0;34m**\u001b[0m\u001b[0mkwds\u001b[0m\u001b[0;34m)\u001b[0m\u001b[0;34m\u001b[0m\u001b[0;34m\u001b[0m\u001b[0m\n\u001b[1;32m   1888\u001b[0m \u001b[0;34m\u001b[0m\u001b[0m\n\u001b[0;32m-> 1889\u001b[0;31m     \u001b[0;32mreturn\u001b[0m \u001b[0m_parallel_pairwise\u001b[0m\u001b[0;34m(\u001b[0m\u001b[0mX\u001b[0m\u001b[0;34m,\u001b[0m \u001b[0mY\u001b[0m\u001b[0;34m,\u001b[0m \u001b[0mfunc\u001b[0m\u001b[0;34m,\u001b[0m \u001b[0mn_jobs\u001b[0m\u001b[0;34m,\u001b[0m \u001b[0;34m**\u001b[0m\u001b[0mkwds\u001b[0m\u001b[0;34m)\u001b[0m\u001b[0;34m\u001b[0m\u001b[0;34m\u001b[0m\u001b[0m\n\u001b[0m\u001b[1;32m   1890\u001b[0m \u001b[0;34m\u001b[0m\u001b[0m\n\u001b[1;32m   1891\u001b[0m \u001b[0;34m\u001b[0m\u001b[0m\n",
      "\u001b[0;32m~/opt/anaconda3/lib/python3.9/site-packages/sklearn/metrics/pairwise.py\u001b[0m in \u001b[0;36m_parallel_pairwise\u001b[0;34m(X, Y, func, n_jobs, **kwds)\u001b[0m\n\u001b[1;32m   1428\u001b[0m \u001b[0;34m\u001b[0m\u001b[0m\n\u001b[1;32m   1429\u001b[0m     \u001b[0;32mif\u001b[0m \u001b[0meffective_n_jobs\u001b[0m\u001b[0;34m(\u001b[0m\u001b[0mn_jobs\u001b[0m\u001b[0;34m)\u001b[0m \u001b[0;34m==\u001b[0m \u001b[0;36m1\u001b[0m\u001b[0;34m:\u001b[0m\u001b[0;34m\u001b[0m\u001b[0;34m\u001b[0m\u001b[0m\n\u001b[0;32m-> 1430\u001b[0;31m         \u001b[0;32mreturn\u001b[0m \u001b[0mfunc\u001b[0m\u001b[0;34m(\u001b[0m\u001b[0mX\u001b[0m\u001b[0;34m,\u001b[0m \u001b[0mY\u001b[0m\u001b[0;34m,\u001b[0m \u001b[0;34m**\u001b[0m\u001b[0mkwds\u001b[0m\u001b[0;34m)\u001b[0m\u001b[0;34m\u001b[0m\u001b[0;34m\u001b[0m\u001b[0m\n\u001b[0m\u001b[1;32m   1431\u001b[0m \u001b[0;34m\u001b[0m\u001b[0m\n\u001b[1;32m   1432\u001b[0m     \u001b[0;31m# enforce a threading backend to prevent data communication overhead\u001b[0m\u001b[0;34m\u001b[0m\u001b[0;34m\u001b[0m\u001b[0m\n",
      "\u001b[0;32m~/opt/anaconda3/lib/python3.9/site-packages/sklearn/metrics/pairwise.py\u001b[0m in \u001b[0;36mcosine_distances\u001b[0;34m(X, Y)\u001b[0m\n\u001b[1;32m    896\u001b[0m     \"\"\"\n\u001b[1;32m    897\u001b[0m     \u001b[0;31m# 1.0 - cosine_similarity(X, Y) without copy\u001b[0m\u001b[0;34m\u001b[0m\u001b[0;34m\u001b[0m\u001b[0m\n\u001b[0;32m--> 898\u001b[0;31m     \u001b[0mS\u001b[0m \u001b[0;34m=\u001b[0m \u001b[0mcosine_similarity\u001b[0m\u001b[0;34m(\u001b[0m\u001b[0mX\u001b[0m\u001b[0;34m,\u001b[0m \u001b[0mY\u001b[0m\u001b[0;34m)\u001b[0m\u001b[0;34m\u001b[0m\u001b[0;34m\u001b[0m\u001b[0m\n\u001b[0m\u001b[1;32m    899\u001b[0m     \u001b[0mS\u001b[0m \u001b[0;34m*=\u001b[0m \u001b[0;34m-\u001b[0m\u001b[0;36m1\u001b[0m\u001b[0;34m\u001b[0m\u001b[0;34m\u001b[0m\u001b[0m\n\u001b[1;32m    900\u001b[0m     \u001b[0mS\u001b[0m \u001b[0;34m+=\u001b[0m \u001b[0;36m1\u001b[0m\u001b[0;34m\u001b[0m\u001b[0;34m\u001b[0m\u001b[0m\n",
      "\u001b[0;32m~/opt/anaconda3/lib/python3.9/site-packages/sklearn/metrics/pairwise.py\u001b[0m in \u001b[0;36mcosine_similarity\u001b[0;34m(X, Y, dense_output)\u001b[0m\n\u001b[1;32m   1257\u001b[0m         \u001b[0mY_normalized\u001b[0m \u001b[0;34m=\u001b[0m \u001b[0mnormalize\u001b[0m\u001b[0;34m(\u001b[0m\u001b[0mY\u001b[0m\u001b[0;34m,\u001b[0m \u001b[0mcopy\u001b[0m\u001b[0;34m=\u001b[0m\u001b[0;32mTrue\u001b[0m\u001b[0;34m)\u001b[0m\u001b[0;34m\u001b[0m\u001b[0;34m\u001b[0m\u001b[0m\n\u001b[1;32m   1258\u001b[0m \u001b[0;34m\u001b[0m\u001b[0m\n\u001b[0;32m-> 1259\u001b[0;31m     \u001b[0mK\u001b[0m \u001b[0;34m=\u001b[0m \u001b[0msafe_sparse_dot\u001b[0m\u001b[0;34m(\u001b[0m\u001b[0mX_normalized\u001b[0m\u001b[0;34m,\u001b[0m \u001b[0mY_normalized\u001b[0m\u001b[0;34m.\u001b[0m\u001b[0mT\u001b[0m\u001b[0;34m,\u001b[0m \u001b[0mdense_output\u001b[0m\u001b[0;34m=\u001b[0m\u001b[0mdense_output\u001b[0m\u001b[0;34m)\u001b[0m\u001b[0;34m\u001b[0m\u001b[0;34m\u001b[0m\u001b[0m\n\u001b[0m\u001b[1;32m   1260\u001b[0m \u001b[0;34m\u001b[0m\u001b[0m\n\u001b[1;32m   1261\u001b[0m     \u001b[0;32mreturn\u001b[0m \u001b[0mK\u001b[0m\u001b[0;34m\u001b[0m\u001b[0;34m\u001b[0m\u001b[0m\n",
      "\u001b[0;32m~/opt/anaconda3/lib/python3.9/site-packages/sklearn/utils/extmath.py\u001b[0m in \u001b[0;36msafe_sparse_dot\u001b[0;34m(a, b, dense_output)\u001b[0m\n\u001b[1;32m    151\u001b[0m             \u001b[0mret\u001b[0m \u001b[0;34m=\u001b[0m \u001b[0mnp\u001b[0m\u001b[0;34m.\u001b[0m\u001b[0mdot\u001b[0m\u001b[0;34m(\u001b[0m\u001b[0ma\u001b[0m\u001b[0;34m,\u001b[0m \u001b[0mb\u001b[0m\u001b[0;34m)\u001b[0m\u001b[0;34m\u001b[0m\u001b[0;34m\u001b[0m\u001b[0m\n\u001b[1;32m    152\u001b[0m     \u001b[0;32melse\u001b[0m\u001b[0;34m:\u001b[0m\u001b[0;34m\u001b[0m\u001b[0;34m\u001b[0m\u001b[0m\n\u001b[0;32m--> 153\u001b[0;31m         \u001b[0mret\u001b[0m \u001b[0;34m=\u001b[0m \u001b[0ma\u001b[0m \u001b[0;34m@\u001b[0m \u001b[0mb\u001b[0m\u001b[0;34m\u001b[0m\u001b[0;34m\u001b[0m\u001b[0m\n\u001b[0m\u001b[1;32m    154\u001b[0m \u001b[0;34m\u001b[0m\u001b[0m\n\u001b[1;32m    155\u001b[0m     if (\n",
      "\u001b[0;32m~/opt/anaconda3/lib/python3.9/site-packages/scipy/sparse/_base.py\u001b[0m in \u001b[0;36m__matmul__\u001b[0;34m(self, other)\u001b[0m\n\u001b[1;32m    628\u001b[0m             raise ValueError(\"Scalar operands are not allowed, \"\n\u001b[1;32m    629\u001b[0m                              \"use '*' instead\")\n\u001b[0;32m--> 630\u001b[0;31m         \u001b[0;32mreturn\u001b[0m \u001b[0mself\u001b[0m\u001b[0;34m.\u001b[0m\u001b[0m_mul_dispatch\u001b[0m\u001b[0;34m(\u001b[0m\u001b[0mother\u001b[0m\u001b[0;34m)\u001b[0m\u001b[0;34m\u001b[0m\u001b[0;34m\u001b[0m\u001b[0m\n\u001b[0m\u001b[1;32m    631\u001b[0m \u001b[0;34m\u001b[0m\u001b[0m\n\u001b[1;32m    632\u001b[0m     \u001b[0;32mdef\u001b[0m \u001b[0m__rmatmul__\u001b[0m\u001b[0;34m(\u001b[0m\u001b[0mself\u001b[0m\u001b[0;34m,\u001b[0m \u001b[0mother\u001b[0m\u001b[0;34m)\u001b[0m\u001b[0;34m:\u001b[0m\u001b[0;34m\u001b[0m\u001b[0;34m\u001b[0m\u001b[0m\n",
      "\u001b[0;32m~/opt/anaconda3/lib/python3.9/site-packages/scipy/sparse/_base.py\u001b[0m in \u001b[0;36m_mul_dispatch\u001b[0;34m(self, other)\u001b[0m\n\u001b[1;32m    539\u001b[0m             \u001b[0;32mif\u001b[0m \u001b[0mself\u001b[0m\u001b[0;34m.\u001b[0m\u001b[0mshape\u001b[0m\u001b[0;34m[\u001b[0m\u001b[0;36m1\u001b[0m\u001b[0;34m]\u001b[0m \u001b[0;34m!=\u001b[0m \u001b[0mother\u001b[0m\u001b[0;34m.\u001b[0m\u001b[0mshape\u001b[0m\u001b[0;34m[\u001b[0m\u001b[0;36m0\u001b[0m\u001b[0;34m]\u001b[0m\u001b[0;34m:\u001b[0m\u001b[0;34m\u001b[0m\u001b[0;34m\u001b[0m\u001b[0m\n\u001b[1;32m    540\u001b[0m                 \u001b[0;32mraise\u001b[0m \u001b[0mValueError\u001b[0m\u001b[0;34m(\u001b[0m\u001b[0;34m'dimension mismatch'\u001b[0m\u001b[0;34m)\u001b[0m\u001b[0;34m\u001b[0m\u001b[0;34m\u001b[0m\u001b[0m\n\u001b[0;32m--> 541\u001b[0;31m             \u001b[0;32mreturn\u001b[0m \u001b[0mself\u001b[0m\u001b[0;34m.\u001b[0m\u001b[0m_mul_sparse_matrix\u001b[0m\u001b[0;34m(\u001b[0m\u001b[0mother\u001b[0m\u001b[0;34m)\u001b[0m\u001b[0;34m\u001b[0m\u001b[0;34m\u001b[0m\u001b[0m\n\u001b[0m\u001b[1;32m    542\u001b[0m \u001b[0;34m\u001b[0m\u001b[0m\n\u001b[1;32m    543\u001b[0m         \u001b[0;31m# If it's a list or whatever, treat it like a matrix\u001b[0m\u001b[0;34m\u001b[0m\u001b[0;34m\u001b[0m\u001b[0m\n",
      "\u001b[0;32m~/opt/anaconda3/lib/python3.9/site-packages/scipy/sparse/_compressed.py\u001b[0m in \u001b[0;36m_mul_sparse_matrix\u001b[0;34m(self, other)\u001b[0m\n\u001b[1;32m    510\u001b[0m \u001b[0;34m\u001b[0m\u001b[0m\n\u001b[1;32m    511\u001b[0m         \u001b[0mmajor_axis\u001b[0m \u001b[0;34m=\u001b[0m \u001b[0mself\u001b[0m\u001b[0;34m.\u001b[0m\u001b[0m_swap\u001b[0m\u001b[0;34m(\u001b[0m\u001b[0;34m(\u001b[0m\u001b[0mM\u001b[0m\u001b[0;34m,\u001b[0m \u001b[0mN\u001b[0m\u001b[0;34m)\u001b[0m\u001b[0;34m)\u001b[0m\u001b[0;34m[\u001b[0m\u001b[0;36m0\u001b[0m\u001b[0;34m]\u001b[0m\u001b[0;34m\u001b[0m\u001b[0;34m\u001b[0m\u001b[0m\n\u001b[0;32m--> 512\u001b[0;31m         \u001b[0mother\u001b[0m \u001b[0;34m=\u001b[0m \u001b[0mself\u001b[0m\u001b[0;34m.\u001b[0m\u001b[0m__class__\u001b[0m\u001b[0;34m(\u001b[0m\u001b[0mother\u001b[0m\u001b[0;34m)\u001b[0m  \u001b[0;31m# convert to this format\u001b[0m\u001b[0;34m\u001b[0m\u001b[0;34m\u001b[0m\u001b[0m\n\u001b[0m\u001b[1;32m    513\u001b[0m \u001b[0;34m\u001b[0m\u001b[0m\n\u001b[1;32m    514\u001b[0m         idx_dtype = get_index_dtype((self.indptr, self.indices,\n",
      "\u001b[0;32m~/opt/anaconda3/lib/python3.9/site-packages/scipy/sparse/_compressed.py\u001b[0m in \u001b[0;36m__init__\u001b[0;34m(self, arg1, shape, dtype, copy)\u001b[0m\n\u001b[1;32m     31\u001b[0m                 \u001b[0marg1\u001b[0m \u001b[0;34m=\u001b[0m \u001b[0marg1\u001b[0m\u001b[0;34m.\u001b[0m\u001b[0mcopy\u001b[0m\u001b[0;34m(\u001b[0m\u001b[0;34m)\u001b[0m\u001b[0;34m\u001b[0m\u001b[0;34m\u001b[0m\u001b[0m\n\u001b[1;32m     32\u001b[0m             \u001b[0;32melse\u001b[0m\u001b[0;34m:\u001b[0m\u001b[0;34m\u001b[0m\u001b[0;34m\u001b[0m\u001b[0m\n\u001b[0;32m---> 33\u001b[0;31m                 \u001b[0marg1\u001b[0m \u001b[0;34m=\u001b[0m \u001b[0marg1\u001b[0m\u001b[0;34m.\u001b[0m\u001b[0masformat\u001b[0m\u001b[0;34m(\u001b[0m\u001b[0mself\u001b[0m\u001b[0;34m.\u001b[0m\u001b[0mformat\u001b[0m\u001b[0;34m)\u001b[0m\u001b[0;34m\u001b[0m\u001b[0;34m\u001b[0m\u001b[0m\n\u001b[0m\u001b[1;32m     34\u001b[0m             \u001b[0mself\u001b[0m\u001b[0;34m.\u001b[0m\u001b[0m_set_self\u001b[0m\u001b[0;34m(\u001b[0m\u001b[0marg1\u001b[0m\u001b[0;34m)\u001b[0m\u001b[0;34m\u001b[0m\u001b[0;34m\u001b[0m\u001b[0m\n\u001b[1;32m     35\u001b[0m \u001b[0;34m\u001b[0m\u001b[0m\n",
      "\u001b[0;32m~/opt/anaconda3/lib/python3.9/site-packages/scipy/sparse/_base.py\u001b[0m in \u001b[0;36masformat\u001b[0;34m(self, format, copy)\u001b[0m\n\u001b[1;32m    374\u001b[0m             \u001b[0;31m# Forward the copy kwarg, if it's accepted.\u001b[0m\u001b[0;34m\u001b[0m\u001b[0;34m\u001b[0m\u001b[0m\n\u001b[1;32m    375\u001b[0m             \u001b[0;32mtry\u001b[0m\u001b[0;34m:\u001b[0m\u001b[0;34m\u001b[0m\u001b[0;34m\u001b[0m\u001b[0m\n\u001b[0;32m--> 376\u001b[0;31m                 \u001b[0;32mreturn\u001b[0m \u001b[0mconvert_method\u001b[0m\u001b[0;34m(\u001b[0m\u001b[0mcopy\u001b[0m\u001b[0;34m=\u001b[0m\u001b[0mcopy\u001b[0m\u001b[0;34m)\u001b[0m\u001b[0;34m\u001b[0m\u001b[0;34m\u001b[0m\u001b[0m\n\u001b[0m\u001b[1;32m    377\u001b[0m             \u001b[0;32mexcept\u001b[0m \u001b[0mTypeError\u001b[0m\u001b[0;34m:\u001b[0m\u001b[0;34m\u001b[0m\u001b[0;34m\u001b[0m\u001b[0m\n\u001b[1;32m    378\u001b[0m                 \u001b[0;32mreturn\u001b[0m \u001b[0mconvert_method\u001b[0m\u001b[0;34m(\u001b[0m\u001b[0;34m)\u001b[0m\u001b[0;34m\u001b[0m\u001b[0;34m\u001b[0m\u001b[0m\n",
      "\u001b[0;32m~/opt/anaconda3/lib/python3.9/site-packages/scipy/sparse/_csc.py\u001b[0m in \u001b[0;36mtocsr\u001b[0;34m(self, copy)\u001b[0m\n\u001b[1;32m    138\u001b[0m         \u001b[0mdata\u001b[0m \u001b[0;34m=\u001b[0m \u001b[0mnp\u001b[0m\u001b[0;34m.\u001b[0m\u001b[0mempty\u001b[0m\u001b[0;34m(\u001b[0m\u001b[0mself\u001b[0m\u001b[0;34m.\u001b[0m\u001b[0mnnz\u001b[0m\u001b[0;34m,\u001b[0m \u001b[0mdtype\u001b[0m\u001b[0;34m=\u001b[0m\u001b[0mupcast\u001b[0m\u001b[0;34m(\u001b[0m\u001b[0mself\u001b[0m\u001b[0;34m.\u001b[0m\u001b[0mdtype\u001b[0m\u001b[0;34m)\u001b[0m\u001b[0;34m)\u001b[0m\u001b[0;34m\u001b[0m\u001b[0;34m\u001b[0m\u001b[0m\n\u001b[1;32m    139\u001b[0m \u001b[0;34m\u001b[0m\u001b[0m\n\u001b[0;32m--> 140\u001b[0;31m         csc_tocsr(M, N,\n\u001b[0m\u001b[1;32m    141\u001b[0m                   \u001b[0mself\u001b[0m\u001b[0;34m.\u001b[0m\u001b[0mindptr\u001b[0m\u001b[0;34m.\u001b[0m\u001b[0mastype\u001b[0m\u001b[0;34m(\u001b[0m\u001b[0midx_dtype\u001b[0m\u001b[0;34m)\u001b[0m\u001b[0;34m,\u001b[0m\u001b[0;34m\u001b[0m\u001b[0;34m\u001b[0m\u001b[0m\n\u001b[1;32m    142\u001b[0m                   \u001b[0mself\u001b[0m\u001b[0;34m.\u001b[0m\u001b[0mindices\u001b[0m\u001b[0;34m.\u001b[0m\u001b[0mastype\u001b[0m\u001b[0;34m(\u001b[0m\u001b[0midx_dtype\u001b[0m\u001b[0;34m)\u001b[0m\u001b[0;34m,\u001b[0m\u001b[0;34m\u001b[0m\u001b[0;34m\u001b[0m\u001b[0m\n",
      "\u001b[0;31mKeyboardInterrupt\u001b[0m: "
     ]
    }
   ],
   "source": [
    "# predict for all actions\n",
    "user_preds = {}\n",
    "\n",
    "for user_id in train['user_id'].unique()[:1000]:\n",
    "    user_data = train[train['user_id'] == user_id]\n",
    "    user_preds[user_id] = {}\n",
    "    \n",
    "    for vacancy_id in user_data['clear_vacancy_id_update']:\n",
    "        for vacancy_id in vacancy_id:\n",
    "            if vacancy_id in df['vacancy_id'].values:\n",
    "                query = vectorizer.transform(df[df['vacancy_id'] == vacancy_id]['keySkills_str'])\n",
    "                distances, indices = knn_model.kneighbors(query)\n",
    "                user_preds[user_id][vacancy_id] = df.iloc[indices[0]].to_dict(orient='records')\n",
    "        else:\n",
    "            if vacancy_id in df['vacancy_id'].values:\n",
    "                query = vectorizer.transform(df[df['vacancy_id'] == vacancy_id]['keySkills_str'])\n",
    "                distances, indices = knn_model.kneighbors(query)\n",
    "                user_preds[user_id][vacancy_id] = df.iloc[indices[0]].to_dict(orient='records')"
   ]
  },
  {
   "cell_type": "code",
   "execution_count": 53,
   "id": "665ad41f",
   "metadata": {},
   "outputs": [
    {
     "data": {
      "text/html": [
       "<div>\n",
       "<style scoped>\n",
       "    .dataframe tbody tr th:only-of-type {\n",
       "        vertical-align: middle;\n",
       "    }\n",
       "\n",
       "    .dataframe tbody tr th {\n",
       "        vertical-align: top;\n",
       "    }\n",
       "\n",
       "    .dataframe thead th {\n",
       "        text-align: right;\n",
       "    }\n",
       "</style>\n",
       "<table border=\"1\" class=\"dataframe\">\n",
       "  <thead>\n",
       "    <tr style=\"text-align: right;\">\n",
       "      <th></th>\n",
       "      <th>vacancy_id</th>\n",
       "      <th>name</th>\n",
       "      <th>company_id</th>\n",
       "      <th>keySkills</th>\n",
       "      <th>compensation_from</th>\n",
       "      <th>compensation_to</th>\n",
       "      <th>compensation_currencyCode</th>\n",
       "      <th>area_id</th>\n",
       "      <th>area_regionId</th>\n",
       "      <th>employment</th>\n",
       "      <th>workSchedule</th>\n",
       "      <th>workExperience</th>\n",
       "      <th>clean_name</th>\n",
       "      <th>area_regionId_encoder</th>\n",
       "      <th>area_id_encoder</th>\n",
       "      <th>company_id_encoder</th>\n",
       "      <th>employment_encoder</th>\n",
       "      <th>workSchedule_encoder</th>\n",
       "      <th>workExperience_encoder</th>\n",
       "      <th>keySkills_str</th>\n",
       "    </tr>\n",
       "  </thead>\n",
       "  <tbody>\n",
       "    <tr>\n",
       "      <th>975610</th>\n",
       "      <td>v_1975285</td>\n",
       "      <td>Кондитер</td>\n",
       "      <td>c_38937</td>\n",
       "      <td>['Работа в команде', 'Умение находить общий яз...</td>\n",
       "      <td>40000.0</td>\n",
       "      <td>45000.0</td>\n",
       "      <td>RUR</td>\n",
       "      <td>a_5618</td>\n",
       "      <td>ar_72</td>\n",
       "      <td>full</td>\n",
       "      <td>fullDay</td>\n",
       "      <td>between1And3</td>\n",
       "      <td>Кондитер</td>\n",
       "      <td>75</td>\n",
       "      <td>5133</td>\n",
       "      <td>211066</td>\n",
       "      <td>5</td>\n",
       "      <td>5</td>\n",
       "      <td>2</td>\n",
       "      <td>Работа в команде Умение находить общий язык Же...</td>\n",
       "    </tr>\n",
       "  </tbody>\n",
       "</table>\n",
       "</div>"
      ],
      "text/plain": [
       "       vacancy_id      name company_id  \\\n",
       "975610  v_1975285  Кондитер    c_38937   \n",
       "\n",
       "                                                keySkills  compensation_from  \\\n",
       "975610  ['Работа в команде', 'Умение находить общий яз...            40000.0   \n",
       "\n",
       "        compensation_to compensation_currencyCode area_id area_regionId  \\\n",
       "975610          45000.0                       RUR  a_5618         ar_72   \n",
       "\n",
       "       employment workSchedule workExperience clean_name  \\\n",
       "975610       full      fullDay   between1And3   Кондитер   \n",
       "\n",
       "        area_regionId_encoder  area_id_encoder  company_id_encoder  \\\n",
       "975610                     75             5133              211066   \n",
       "\n",
       "        employment_encoder  workSchedule_encoder  workExperience_encoder  \\\n",
       "975610                   5                     5                       2   \n",
       "\n",
       "                                            keySkills_str  \n",
       "975610  Работа в команде Умение находить общий язык Же...  "
      ]
     },
     "execution_count": 53,
     "metadata": {},
     "output_type": "execute_result"
    }
   ],
   "source": [
    "df[df['vacancy_id'] == 'v_1975285']"
   ]
  },
  {
   "cell_type": "code",
   "execution_count": 120,
   "id": "aa444df8",
   "metadata": {},
   "outputs": [
    {
     "name": "stdout",
     "output_type": "stream",
     "text": [
      "u_482520 {'v_2597196': [{'vacancy_id': 'v_2725221', 'name': 'Пожарный пожарного поезда, г. Артемовский', 'company_id': 'c_48425', 'keySkills': \"['Пожарная безопасность', 'Умение работать в коллективе']\", 'compensation_from': 24000.0, 'compensation_to': 26000.0, 'compensation_currencyCode': 'RUR', 'area_id': 'a_4836', 'area_regionId': 'ar_44', 'employment': 'full', 'workSchedule': 'shift', 'workExperience': 'noExperience', 'clean_name': 'Пожарный пожарного поезда, г. Артемовский', 'area_regionId_encoder': 44, 'area_id_encoder': 4264, 'company_id_encoder': 221609, 'employment_encoder': 5, 'workSchedule_encoder': 4, 'workExperience_encoder': 1, 'keySkills_str': 'Пожарная безопасность Умение работать в коллективе'}, {'vacancy_id': 'v_1999729', 'name': 'Слесарь механосборочных работ', 'company_id': 'c_91699', 'keySkills': \"['Умение работать в коллективе', 'Пожарная безопасность']\", 'compensation_from': 65000.0, 'compensation_to': nan, 'compensation_currencyCode': 'RUR', 'area_id': 'a_1639', 'area_regionId': 'ar_64', 'employment': 'full', 'workSchedule': 'fullDay', 'workExperience': 'between1And3', 'clean_name': 'Слесарь механосборочных работ', 'area_regionId_encoder': 66, 'area_id_encoder': 712, 'company_id_encoder': 269690, 'employment_encoder': 5, 'workSchedule_encoder': 5, 'workExperience_encoder': 2, 'keySkills_str': 'Умение работать в коллективе Пожарная безопасность'}, {'vacancy_id': 'v_1279213', 'name': 'Дознаватель', 'company_id': 'c_260470', 'keySkills': \"['Пожарная безопасность', 'Умение работать в коллективе']\", 'compensation_from': 35000.0, 'compensation_to': 45000.0, 'compensation_currencyCode': 'RUR', 'area_id': 'a_6157', 'area_regionId': 'ar_7', 'employment': 'full', 'workSchedule': 'fullDay', 'workExperience': 'noExperience', 'clean_name': 'Дознаватель', 'area_regionId_encoder': 72, 'area_id_encoder': 5732, 'company_id_encoder': 178304, 'employment_encoder': 5, 'workSchedule_encoder': 5, 'workExperience_encoder': 1, 'keySkills_str': 'Пожарная безопасность Умение работать в коллективе'}, {'vacancy_id': 'v_1102723', 'name': 'Ведущий специалист по противопожарной профилактике', 'company_id': 'c_239120', 'keySkills': \"['Пожарная безопасность', 'Умение работать в коллективе']\", 'compensation_from': 42000.0, 'compensation_to': 50000.0, 'compensation_currencyCode': 'RUR', 'area_id': 'a_1969', 'area_regionId': 'ar_61', 'employment': 'full', 'workSchedule': 'fullDay', 'workExperience': 'moreThan6', 'clean_name': 'Ведущий специалист по противопожарной профилактике', 'area_regionId_encoder': 63, 'area_id_encoder': 1078, 'company_id_encoder': 154582, 'employment_encoder': 5, 'workSchedule_encoder': 5, 'workExperience_encoder': 4, 'keySkills_str': 'Пожарная безопасность Умение работать в коллективе'}, {'vacancy_id': 'v_1613479', 'name': 'Дознаватель', 'company_id': 'c_260470', 'keySkills': \"['Пожарная безопасность', 'Умение работать в коллективе']\", 'compensation_from': 35000.0, 'compensation_to': 45000.0, 'compensation_currencyCode': 'RUR', 'area_id': 'a_3728', 'area_regionId': 'ar_7', 'employment': 'full', 'workSchedule': 'fullDay', 'workExperience': 'noExperience', 'clean_name': 'Дознаватель', 'area_regionId_encoder': 72, 'area_id_encoder': 3033, 'company_id_encoder': 178304, 'employment_encoder': 5, 'workSchedule_encoder': 5, 'workExperience_encoder': 1, 'keySkills_str': 'Пожарная безопасность Умение работать в коллективе'}]}\n"
     ]
    }
   ],
   "source": [
    "for key, value in islice(user_preds.items(), 1):\n",
    "    print(key, value)"
   ]
  },
  {
   "cell_type": "code",
   "execution_count": 115,
   "id": "5df63048",
   "metadata": {},
   "outputs": [
    {
     "name": "stderr",
     "output_type": "stream",
     "text": [
      "/var/folders/35/_fnsgly951b8wkst1vg_3lj40000gn/T/ipykernel_99923/2387447424.py:20: DeprecationWarning: elementwise comparison failed; this will raise an error in the future.\n",
      "  if vacancy_id in df['vacancy_id'].values:\n"
     ]
    },
    {
     "ename": "KeyboardInterrupt",
     "evalue": "",
     "output_type": "error",
     "traceback": [
      "\u001b[0;31m---------------------------------------------------------------------------\u001b[0m",
      "\u001b[0;31mKeyboardInterrupt\u001b[0m                         Traceback (most recent call last)",
      "\u001b[0;32m/var/folders/35/_fnsgly951b8wkst1vg_3lj40000gn/T/ipykernel_99923/2387447424.py\u001b[0m in \u001b[0;36m<module>\u001b[0;34m\u001b[0m\n\u001b[1;32m     20\u001b[0m             \u001b[0;32mif\u001b[0m \u001b[0mvacancy_id\u001b[0m \u001b[0;32min\u001b[0m \u001b[0mdf\u001b[0m\u001b[0;34m[\u001b[0m\u001b[0;34m'vacancy_id'\u001b[0m\u001b[0;34m]\u001b[0m\u001b[0;34m.\u001b[0m\u001b[0mvalues\u001b[0m\u001b[0;34m:\u001b[0m\u001b[0;34m\u001b[0m\u001b[0;34m\u001b[0m\u001b[0m\n\u001b[1;32m     21\u001b[0m                 \u001b[0mquery\u001b[0m \u001b[0;34m=\u001b[0m \u001b[0mvectorizer\u001b[0m\u001b[0;34m.\u001b[0m\u001b[0mtransform\u001b[0m\u001b[0;34m(\u001b[0m\u001b[0mdf\u001b[0m\u001b[0;34m[\u001b[0m\u001b[0mdf\u001b[0m\u001b[0;34m[\u001b[0m\u001b[0;34m'vacancy_id'\u001b[0m\u001b[0;34m]\u001b[0m \u001b[0;34m==\u001b[0m \u001b[0mvacancy_id\u001b[0m\u001b[0;34m]\u001b[0m\u001b[0;34m[\u001b[0m\u001b[0;34m'keySkills_str'\u001b[0m\u001b[0;34m]\u001b[0m\u001b[0;34m)\u001b[0m\u001b[0;34m\u001b[0m\u001b[0;34m\u001b[0m\u001b[0m\n\u001b[0;32m---> 22\u001b[0;31m                 \u001b[0mdistances\u001b[0m\u001b[0;34m,\u001b[0m \u001b[0mindices\u001b[0m \u001b[0;34m=\u001b[0m \u001b[0mknn_model\u001b[0m\u001b[0;34m.\u001b[0m\u001b[0mkneighbors\u001b[0m\u001b[0;34m(\u001b[0m\u001b[0mquery\u001b[0m\u001b[0;34m)\u001b[0m\u001b[0;34m\u001b[0m\u001b[0;34m\u001b[0m\u001b[0m\n\u001b[0m\u001b[1;32m     23\u001b[0m                 \u001b[0muser_preds_like_response\u001b[0m\u001b[0;34m[\u001b[0m\u001b[0muser_id\u001b[0m\u001b[0;34m]\u001b[0m\u001b[0;34m[\u001b[0m\u001b[0mvacancy_id\u001b[0m\u001b[0;34m]\u001b[0m \u001b[0;34m=\u001b[0m \u001b[0mdf\u001b[0m\u001b[0;34m.\u001b[0m\u001b[0miloc\u001b[0m\u001b[0;34m[\u001b[0m\u001b[0mindices\u001b[0m\u001b[0;34m[\u001b[0m\u001b[0;36m0\u001b[0m\u001b[0;34m]\u001b[0m\u001b[0;34m]\u001b[0m\u001b[0;34m.\u001b[0m\u001b[0mto_dict\u001b[0m\u001b[0;34m(\u001b[0m\u001b[0morient\u001b[0m\u001b[0;34m=\u001b[0m\u001b[0;34m'records'\u001b[0m\u001b[0;34m)\u001b[0m\u001b[0;34m\u001b[0m\u001b[0;34m\u001b[0m\u001b[0m\n",
      "\u001b[0;32m~/opt/anaconda3/lib/python3.9/site-packages/sklearn/neighbors/_base.py\u001b[0m in \u001b[0;36mkneighbors\u001b[0;34m(self, X, n_neighbors, return_distance)\u001b[0m\n\u001b[1;32m    750\u001b[0m                 \u001b[0mkwds\u001b[0m \u001b[0;34m=\u001b[0m \u001b[0mself\u001b[0m\u001b[0;34m.\u001b[0m\u001b[0meffective_metric_params_\u001b[0m\u001b[0;34m\u001b[0m\u001b[0;34m\u001b[0m\u001b[0m\n\u001b[1;32m    751\u001b[0m \u001b[0;34m\u001b[0m\u001b[0m\n\u001b[0;32m--> 752\u001b[0;31m             chunked_results = list(\n\u001b[0m\u001b[1;32m    753\u001b[0m                 pairwise_distances_chunked(\n\u001b[1;32m    754\u001b[0m                     \u001b[0mX\u001b[0m\u001b[0;34m,\u001b[0m\u001b[0;34m\u001b[0m\u001b[0;34m\u001b[0m\u001b[0m\n",
      "\u001b[0;32m~/opt/anaconda3/lib/python3.9/site-packages/sklearn/metrics/pairwise.py\u001b[0m in \u001b[0;36mpairwise_distances_chunked\u001b[0;34m(X, Y, reduce_func, metric, n_jobs, working_memory, **kwds)\u001b[0m\n\u001b[1;32m   1715\u001b[0m         \u001b[0;32melse\u001b[0m\u001b[0;34m:\u001b[0m\u001b[0;34m\u001b[0m\u001b[0;34m\u001b[0m\u001b[0m\n\u001b[1;32m   1716\u001b[0m             \u001b[0mX_chunk\u001b[0m \u001b[0;34m=\u001b[0m \u001b[0mX\u001b[0m\u001b[0;34m[\u001b[0m\u001b[0msl\u001b[0m\u001b[0;34m]\u001b[0m\u001b[0;34m\u001b[0m\u001b[0;34m\u001b[0m\u001b[0m\n\u001b[0;32m-> 1717\u001b[0;31m         \u001b[0mD_chunk\u001b[0m \u001b[0;34m=\u001b[0m \u001b[0mpairwise_distances\u001b[0m\u001b[0;34m(\u001b[0m\u001b[0mX_chunk\u001b[0m\u001b[0;34m,\u001b[0m \u001b[0mY\u001b[0m\u001b[0;34m,\u001b[0m \u001b[0mmetric\u001b[0m\u001b[0;34m=\u001b[0m\u001b[0mmetric\u001b[0m\u001b[0;34m,\u001b[0m \u001b[0mn_jobs\u001b[0m\u001b[0;34m=\u001b[0m\u001b[0mn_jobs\u001b[0m\u001b[0;34m,\u001b[0m \u001b[0;34m**\u001b[0m\u001b[0mkwds\u001b[0m\u001b[0;34m)\u001b[0m\u001b[0;34m\u001b[0m\u001b[0;34m\u001b[0m\u001b[0m\n\u001b[0m\u001b[1;32m   1718\u001b[0m         if (X is Y or Y is None) and PAIRWISE_DISTANCE_FUNCTIONS.get(\n\u001b[1;32m   1719\u001b[0m             \u001b[0mmetric\u001b[0m\u001b[0;34m,\u001b[0m \u001b[0;32mNone\u001b[0m\u001b[0;34m\u001b[0m\u001b[0;34m\u001b[0m\u001b[0m\n",
      "\u001b[0;32m~/opt/anaconda3/lib/python3.9/site-packages/sklearn/metrics/pairwise.py\u001b[0m in \u001b[0;36mpairwise_distances\u001b[0;34m(X, Y, metric, n_jobs, force_all_finite, **kwds)\u001b[0m\n\u001b[1;32m   1887\u001b[0m         \u001b[0mfunc\u001b[0m \u001b[0;34m=\u001b[0m \u001b[0mpartial\u001b[0m\u001b[0;34m(\u001b[0m\u001b[0mdistance\u001b[0m\u001b[0;34m.\u001b[0m\u001b[0mcdist\u001b[0m\u001b[0;34m,\u001b[0m \u001b[0mmetric\u001b[0m\u001b[0;34m=\u001b[0m\u001b[0mmetric\u001b[0m\u001b[0;34m,\u001b[0m \u001b[0;34m**\u001b[0m\u001b[0mkwds\u001b[0m\u001b[0;34m)\u001b[0m\u001b[0;34m\u001b[0m\u001b[0;34m\u001b[0m\u001b[0m\n\u001b[1;32m   1888\u001b[0m \u001b[0;34m\u001b[0m\u001b[0m\n\u001b[0;32m-> 1889\u001b[0;31m     \u001b[0;32mreturn\u001b[0m \u001b[0m_parallel_pairwise\u001b[0m\u001b[0;34m(\u001b[0m\u001b[0mX\u001b[0m\u001b[0;34m,\u001b[0m \u001b[0mY\u001b[0m\u001b[0;34m,\u001b[0m \u001b[0mfunc\u001b[0m\u001b[0;34m,\u001b[0m \u001b[0mn_jobs\u001b[0m\u001b[0;34m,\u001b[0m \u001b[0;34m**\u001b[0m\u001b[0mkwds\u001b[0m\u001b[0;34m)\u001b[0m\u001b[0;34m\u001b[0m\u001b[0;34m\u001b[0m\u001b[0m\n\u001b[0m\u001b[1;32m   1890\u001b[0m \u001b[0;34m\u001b[0m\u001b[0m\n\u001b[1;32m   1891\u001b[0m \u001b[0;34m\u001b[0m\u001b[0m\n",
      "\u001b[0;32m~/opt/anaconda3/lib/python3.9/site-packages/sklearn/metrics/pairwise.py\u001b[0m in \u001b[0;36m_parallel_pairwise\u001b[0;34m(X, Y, func, n_jobs, **kwds)\u001b[0m\n\u001b[1;32m   1428\u001b[0m \u001b[0;34m\u001b[0m\u001b[0m\n\u001b[1;32m   1429\u001b[0m     \u001b[0;32mif\u001b[0m \u001b[0meffective_n_jobs\u001b[0m\u001b[0;34m(\u001b[0m\u001b[0mn_jobs\u001b[0m\u001b[0;34m)\u001b[0m \u001b[0;34m==\u001b[0m \u001b[0;36m1\u001b[0m\u001b[0;34m:\u001b[0m\u001b[0;34m\u001b[0m\u001b[0;34m\u001b[0m\u001b[0m\n\u001b[0;32m-> 1430\u001b[0;31m         \u001b[0;32mreturn\u001b[0m \u001b[0mfunc\u001b[0m\u001b[0;34m(\u001b[0m\u001b[0mX\u001b[0m\u001b[0;34m,\u001b[0m \u001b[0mY\u001b[0m\u001b[0;34m,\u001b[0m \u001b[0;34m**\u001b[0m\u001b[0mkwds\u001b[0m\u001b[0;34m)\u001b[0m\u001b[0;34m\u001b[0m\u001b[0;34m\u001b[0m\u001b[0m\n\u001b[0m\u001b[1;32m   1431\u001b[0m \u001b[0;34m\u001b[0m\u001b[0m\n\u001b[1;32m   1432\u001b[0m     \u001b[0;31m# enforce a threading backend to prevent data communication overhead\u001b[0m\u001b[0;34m\u001b[0m\u001b[0;34m\u001b[0m\u001b[0m\n",
      "\u001b[0;32m~/opt/anaconda3/lib/python3.9/site-packages/sklearn/metrics/pairwise.py\u001b[0m in \u001b[0;36mcosine_distances\u001b[0;34m(X, Y)\u001b[0m\n\u001b[1;32m    896\u001b[0m     \"\"\"\n\u001b[1;32m    897\u001b[0m     \u001b[0;31m# 1.0 - cosine_similarity(X, Y) without copy\u001b[0m\u001b[0;34m\u001b[0m\u001b[0;34m\u001b[0m\u001b[0m\n\u001b[0;32m--> 898\u001b[0;31m     \u001b[0mS\u001b[0m \u001b[0;34m=\u001b[0m \u001b[0mcosine_similarity\u001b[0m\u001b[0;34m(\u001b[0m\u001b[0mX\u001b[0m\u001b[0;34m,\u001b[0m \u001b[0mY\u001b[0m\u001b[0;34m)\u001b[0m\u001b[0;34m\u001b[0m\u001b[0;34m\u001b[0m\u001b[0m\n\u001b[0m\u001b[1;32m    899\u001b[0m     \u001b[0mS\u001b[0m \u001b[0;34m*=\u001b[0m \u001b[0;34m-\u001b[0m\u001b[0;36m1\u001b[0m\u001b[0;34m\u001b[0m\u001b[0;34m\u001b[0m\u001b[0m\n\u001b[1;32m    900\u001b[0m     \u001b[0mS\u001b[0m \u001b[0;34m+=\u001b[0m \u001b[0;36m1\u001b[0m\u001b[0;34m\u001b[0m\u001b[0;34m\u001b[0m\u001b[0m\n",
      "\u001b[0;32m~/opt/anaconda3/lib/python3.9/site-packages/sklearn/metrics/pairwise.py\u001b[0m in \u001b[0;36mcosine_similarity\u001b[0;34m(X, Y, dense_output)\u001b[0m\n\u001b[1;32m   1257\u001b[0m         \u001b[0mY_normalized\u001b[0m \u001b[0;34m=\u001b[0m \u001b[0mnormalize\u001b[0m\u001b[0;34m(\u001b[0m\u001b[0mY\u001b[0m\u001b[0;34m,\u001b[0m \u001b[0mcopy\u001b[0m\u001b[0;34m=\u001b[0m\u001b[0;32mTrue\u001b[0m\u001b[0;34m)\u001b[0m\u001b[0;34m\u001b[0m\u001b[0;34m\u001b[0m\u001b[0m\n\u001b[1;32m   1258\u001b[0m \u001b[0;34m\u001b[0m\u001b[0m\n\u001b[0;32m-> 1259\u001b[0;31m     \u001b[0mK\u001b[0m \u001b[0;34m=\u001b[0m \u001b[0msafe_sparse_dot\u001b[0m\u001b[0;34m(\u001b[0m\u001b[0mX_normalized\u001b[0m\u001b[0;34m,\u001b[0m \u001b[0mY_normalized\u001b[0m\u001b[0;34m.\u001b[0m\u001b[0mT\u001b[0m\u001b[0;34m,\u001b[0m \u001b[0mdense_output\u001b[0m\u001b[0;34m=\u001b[0m\u001b[0mdense_output\u001b[0m\u001b[0;34m)\u001b[0m\u001b[0;34m\u001b[0m\u001b[0;34m\u001b[0m\u001b[0m\n\u001b[0m\u001b[1;32m   1260\u001b[0m \u001b[0;34m\u001b[0m\u001b[0m\n\u001b[1;32m   1261\u001b[0m     \u001b[0;32mreturn\u001b[0m \u001b[0mK\u001b[0m\u001b[0;34m\u001b[0m\u001b[0;34m\u001b[0m\u001b[0m\n",
      "\u001b[0;32m~/opt/anaconda3/lib/python3.9/site-packages/sklearn/utils/extmath.py\u001b[0m in \u001b[0;36msafe_sparse_dot\u001b[0;34m(a, b, dense_output)\u001b[0m\n\u001b[1;32m    151\u001b[0m             \u001b[0mret\u001b[0m \u001b[0;34m=\u001b[0m \u001b[0mnp\u001b[0m\u001b[0;34m.\u001b[0m\u001b[0mdot\u001b[0m\u001b[0;34m(\u001b[0m\u001b[0ma\u001b[0m\u001b[0;34m,\u001b[0m \u001b[0mb\u001b[0m\u001b[0;34m)\u001b[0m\u001b[0;34m\u001b[0m\u001b[0;34m\u001b[0m\u001b[0m\n\u001b[1;32m    152\u001b[0m     \u001b[0;32melse\u001b[0m\u001b[0;34m:\u001b[0m\u001b[0;34m\u001b[0m\u001b[0;34m\u001b[0m\u001b[0m\n\u001b[0;32m--> 153\u001b[0;31m         \u001b[0mret\u001b[0m \u001b[0;34m=\u001b[0m \u001b[0ma\u001b[0m \u001b[0;34m@\u001b[0m \u001b[0mb\u001b[0m\u001b[0;34m\u001b[0m\u001b[0;34m\u001b[0m\u001b[0m\n\u001b[0m\u001b[1;32m    154\u001b[0m \u001b[0;34m\u001b[0m\u001b[0m\n\u001b[1;32m    155\u001b[0m     if (\n",
      "\u001b[0;32m~/opt/anaconda3/lib/python3.9/site-packages/scipy/sparse/_base.py\u001b[0m in \u001b[0;36m__matmul__\u001b[0;34m(self, other)\u001b[0m\n\u001b[1;32m    628\u001b[0m             raise ValueError(\"Scalar operands are not allowed, \"\n\u001b[1;32m    629\u001b[0m                              \"use '*' instead\")\n\u001b[0;32m--> 630\u001b[0;31m         \u001b[0;32mreturn\u001b[0m \u001b[0mself\u001b[0m\u001b[0;34m.\u001b[0m\u001b[0m_mul_dispatch\u001b[0m\u001b[0;34m(\u001b[0m\u001b[0mother\u001b[0m\u001b[0;34m)\u001b[0m\u001b[0;34m\u001b[0m\u001b[0;34m\u001b[0m\u001b[0m\n\u001b[0m\u001b[1;32m    631\u001b[0m \u001b[0;34m\u001b[0m\u001b[0m\n\u001b[1;32m    632\u001b[0m     \u001b[0;32mdef\u001b[0m \u001b[0m__rmatmul__\u001b[0m\u001b[0;34m(\u001b[0m\u001b[0mself\u001b[0m\u001b[0;34m,\u001b[0m \u001b[0mother\u001b[0m\u001b[0;34m)\u001b[0m\u001b[0;34m:\u001b[0m\u001b[0;34m\u001b[0m\u001b[0;34m\u001b[0m\u001b[0m\n",
      "\u001b[0;32m~/opt/anaconda3/lib/python3.9/site-packages/scipy/sparse/_base.py\u001b[0m in \u001b[0;36m_mul_dispatch\u001b[0;34m(self, other)\u001b[0m\n\u001b[1;32m    539\u001b[0m             \u001b[0;32mif\u001b[0m \u001b[0mself\u001b[0m\u001b[0;34m.\u001b[0m\u001b[0mshape\u001b[0m\u001b[0;34m[\u001b[0m\u001b[0;36m1\u001b[0m\u001b[0;34m]\u001b[0m \u001b[0;34m!=\u001b[0m \u001b[0mother\u001b[0m\u001b[0;34m.\u001b[0m\u001b[0mshape\u001b[0m\u001b[0;34m[\u001b[0m\u001b[0;36m0\u001b[0m\u001b[0;34m]\u001b[0m\u001b[0;34m:\u001b[0m\u001b[0;34m\u001b[0m\u001b[0;34m\u001b[0m\u001b[0m\n\u001b[1;32m    540\u001b[0m                 \u001b[0;32mraise\u001b[0m \u001b[0mValueError\u001b[0m\u001b[0;34m(\u001b[0m\u001b[0;34m'dimension mismatch'\u001b[0m\u001b[0;34m)\u001b[0m\u001b[0;34m\u001b[0m\u001b[0;34m\u001b[0m\u001b[0m\n\u001b[0;32m--> 541\u001b[0;31m             \u001b[0;32mreturn\u001b[0m \u001b[0mself\u001b[0m\u001b[0;34m.\u001b[0m\u001b[0m_mul_sparse_matrix\u001b[0m\u001b[0;34m(\u001b[0m\u001b[0mother\u001b[0m\u001b[0;34m)\u001b[0m\u001b[0;34m\u001b[0m\u001b[0;34m\u001b[0m\u001b[0m\n\u001b[0m\u001b[1;32m    542\u001b[0m \u001b[0;34m\u001b[0m\u001b[0m\n\u001b[1;32m    543\u001b[0m         \u001b[0;31m# If it's a list or whatever, treat it like a matrix\u001b[0m\u001b[0;34m\u001b[0m\u001b[0;34m\u001b[0m\u001b[0m\n",
      "\u001b[0;32m~/opt/anaconda3/lib/python3.9/site-packages/scipy/sparse/_compressed.py\u001b[0m in \u001b[0;36m_mul_sparse_matrix\u001b[0;34m(self, other)\u001b[0m\n\u001b[1;32m    510\u001b[0m \u001b[0;34m\u001b[0m\u001b[0m\n\u001b[1;32m    511\u001b[0m         \u001b[0mmajor_axis\u001b[0m \u001b[0;34m=\u001b[0m \u001b[0mself\u001b[0m\u001b[0;34m.\u001b[0m\u001b[0m_swap\u001b[0m\u001b[0;34m(\u001b[0m\u001b[0;34m(\u001b[0m\u001b[0mM\u001b[0m\u001b[0;34m,\u001b[0m \u001b[0mN\u001b[0m\u001b[0;34m)\u001b[0m\u001b[0;34m)\u001b[0m\u001b[0;34m[\u001b[0m\u001b[0;36m0\u001b[0m\u001b[0;34m]\u001b[0m\u001b[0;34m\u001b[0m\u001b[0;34m\u001b[0m\u001b[0m\n\u001b[0;32m--> 512\u001b[0;31m         \u001b[0mother\u001b[0m \u001b[0;34m=\u001b[0m \u001b[0mself\u001b[0m\u001b[0;34m.\u001b[0m\u001b[0m__class__\u001b[0m\u001b[0;34m(\u001b[0m\u001b[0mother\u001b[0m\u001b[0;34m)\u001b[0m  \u001b[0;31m# convert to this format\u001b[0m\u001b[0;34m\u001b[0m\u001b[0;34m\u001b[0m\u001b[0m\n\u001b[0m\u001b[1;32m    513\u001b[0m \u001b[0;34m\u001b[0m\u001b[0m\n\u001b[1;32m    514\u001b[0m         idx_dtype = get_index_dtype((self.indptr, self.indices,\n",
      "\u001b[0;32m~/opt/anaconda3/lib/python3.9/site-packages/scipy/sparse/_compressed.py\u001b[0m in \u001b[0;36m__init__\u001b[0;34m(self, arg1, shape, dtype, copy)\u001b[0m\n\u001b[1;32m     31\u001b[0m                 \u001b[0marg1\u001b[0m \u001b[0;34m=\u001b[0m \u001b[0marg1\u001b[0m\u001b[0;34m.\u001b[0m\u001b[0mcopy\u001b[0m\u001b[0;34m(\u001b[0m\u001b[0;34m)\u001b[0m\u001b[0;34m\u001b[0m\u001b[0;34m\u001b[0m\u001b[0m\n\u001b[1;32m     32\u001b[0m             \u001b[0;32melse\u001b[0m\u001b[0;34m:\u001b[0m\u001b[0;34m\u001b[0m\u001b[0;34m\u001b[0m\u001b[0m\n\u001b[0;32m---> 33\u001b[0;31m                 \u001b[0marg1\u001b[0m \u001b[0;34m=\u001b[0m \u001b[0marg1\u001b[0m\u001b[0;34m.\u001b[0m\u001b[0masformat\u001b[0m\u001b[0;34m(\u001b[0m\u001b[0mself\u001b[0m\u001b[0;34m.\u001b[0m\u001b[0mformat\u001b[0m\u001b[0;34m)\u001b[0m\u001b[0;34m\u001b[0m\u001b[0;34m\u001b[0m\u001b[0m\n\u001b[0m\u001b[1;32m     34\u001b[0m             \u001b[0mself\u001b[0m\u001b[0;34m.\u001b[0m\u001b[0m_set_self\u001b[0m\u001b[0;34m(\u001b[0m\u001b[0marg1\u001b[0m\u001b[0;34m)\u001b[0m\u001b[0;34m\u001b[0m\u001b[0;34m\u001b[0m\u001b[0m\n\u001b[1;32m     35\u001b[0m \u001b[0;34m\u001b[0m\u001b[0m\n",
      "\u001b[0;32m~/opt/anaconda3/lib/python3.9/site-packages/scipy/sparse/_base.py\u001b[0m in \u001b[0;36masformat\u001b[0;34m(self, format, copy)\u001b[0m\n\u001b[1;32m    374\u001b[0m             \u001b[0;31m# Forward the copy kwarg, if it's accepted.\u001b[0m\u001b[0;34m\u001b[0m\u001b[0;34m\u001b[0m\u001b[0m\n\u001b[1;32m    375\u001b[0m             \u001b[0;32mtry\u001b[0m\u001b[0;34m:\u001b[0m\u001b[0;34m\u001b[0m\u001b[0;34m\u001b[0m\u001b[0m\n\u001b[0;32m--> 376\u001b[0;31m                 \u001b[0;32mreturn\u001b[0m \u001b[0mconvert_method\u001b[0m\u001b[0;34m(\u001b[0m\u001b[0mcopy\u001b[0m\u001b[0;34m=\u001b[0m\u001b[0mcopy\u001b[0m\u001b[0;34m)\u001b[0m\u001b[0;34m\u001b[0m\u001b[0;34m\u001b[0m\u001b[0m\n\u001b[0m\u001b[1;32m    377\u001b[0m             \u001b[0;32mexcept\u001b[0m \u001b[0mTypeError\u001b[0m\u001b[0;34m:\u001b[0m\u001b[0;34m\u001b[0m\u001b[0;34m\u001b[0m\u001b[0m\n\u001b[1;32m    378\u001b[0m                 \u001b[0;32mreturn\u001b[0m \u001b[0mconvert_method\u001b[0m\u001b[0;34m(\u001b[0m\u001b[0;34m)\u001b[0m\u001b[0;34m\u001b[0m\u001b[0;34m\u001b[0m\u001b[0m\n",
      "\u001b[0;32m~/opt/anaconda3/lib/python3.9/site-packages/scipy/sparse/_csc.py\u001b[0m in \u001b[0;36mtocsr\u001b[0;34m(self, copy)\u001b[0m\n\u001b[1;32m    138\u001b[0m         \u001b[0mdata\u001b[0m \u001b[0;34m=\u001b[0m \u001b[0mnp\u001b[0m\u001b[0;34m.\u001b[0m\u001b[0mempty\u001b[0m\u001b[0;34m(\u001b[0m\u001b[0mself\u001b[0m\u001b[0;34m.\u001b[0m\u001b[0mnnz\u001b[0m\u001b[0;34m,\u001b[0m \u001b[0mdtype\u001b[0m\u001b[0;34m=\u001b[0m\u001b[0mupcast\u001b[0m\u001b[0;34m(\u001b[0m\u001b[0mself\u001b[0m\u001b[0;34m.\u001b[0m\u001b[0mdtype\u001b[0m\u001b[0;34m)\u001b[0m\u001b[0;34m)\u001b[0m\u001b[0;34m\u001b[0m\u001b[0;34m\u001b[0m\u001b[0m\n\u001b[1;32m    139\u001b[0m \u001b[0;34m\u001b[0m\u001b[0m\n\u001b[0;32m--> 140\u001b[0;31m         csc_tocsr(M, N,\n\u001b[0m\u001b[1;32m    141\u001b[0m                   \u001b[0mself\u001b[0m\u001b[0;34m.\u001b[0m\u001b[0mindptr\u001b[0m\u001b[0;34m.\u001b[0m\u001b[0mastype\u001b[0m\u001b[0;34m(\u001b[0m\u001b[0midx_dtype\u001b[0m\u001b[0;34m)\u001b[0m\u001b[0;34m,\u001b[0m\u001b[0;34m\u001b[0m\u001b[0;34m\u001b[0m\u001b[0m\n\u001b[1;32m    142\u001b[0m                   \u001b[0mself\u001b[0m\u001b[0;34m.\u001b[0m\u001b[0mindices\u001b[0m\u001b[0;34m.\u001b[0m\u001b[0mastype\u001b[0m\u001b[0;34m(\u001b[0m\u001b[0midx_dtype\u001b[0m\u001b[0;34m)\u001b[0m\u001b[0;34m,\u001b[0m\u001b[0;34m\u001b[0m\u001b[0;34m\u001b[0m\u001b[0m\n",
      "\u001b[0;31mKeyboardInterrupt\u001b[0m: "
     ]
    }
   ],
   "source": [
    "# predict for like & response\n",
    "\n",
    "user_preds_like_response = {}\n",
    "i = 0\n",
    "\n",
    "for user_id in train['user_id'].unique():\n",
    "    i += 1\n",
    "    if i % 500 == 0:\n",
    "        print(i)\n",
    "    user_data = train[train['user_id'] == user_id]\n",
    "    user_preds_like_response[user_id] = {}\n",
    "    \n",
    "    for vacancy_id in user_data['vacancy_id_like_response']:\n",
    "        for vacancy_id in vacancy_id:\n",
    "            if vacancy_id in df['vacancy_id'].values:\n",
    "                query = vectorizer.transform(df[df['vacancy_id'] == vacancy_id]['keySkills_str'])\n",
    "                distances, indices = knn_model.kneighbors(query)\n",
    "                user_preds_like_response[user_id][vacancy_id] = df.iloc[indices[0]].to_dict(orient='records')\n",
    "        else:\n",
    "            if vacancy_id in df['vacancy_id'].values:\n",
    "                query = vectorizer.transform(df[df['vacancy_id'] == vacancy_id]['keySkills_str'])\n",
    "                distances, indices = knn_model.kneighbors(query)\n",
    "                user_preds_like_response[user_id][vacancy_id] = df.iloc[indices[0]].to_dict(orient='records')"
   ]
  },
  {
   "cell_type": "code",
   "execution_count": 111,
   "id": "8a52e711",
   "metadata": {},
   "outputs": [
    {
     "data": {
      "text/plain": [
       "1506"
      ]
     },
     "execution_count": 111,
     "metadata": {},
     "output_type": "execute_result"
    }
   ],
   "source": [
    "len(user_preds_like_response.keys())"
   ]
  },
  {
   "cell_type": "code",
   "execution_count": 60,
   "id": "f36d1064",
   "metadata": {},
   "outputs": [],
   "source": [
    "import json\n",
    "path = 'skills_train_preds_knn.json'\n",
    "\n",
    "with open(path, 'w') as file:\n",
    "    json.dump(user_preds, file, indent=4)"
   ]
  },
  {
   "cell_type": "code",
   "execution_count": 68,
   "id": "b260e627",
   "metadata": {},
   "outputs": [],
   "source": [
    "train['action_type_update'] = train['action_type'].apply(lambda x: [int(i) for i in x.strip(\"[]\").split(\",\")])"
   ]
  },
  {
   "cell_type": "code",
   "execution_count": 71,
   "id": "cd8704cd",
   "metadata": {},
   "outputs": [
    {
     "data": {
      "text/plain": [
       "int"
      ]
     },
     "execution_count": 71,
     "metadata": {},
     "output_type": "execute_result"
    }
   ],
   "source": [
    "type(train['action_t ype_update'][0][0])"
   ]
  },
  {
   "cell_type": "code",
   "execution_count": null,
   "id": "11082d34",
   "metadata": {},
   "outputs": [],
   "source": [
    "# дропнула из вакансий персонажей, у которых в keySkills стояло NaN"
   ]
  }
 ],
 "metadata": {
  "kernelspec": {
   "display_name": "Python 3 (ipykernel)",
   "language": "python",
   "name": "python3"
  },
  "language_info": {
   "codemirror_mode": {
    "name": "ipython",
    "version": 3
   },
   "file_extension": ".py",
   "mimetype": "text/x-python",
   "name": "python",
   "nbconvert_exporter": "python",
   "pygments_lexer": "ipython3",
   "version": "3.9.13"
  }
 },
 "nbformat": 4,
 "nbformat_minor": 5
}
